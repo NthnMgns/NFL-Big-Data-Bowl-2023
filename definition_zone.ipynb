{
 "cells": [
  {
   "cell_type": "code",
   "execution_count": 1,
   "metadata": {},
   "outputs": [
    {
     "name": "stdout",
     "output_type": "stream",
     "text": [
      "Path:  /home/aschortgen/Documents/Divers/NFL-Big-Data-Bowl-2023/data/week1.csv\n",
      "Filename:  /home/aschortgen/Documents/Divers/NFL-Big-Data-Bowl-2023/data/week1.csv\n",
      "Path:  /home/aschortgen/Documents/Divers/NFL-Big-Data-Bowl-2023/data/players.csv\n",
      "Filename:  /home/aschortgen/Documents/Divers/NFL-Big-Data-Bowl-2023/data/players.csv\n",
      "Path:  /home/aschortgen/Documents/Divers/NFL-Big-Data-Bowl-2023/data/week4.csv\n",
      "Filename:  /home/aschortgen/Documents/Divers/NFL-Big-Data-Bowl-2023/data/week4.csv\n",
      "Path:  /home/aschortgen/Documents/Divers/NFL-Big-Data-Bowl-2023/data/week2.csv\n",
      "Filename:  /home/aschortgen/Documents/Divers/NFL-Big-Data-Bowl-2023/data/week2.csv\n",
      "Path:  /home/aschortgen/Documents/Divers/NFL-Big-Data-Bowl-2023/data/games.csv\n",
      "Filename:  /home/aschortgen/Documents/Divers/NFL-Big-Data-Bowl-2023/data/games.csv\n",
      "Path:  /home/aschortgen/Documents/Divers/NFL-Big-Data-Bowl-2023/data/week5.csv\n",
      "Filename:  /home/aschortgen/Documents/Divers/NFL-Big-Data-Bowl-2023/data/week5.csv\n",
      "Path:  /home/aschortgen/Documents/Divers/NFL-Big-Data-Bowl-2023/data/pffScoutingData.csv\n",
      "Filename:  /home/aschortgen/Documents/Divers/NFL-Big-Data-Bowl-2023/data/pffScoutingData.csv\n",
      "Path:  /home/aschortgen/Documents/Divers/NFL-Big-Data-Bowl-2023/data/week6.csv\n",
      "Filename:  /home/aschortgen/Documents/Divers/NFL-Big-Data-Bowl-2023/data/week6.csv\n",
      "Path:  /home/aschortgen/Documents/Divers/NFL-Big-Data-Bowl-2023/data/week7.csv\n",
      "Filename:  /home/aschortgen/Documents/Divers/NFL-Big-Data-Bowl-2023/data/week7.csv\n",
      "Path:  /home/aschortgen/Documents/Divers/NFL-Big-Data-Bowl-2023/data/week3.csv\n",
      "Filename:  /home/aschortgen/Documents/Divers/NFL-Big-Data-Bowl-2023/data/week3.csv\n",
      "Path:  /home/aschortgen/Documents/Divers/NFL-Big-Data-Bowl-2023/data/plays.csv\n",
      "Filename:  /home/aschortgen/Documents/Divers/NFL-Big-Data-Bowl-2023/data/plays.csv\n",
      "Path:  /home/aschortgen/Documents/Divers/NFL-Big-Data-Bowl-2023/data/week8.csv\n",
      "Filename:  /home/aschortgen/Documents/Divers/NFL-Big-Data-Bowl-2023/data/week8.csv\n"
     ]
    }
   ],
   "source": [
    "import pandas as pd \n",
    "import os \n",
    "import sys\n",
    "\n",
    "sys.path.insert(0, os.getcwd() + '/code')\n",
    "from viz import animate_play\n",
    "from helper_functions import compute_orientation, face2face"
   ]
  },
  {
   "cell_type": "code",
   "execution_count": 2,
   "metadata": {},
   "outputs": [],
   "source": [
    "df_game = pd.read_csv(\"data/games.csv\")\n",
    "df_tracking = pd.read_csv(\"data/week1.csv\")\n",
    "df_play = pd.read_csv(\"data/plays.csv\")\n",
    "df_players = pd.read_csv(\"data/players.csv\")\n",
    "df_pffScoutingData = pd.read_csv(\"data/pffScoutingData.csv\")"
   ]
  },
  {
   "cell_type": "code",
   "execution_count": 3,
   "metadata": {},
   "outputs": [
    {
     "name": "stdout",
     "output_type": "stream",
     "text": [
      "<bound method NDFrame.head of              gameId  playId    nflId  frameId                     time  \\\n",
      "0        2021090900      97  25511.0        1  2021-09-10T00:26:31.100   \n",
      "1        2021090900      97  25511.0        2  2021-09-10T00:26:31.200   \n",
      "2        2021090900      97  25511.0        3  2021-09-10T00:26:31.300   \n",
      "3        2021090900      97  25511.0        4  2021-09-10T00:26:31.400   \n",
      "4        2021090900      97  25511.0        5  2021-09-10T00:26:31.500   \n",
      "...             ...     ...      ...      ...                      ...   \n",
      "1118117  2021091300    4845      NaN       30  2021-09-14T03:54:20.600   \n",
      "1118118  2021091300    4845      NaN       31  2021-09-14T03:54:20.700   \n",
      "1118119  2021091300    4845      NaN       32  2021-09-14T03:54:20.800   \n",
      "1118120  2021091300    4845      NaN       33  2021-09-14T03:54:20.900   \n",
      "1118121  2021091300    4845      NaN       34  2021-09-14T03:54:21.000   \n",
      "\n",
      "         jerseyNumber      team playDirection      x      y      s     a  \\\n",
      "0                12.0        TB         right  37.77  24.22   0.29  0.30   \n",
      "1                12.0        TB         right  37.78  24.22   0.23  0.11   \n",
      "2                12.0        TB         right  37.78  24.24   0.16  0.10   \n",
      "3                12.0        TB         right  37.73  24.25   0.15  0.24   \n",
      "4                12.0        TB         right  37.69  24.26   0.25  0.18   \n",
      "...               ...       ...           ...    ...    ...    ...   ...   \n",
      "1118117           NaN  football          left  52.78  25.23   3.58  1.95   \n",
      "1118118           NaN  football          left  50.31  26.46  17.16  0.25   \n",
      "1118119           NaN  football          left  48.66  26.99  17.10  1.05   \n",
      "1118120           NaN  football          left  47.04  27.53  16.98  1.67   \n",
      "1118121           NaN  football          left  45.42  28.08  16.89  1.82   \n",
      "\n",
      "          dis       o     dir         event       o_x       o_y  \n",
      "0        0.03  165.16   84.99          None  0.256121 -0.966645  \n",
      "1        0.02  164.33   92.87          None  0.270096 -0.962833  \n",
      "2        0.01  160.24   68.55          None  0.338081 -0.941117  \n",
      "3        0.06  152.13  296.85          None  0.467467 -0.884011  \n",
      "4        0.04  148.33  287.55          None  0.525026 -0.851086  \n",
      "...       ...     ...     ...           ...       ...       ...  \n",
      "1118117  0.37     NaN     NaN  pass_forward       NaN       NaN  \n",
      "1118118  2.77     NaN     NaN          None       NaN       NaN  \n",
      "1118119  1.73     NaN     NaN          None       NaN       NaN  \n",
      "1118120  1.71     NaN     NaN          None       NaN       NaN  \n",
      "1118121  1.71     NaN     NaN          None       NaN       NaN  \n",
      "\n",
      "[1118122 rows x 18 columns]>\n"
     ]
    }
   ],
   "source": [
    "df_tracking = compute_orientation(df_tracking)\n",
    "print(df_tracking.head())"
   ]
  },
  {
   "cell_type": "code",
   "execution_count": 4,
   "metadata": {},
   "outputs": [],
   "source": [
    "animate_play(df_tracking,df_play,df_players,df_pffScoutingData,2021090900,97).show()"
   ]
  }
 ],
 "metadata": {
  "kernelspec": {
   "display_name": "Python 3.9.13 ('base')",
   "language": "python",
   "name": "python3"
  },
  "language_info": {
   "codemirror_mode": {
    "name": "ipython",
    "version": 3
   },
   "file_extension": ".py",
   "mimetype": "text/x-python",
   "name": "python",
   "nbconvert_exporter": "python",
   "pygments_lexer": "ipython3",
   "version": "3.9.13"
  },
  "orig_nbformat": 4,
  "vscode": {
   "interpreter": {
    "hash": "637840f8cdf645a68612c9b8a0ce367bca1cd67e3939fcc1f9978e1427999ab1"
   }
  }
 },
 "nbformat": 4,
 "nbformat_minor": 2
}
