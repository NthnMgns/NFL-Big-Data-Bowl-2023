{
 "cells": [
  {
   "cell_type": "code",
   "execution_count": 1,
   "metadata": {},
   "outputs": [],
   "source": [
    "import pandas as pd \n",
    "import os \n",
    "import sys\n",
    "\n",
    "sys.path.insert(0, os.getcwd() + '/code')\n",
    "from viz import animate_play"
   ]
  },
  {
   "cell_type": "code",
   "execution_count": 2,
   "metadata": {},
   "outputs": [],
   "source": [
    "df_game = pd.read_csv(\"data/games.csv\")\n",
    "df_tracking = pd.read_csv(\"data/week1.csv\")\n",
    "df_play = pd.read_csv(\"data/plays.csv\")\n",
    "df_players = pd.read_csv(\"data/players.csv\")\n",
    "df_pffScoutingData = pd.read_csv(\"data/pffScoutingData.csv\")"
   ]
  },
  {
   "cell_type": "code",
   "execution_count": 3,
   "metadata": {},
   "outputs": [
    {
     "data": {
      "application/vnd.plotly.v1+json": {
       "config": {
        "plotlyServerURL": "https://plot.ly"
       },
       "data": [
        {
         "hoverinfo": "none",
         "mode": "text",
         "showlegend": false,
         "text": [
          "10",
          "20",
          "30",
          "40",
          "50",
          "40",
          "30",
          "20",
          "10"
         ],
         "textfont": {
          "color": "#ffffff",
          "family": "Courier New, monospace",
          "size": 30
         },
         "type": "scatter",
         "x": [
          20,
          30,
          40,
          50,
          60,
          70,
          80,
          90,
          100
         ],
         "y": [
          5,
          5,
          5,
          5,
          5,
          5,
          5,
          5,
          5
         ]
        },
        {
         "hoverinfo": "none",
         "mode": "text",
         "showlegend": false,
         "text": [
          "10",
          "20",
          "30",
          "40",
          "50",
          "40",
          "30",
          "20",
          "10"
         ],
         "textfont": {
          "color": "#ffffff",
          "family": "Courier New, monospace",
          "size": 30
         },
         "type": "scatter",
         "x": [
          20,
          30,
          40,
          50,
          60,
          70,
          80,
          90,
          100
         ],
         "y": [
          48.5,
          48.5,
          48.5,
          48.5,
          48.5,
          48.5,
          48.5,
          48.5,
          48.5
         ]
        },
        {
         "hoverinfo": "none",
         "line": {
          "color": "blue",
          "dash": "dash"
         },
         "showlegend": false,
         "type": "scatter",
         "x": [
          null,
          null
         ],
         "y": [
          0,
          53.5
         ]
        },
        {
         "hoverinfo": "none",
         "line": {
          "color": "yellow",
          "dash": "dash"
         },
         "showlegend": false,
         "type": "scatter",
         "x": [
          null,
          null
         ],
         "y": [
          0,
          53.5
         ]
        },
        {
         "hoverinfo": "text",
         "hovertext": [
          "nflId:25511.0<br>displayName:Tom Brady<br>Position:QB<br>Role:Pass",
          "nflId:35481.0<br>displayName:Rob Gronkowski<br>Position:TE-L<br>Role:Pass Route",
          "nflId:35634.0<br>displayName:Antonio Brown<br>Position:LWR<br>Role:Pass Route",
          "nflId:39985.0<br>displayName:Giovani Bernard<br>Position:HB-R<br>Role:Pass Route",
          "nflId:40151.0<br>displayName:Ryan Jensen<br>Position:C<br>Role:Pass Block",
          "nflId:41233.0<br>displayName:Mike Evans<br>Position:RWR<br>Role:Pass Route",
          "nflId:42377.0<br>displayName:Donovan Smith<br>Position:LT<br>Role:Pass Block",
          "nflId:42404.0<br>displayName:Ali Marpet<br>Position:LG<br>Role:Pass Block",
          "nflId:44896.0<br>displayName:Chris Godwin<br>Position:SLWR<br>Role:Pass Route",
          "nflId:46163.0<br>displayName:Alex Cappa<br>Position:RG<br>Role:Pass Block",
          "nflId:52421.0<br>displayName:Tristan Wirfs<br>Position:RT<br>Role:Pass Block"
         ],
         "marker": {
          "color": "#D50A0A"
         },
         "mode": "markers",
         "name": "TB",
         "type": "scatter",
         "x": [
          37.77,
          41.08,
          40.99,
          37.54,
          42.18,
          42.01,
          41.55,
          41.95,
          40.09,
          41.42,
          41.15
         ],
         "y": [
          24.22,
          29.15,
          36.74,
          22.26,
          23.97,
          16.19,
          26.89,
          25.66,
          36.72,
          22.63,
          21.36
         ]
        },
        {
         "hoverinfo": "text",
         "hovertext": [
          "nflId:41263.0<br>displayName:Demarcus Lawrence<br>Position:LEO<br>Role:Pass Rush",
          "nflId:42403.0<br>displayName:Randy Gregory<br>Position:ROLB<br>Role:Pass Rush",
          "nflId:43306.0<br>displayName:Keanu Neal<br>Position:ROLB<br>Role:Coverage",
          "nflId:43478.0<br>displayName:Anthony Brown<br>Position:RCB<br>Role:Coverage",
          "nflId:44904.0<br>displayName:Jourdan Lewis<br>Position:SCBR<br>Role:Coverage",
          "nflId:44955.0<br>displayName:Carlos Watkins<br>Position:DRT<br>Role:Pass Rush",
          "nflId:44962.0<br>displayName:Damontae Kazee<br>Position:FS<br>Role:Coverage",
          "nflId:47996.0<br>displayName:Donovan Wilson<br>Position:LILB<br>Role:Coverage",
          "nflId:52459.0<br>displayName:Trevon Diggs<br>Position:LCB<br>Role:Coverage",
          "nflId:53441.0<br>displayName:Micah Parsons<br>Position:LILB<br>Role:Pass Rush",
          "nflId:53504.0<br>displayName:Osa Odighizuwa<br>Position:RE<br>Role:Pass Rush"
         ],
         "marker": {
          "color": "#003594"
         },
         "mode": "markers",
         "name": "DAL",
         "type": "scatter",
         "x": [
          43.66,
          44.03,
          44.59,
          43.49,
          44.5,
          43.47,
          58.6,
          48.36,
          43.5,
          43.71,
          43.69
         ],
         "y": [
          18.7,
          32.69,
          29.62,
          37.55,
          37.78,
          25.14,
          27.33,
          22.8,
          16.27,
          21.88,
          26.67
         ]
        },
        {
         "hoverinfo": "none",
         "marker": {
          "color": "#CBB67C"
         },
         "mode": "markers",
         "name": "football",
         "type": "scatter",
         "x": [
          42.92
         ],
         "y": [
          24.04
         ]
        }
       ],
       "frames": [
        {
         "data": [
          {
           "hoverinfo": "none",
           "mode": "text",
           "showlegend": false,
           "text": [
            "10",
            "20",
            "30",
            "40",
            "50",
            "40",
            "30",
            "20",
            "10"
           ],
           "textfont": {
            "color": "#ffffff",
            "family": "Courier New, monospace",
            "size": 30
           },
           "type": "scatter",
           "x": [
            20,
            30,
            40,
            50,
            60,
            70,
            80,
            90,
            100
           ],
           "y": [
            5,
            5,
            5,
            5,
            5,
            5,
            5,
            5,
            5
           ]
          },
          {
           "hoverinfo": "none",
           "mode": "text",
           "showlegend": false,
           "text": [
            "10",
            "20",
            "30",
            "40",
            "50",
            "40",
            "30",
            "20",
            "10"
           ],
           "textfont": {
            "color": "#ffffff",
            "family": "Courier New, monospace",
            "size": 30
           },
           "type": "scatter",
           "x": [
            20,
            30,
            40,
            50,
            60,
            70,
            80,
            90,
            100
           ],
           "y": [
            48.5,
            48.5,
            48.5,
            48.5,
            48.5,
            48.5,
            48.5,
            48.5,
            48.5
           ]
          },
          {
           "hoverinfo": "none",
           "line": {
            "color": "blue",
            "dash": "dash"
           },
           "showlegend": false,
           "type": "scatter",
           "x": [
            null,
            null
           ],
           "y": [
            0,
            53.5
           ]
          },
          {
           "hoverinfo": "none",
           "line": {
            "color": "yellow",
            "dash": "dash"
           },
           "showlegend": false,
           "type": "scatter",
           "x": [
            null,
            null
           ],
           "y": [
            0,
            53.5
           ]
          },
          {
           "hoverinfo": "text",
           "hovertext": [
            "nflId:25511.0<br>displayName:Tom Brady<br>Position:QB<br>Role:Pass",
            "nflId:35481.0<br>displayName:Rob Gronkowski<br>Position:TE-L<br>Role:Pass Route",
            "nflId:35634.0<br>displayName:Antonio Brown<br>Position:LWR<br>Role:Pass Route",
            "nflId:39985.0<br>displayName:Giovani Bernard<br>Position:HB-R<br>Role:Pass Route",
            "nflId:40151.0<br>displayName:Ryan Jensen<br>Position:C<br>Role:Pass Block",
            "nflId:41233.0<br>displayName:Mike Evans<br>Position:RWR<br>Role:Pass Route",
            "nflId:42377.0<br>displayName:Donovan Smith<br>Position:LT<br>Role:Pass Block",
            "nflId:42404.0<br>displayName:Ali Marpet<br>Position:LG<br>Role:Pass Block",
            "nflId:44896.0<br>displayName:Chris Godwin<br>Position:SLWR<br>Role:Pass Route",
            "nflId:46163.0<br>displayName:Alex Cappa<br>Position:RG<br>Role:Pass Block",
            "nflId:52421.0<br>displayName:Tristan Wirfs<br>Position:RT<br>Role:Pass Block"
           ],
           "marker": {
            "color": "#D50A0A"
           },
           "mode": "markers",
           "name": "TB",
           "type": "scatter",
           "x": [
            37.78,
            41.34,
            40.99,
            37.55,
            42.16,
            42.02,
            41.54,
            41.95,
            40.08,
            41.42,
            41.14
           ],
           "y": [
            24.22,
            29.45,
            36.73,
            22.25,
            23.97,
            16.19,
            26.88,
            25.66,
            36.37,
            22.62,
            21.36
           ]
          },
          {
           "hoverinfo": "text",
           "hovertext": [
            "nflId:41263.0<br>displayName:Demarcus Lawrence<br>Position:LEO<br>Role:Pass Rush",
            "nflId:42403.0<br>displayName:Randy Gregory<br>Position:ROLB<br>Role:Pass Rush",
            "nflId:43306.0<br>displayName:Keanu Neal<br>Position:ROLB<br>Role:Coverage",
            "nflId:43478.0<br>displayName:Anthony Brown<br>Position:RCB<br>Role:Coverage",
            "nflId:44904.0<br>displayName:Jourdan Lewis<br>Position:SCBR<br>Role:Coverage",
            "nflId:44955.0<br>displayName:Carlos Watkins<br>Position:DRT<br>Role:Pass Rush",
            "nflId:44962.0<br>displayName:Damontae Kazee<br>Position:FS<br>Role:Coverage",
            "nflId:47996.0<br>displayName:Donovan Wilson<br>Position:LILB<br>Role:Coverage",
            "nflId:52459.0<br>displayName:Trevon Diggs<br>Position:LCB<br>Role:Coverage",
            "nflId:53441.0<br>displayName:Micah Parsons<br>Position:LILB<br>Role:Pass Rush",
            "nflId:53504.0<br>displayName:Osa Odighizuwa<br>Position:RE<br>Role:Pass Rush"
           ],
           "marker": {
            "color": "#003594"
           },
           "mode": "markers",
           "name": "DAL",
           "type": "scatter",
           "x": [
            43.62,
            44.02,
            44.58,
            43.53,
            44.54,
            43.46,
            58.65,
            48.29,
            43.47,
            43.71,
            43.69
           ],
           "y": [
            18.75,
            32.68,
            29.56,
            37.58,
            37.48,
            25.14,
            27.29,
            22.75,
            16.19,
            21.88,
            26.66
           ]
          },
          {
           "hoverinfo": "none",
           "marker": {
            "color": "#CBB67C"
           },
           "mode": "markers",
           "name": "football",
           "type": "scatter",
           "x": [
            42.23
           ],
           "y": [
            23.91
           ]
          }
         ],
         "name": "2"
        },
        {
         "data": [
          {
           "hoverinfo": "none",
           "mode": "text",
           "showlegend": false,
           "text": [
            "10",
            "20",
            "30",
            "40",
            "50",
            "40",
            "30",
            "20",
            "10"
           ],
           "textfont": {
            "color": "#ffffff",
            "family": "Courier New, monospace",
            "size": 30
           },
           "type": "scatter",
           "x": [
            20,
            30,
            40,
            50,
            60,
            70,
            80,
            90,
            100
           ],
           "y": [
            5,
            5,
            5,
            5,
            5,
            5,
            5,
            5,
            5
           ]
          },
          {
           "hoverinfo": "none",
           "mode": "text",
           "showlegend": false,
           "text": [
            "10",
            "20",
            "30",
            "40",
            "50",
            "40",
            "30",
            "20",
            "10"
           ],
           "textfont": {
            "color": "#ffffff",
            "family": "Courier New, monospace",
            "size": 30
           },
           "type": "scatter",
           "x": [
            20,
            30,
            40,
            50,
            60,
            70,
            80,
            90,
            100
           ],
           "y": [
            48.5,
            48.5,
            48.5,
            48.5,
            48.5,
            48.5,
            48.5,
            48.5,
            48.5
           ]
          },
          {
           "hoverinfo": "none",
           "line": {
            "color": "blue",
            "dash": "dash"
           },
           "showlegend": false,
           "type": "scatter",
           "x": [
            null,
            null
           ],
           "y": [
            0,
            53.5
           ]
          },
          {
           "hoverinfo": "none",
           "line": {
            "color": "yellow",
            "dash": "dash"
           },
           "showlegend": false,
           "type": "scatter",
           "x": [
            null,
            null
           ],
           "y": [
            0,
            53.5
           ]
          },
          {
           "hoverinfo": "text",
           "hovertext": [
            "nflId:25511.0<br>displayName:Tom Brady<br>Position:QB<br>Role:Pass",
            "nflId:35481.0<br>displayName:Rob Gronkowski<br>Position:TE-L<br>Role:Pass Route",
            "nflId:35634.0<br>displayName:Antonio Brown<br>Position:LWR<br>Role:Pass Route",
            "nflId:39985.0<br>displayName:Giovani Bernard<br>Position:HB-R<br>Role:Pass Route",
            "nflId:40151.0<br>displayName:Ryan Jensen<br>Position:C<br>Role:Pass Block",
            "nflId:41233.0<br>displayName:Mike Evans<br>Position:RWR<br>Role:Pass Route",
            "nflId:42377.0<br>displayName:Donovan Smith<br>Position:LT<br>Role:Pass Block",
            "nflId:42404.0<br>displayName:Ali Marpet<br>Position:LG<br>Role:Pass Block",
            "nflId:44896.0<br>displayName:Chris Godwin<br>Position:SLWR<br>Role:Pass Route",
            "nflId:46163.0<br>displayName:Alex Cappa<br>Position:RG<br>Role:Pass Block",
            "nflId:52421.0<br>displayName:Tristan Wirfs<br>Position:RT<br>Role:Pass Block"
           ],
           "marker": {
            "color": "#D50A0A"
           },
           "mode": "markers",
           "name": "TB",
           "type": "scatter",
           "x": [
            37.78,
            41.53,
            40.99,
            37.53,
            42.15,
            42.01,
            41.53,
            41.94,
            40.07,
            41.42,
            41.14
           ],
           "y": [
            24.24,
            29.39,
            36.74,
            22.22,
            23.97,
            16.19,
            26.89,
            25.66,
            36.03,
            22.63,
            21.36
           ]
          },
          {
           "hoverinfo": "text",
           "hovertext": [
            "nflId:41263.0<br>displayName:Demarcus Lawrence<br>Position:LEO<br>Role:Pass Rush",
            "nflId:42403.0<br>displayName:Randy Gregory<br>Position:ROLB<br>Role:Pass Rush",
            "nflId:43306.0<br>displayName:Keanu Neal<br>Position:ROLB<br>Role:Coverage",
            "nflId:43478.0<br>displayName:Anthony Brown<br>Position:RCB<br>Role:Coverage",
            "nflId:44904.0<br>displayName:Jourdan Lewis<br>Position:SCBR<br>Role:Coverage",
            "nflId:44955.0<br>displayName:Carlos Watkins<br>Position:DRT<br>Role:Pass Rush",
            "nflId:44962.0<br>displayName:Damontae Kazee<br>Position:FS<br>Role:Coverage",
            "nflId:47996.0<br>displayName:Donovan Wilson<br>Position:LILB<br>Role:Coverage",
            "nflId:52459.0<br>displayName:Trevon Diggs<br>Position:LCB<br>Role:Coverage",
            "nflId:53441.0<br>displayName:Micah Parsons<br>Position:LILB<br>Role:Pass Rush",
            "nflId:53504.0<br>displayName:Osa Odighizuwa<br>Position:RE<br>Role:Pass Rush"
           ],
           "marker": {
            "color": "#003594"
           },
           "mode": "markers",
           "name": "DAL",
           "type": "scatter",
           "x": [
            43.59,
            43.99,
            44.6,
            43.54,
            44.57,
            43.46,
            58.71,
            48.23,
            43.44,
            43.71,
            43.69
           ],
           "y": [
            18.8,
            32.67,
            29.52,
            37.6,
            37.18,
            25.15,
            27.26,
            22.67,
            16.13,
            21.89,
            26.66
           ]
          },
          {
           "hoverinfo": "none",
           "marker": {
            "color": "#CBB67C"
           },
           "mode": "markers",
           "name": "football",
           "type": "scatter",
           "x": [
            42.17
           ],
           "y": [
            23.89
           ]
          }
         ],
         "name": "3"
        },
        {
         "data": [
          {
           "hoverinfo": "none",
           "mode": "text",
           "showlegend": false,
           "text": [
            "10",
            "20",
            "30",
            "40",
            "50",
            "40",
            "30",
            "20",
            "10"
           ],
           "textfont": {
            "color": "#ffffff",
            "family": "Courier New, monospace",
            "size": 30
           },
           "type": "scatter",
           "x": [
            20,
            30,
            40,
            50,
            60,
            70,
            80,
            90,
            100
           ],
           "y": [
            5,
            5,
            5,
            5,
            5,
            5,
            5,
            5,
            5
           ]
          },
          {
           "hoverinfo": "none",
           "mode": "text",
           "showlegend": false,
           "text": [
            "10",
            "20",
            "30",
            "40",
            "50",
            "40",
            "30",
            "20",
            "10"
           ],
           "textfont": {
            "color": "#ffffff",
            "family": "Courier New, monospace",
            "size": 30
           },
           "type": "scatter",
           "x": [
            20,
            30,
            40,
            50,
            60,
            70,
            80,
            90,
            100
           ],
           "y": [
            48.5,
            48.5,
            48.5,
            48.5,
            48.5,
            48.5,
            48.5,
            48.5,
            48.5
           ]
          },
          {
           "hoverinfo": "none",
           "line": {
            "color": "blue",
            "dash": "dash"
           },
           "showlegend": false,
           "type": "scatter",
           "x": [
            null,
            null
           ],
           "y": [
            0,
            53.5
           ]
          },
          {
           "hoverinfo": "none",
           "line": {
            "color": "yellow",
            "dash": "dash"
           },
           "showlegend": false,
           "type": "scatter",
           "x": [
            null,
            null
           ],
           "y": [
            0,
            53.5
           ]
          },
          {
           "hoverinfo": "text",
           "hovertext": [
            "nflId:25511.0<br>displayName:Tom Brady<br>Position:QB<br>Role:Pass",
            "nflId:35481.0<br>displayName:Rob Gronkowski<br>Position:TE-L<br>Role:Pass Route",
            "nflId:35634.0<br>displayName:Antonio Brown<br>Position:LWR<br>Role:Pass Route",
            "nflId:39985.0<br>displayName:Giovani Bernard<br>Position:HB-R<br>Role:Pass Route",
            "nflId:40151.0<br>displayName:Ryan Jensen<br>Position:C<br>Role:Pass Block",
            "nflId:41233.0<br>displayName:Mike Evans<br>Position:RWR<br>Role:Pass Route",
            "nflId:42377.0<br>displayName:Donovan Smith<br>Position:LT<br>Role:Pass Block",
            "nflId:42404.0<br>displayName:Ali Marpet<br>Position:LG<br>Role:Pass Block",
            "nflId:44896.0<br>displayName:Chris Godwin<br>Position:SLWR<br>Role:Pass Route",
            "nflId:46163.0<br>displayName:Alex Cappa<br>Position:RG<br>Role:Pass Block",
            "nflId:52421.0<br>displayName:Tristan Wirfs<br>Position:RT<br>Role:Pass Block"
           ],
           "marker": {
            "color": "#D50A0A"
           },
           "mode": "markers",
           "name": "TB",
           "type": "scatter",
           "x": [
            37.73,
            41.53,
            40.99,
            37.54,
            42.15,
            42.01,
            41.5,
            41.94,
            40.07,
            41.42,
            41.14
           ],
           "y": [
            24.25,
            29.38,
            36.74,
            22.24,
            23.98,
            16.2,
            26.89,
            25.66,
            35.71,
            22.63,
            21.35
           ]
          },
          {
           "hoverinfo": "text",
           "hovertext": [
            "nflId:41263.0<br>displayName:Demarcus Lawrence<br>Position:LEO<br>Role:Pass Rush",
            "nflId:42403.0<br>displayName:Randy Gregory<br>Position:ROLB<br>Role:Pass Rush",
            "nflId:43306.0<br>displayName:Keanu Neal<br>Position:ROLB<br>Role:Coverage",
            "nflId:43478.0<br>displayName:Anthony Brown<br>Position:RCB<br>Role:Coverage",
            "nflId:44904.0<br>displayName:Jourdan Lewis<br>Position:SCBR<br>Role:Coverage",
            "nflId:44955.0<br>displayName:Carlos Watkins<br>Position:DRT<br>Role:Pass Rush",
            "nflId:44962.0<br>displayName:Damontae Kazee<br>Position:FS<br>Role:Coverage",
            "nflId:47996.0<br>displayName:Donovan Wilson<br>Position:LILB<br>Role:Coverage",
            "nflId:52459.0<br>displayName:Trevon Diggs<br>Position:LCB<br>Role:Coverage",
            "nflId:53441.0<br>displayName:Micah Parsons<br>Position:LILB<br>Role:Pass Rush",
            "nflId:53504.0<br>displayName:Osa Odighizuwa<br>Position:RE<br>Role:Pass Rush"
           ],
           "marker": {
            "color": "#003594"
           },
           "mode": "markers",
           "name": "DAL",
           "type": "scatter",
           "x": [
            43.52,
            43.98,
            44.63,
            43.59,
            44.58,
            43.44,
            58.78,
            48.19,
            43.41,
            43.7,
            43.7
           ],
           "y": [
            18.83,
            32.66,
            29.43,
            37.65,
            36.9,
            25.14,
            27.23,
            22.6,
            16.06,
            21.91,
            26.66
           ]
          },
          {
           "hoverinfo": "none",
           "marker": {
            "color": "#CBB67C"
           },
           "mode": "markers",
           "name": "football",
           "type": "scatter",
           "x": [
            42.1
           ],
           "y": [
            23.89
           ]
          }
         ],
         "name": "4"
        },
        {
         "data": [
          {
           "hoverinfo": "none",
           "mode": "text",
           "showlegend": false,
           "text": [
            "10",
            "20",
            "30",
            "40",
            "50",
            "40",
            "30",
            "20",
            "10"
           ],
           "textfont": {
            "color": "#ffffff",
            "family": "Courier New, monospace",
            "size": 30
           },
           "type": "scatter",
           "x": [
            20,
            30,
            40,
            50,
            60,
            70,
            80,
            90,
            100
           ],
           "y": [
            5,
            5,
            5,
            5,
            5,
            5,
            5,
            5,
            5
           ]
          },
          {
           "hoverinfo": "none",
           "mode": "text",
           "showlegend": false,
           "text": [
            "10",
            "20",
            "30",
            "40",
            "50",
            "40",
            "30",
            "20",
            "10"
           ],
           "textfont": {
            "color": "#ffffff",
            "family": "Courier New, monospace",
            "size": 30
           },
           "type": "scatter",
           "x": [
            20,
            30,
            40,
            50,
            60,
            70,
            80,
            90,
            100
           ],
           "y": [
            48.5,
            48.5,
            48.5,
            48.5,
            48.5,
            48.5,
            48.5,
            48.5,
            48.5
           ]
          },
          {
           "hoverinfo": "none",
           "line": {
            "color": "blue",
            "dash": "dash"
           },
           "showlegend": false,
           "type": "scatter",
           "x": [
            null,
            null
           ],
           "y": [
            0,
            53.5
           ]
          },
          {
           "hoverinfo": "none",
           "line": {
            "color": "yellow",
            "dash": "dash"
           },
           "showlegend": false,
           "type": "scatter",
           "x": [
            null,
            null
           ],
           "y": [
            0,
            53.5
           ]
          },
          {
           "hoverinfo": "text",
           "hovertext": [
            "nflId:25511.0<br>displayName:Tom Brady<br>Position:QB<br>Role:Pass",
            "nflId:35481.0<br>displayName:Rob Gronkowski<br>Position:TE-L<br>Role:Pass Route",
            "nflId:35634.0<br>displayName:Antonio Brown<br>Position:LWR<br>Role:Pass Route",
            "nflId:39985.0<br>displayName:Giovani Bernard<br>Position:HB-R<br>Role:Pass Route",
            "nflId:40151.0<br>displayName:Ryan Jensen<br>Position:C<br>Role:Pass Block",
            "nflId:41233.0<br>displayName:Mike Evans<br>Position:RWR<br>Role:Pass Route",
            "nflId:42377.0<br>displayName:Donovan Smith<br>Position:LT<br>Role:Pass Block",
            "nflId:42404.0<br>displayName:Ali Marpet<br>Position:LG<br>Role:Pass Block",
            "nflId:44896.0<br>displayName:Chris Godwin<br>Position:SLWR<br>Role:Pass Route",
            "nflId:46163.0<br>displayName:Alex Cappa<br>Position:RG<br>Role:Pass Block",
            "nflId:52421.0<br>displayName:Tristan Wirfs<br>Position:RT<br>Role:Pass Block"
           ],
           "marker": {
            "color": "#D50A0A"
           },
           "mode": "markers",
           "name": "TB",
           "type": "scatter",
           "x": [
            37.69,
            41.54,
            41.01,
            37.56,
            42.14,
            42.01,
            41.46,
            41.94,
            40.11,
            41.42,
            41.13
           ],
           "y": [
            24.26,
            29.36,
            36.75,
            22.26,
            23.99,
            16.2,
            26.91,
            25.65,
            35.39,
            22.63,
            21.34
           ]
          },
          {
           "hoverinfo": "text",
           "hovertext": [
            "nflId:41263.0<br>displayName:Demarcus Lawrence<br>Position:LEO<br>Role:Pass Rush",
            "nflId:42403.0<br>displayName:Randy Gregory<br>Position:ROLB<br>Role:Pass Rush",
            "nflId:43306.0<br>displayName:Keanu Neal<br>Position:ROLB<br>Role:Coverage",
            "nflId:43478.0<br>displayName:Anthony Brown<br>Position:RCB<br>Role:Coverage",
            "nflId:44904.0<br>displayName:Jourdan Lewis<br>Position:SCBR<br>Role:Coverage",
            "nflId:44955.0<br>displayName:Carlos Watkins<br>Position:DRT<br>Role:Pass Rush",
            "nflId:44962.0<br>displayName:Damontae Kazee<br>Position:FS<br>Role:Coverage",
            "nflId:47996.0<br>displayName:Donovan Wilson<br>Position:LILB<br>Role:Coverage",
            "nflId:52459.0<br>displayName:Trevon Diggs<br>Position:LCB<br>Role:Coverage",
            "nflId:53441.0<br>displayName:Micah Parsons<br>Position:LILB<br>Role:Pass Rush",
            "nflId:53504.0<br>displayName:Osa Odighizuwa<br>Position:RE<br>Role:Pass Rush"
           ],
           "marker": {
            "color": "#003594"
           },
           "mode": "markers",
           "name": "DAL",
           "type": "scatter",
           "x": [
            43.41,
            43.96,
            44.65,
            43.61,
            44.6,
            43.41,
            58.88,
            48.13,
            43.38,
            43.69,
            43.7
           ],
           "y": [
            18.87,
            32.65,
            29.41,
            37.61,
            36.62,
            25.16,
            27.2,
            22.53,
            15.98,
            21.92,
            26.66
           ]
          },
          {
           "hoverinfo": "none",
           "marker": {
            "color": "#CBB67C"
           },
           "mode": "markers",
           "name": "football",
           "type": "scatter",
           "x": [
            41.82
           ],
           "y": [
            23.91
           ]
          }
         ],
         "name": "5"
        },
        {
         "data": [
          {
           "hoverinfo": "none",
           "mode": "text",
           "showlegend": false,
           "text": [
            "10",
            "20",
            "30",
            "40",
            "50",
            "40",
            "30",
            "20",
            "10"
           ],
           "textfont": {
            "color": "#ffffff",
            "family": "Courier New, monospace",
            "size": 30
           },
           "type": "scatter",
           "x": [
            20,
            30,
            40,
            50,
            60,
            70,
            80,
            90,
            100
           ],
           "y": [
            5,
            5,
            5,
            5,
            5,
            5,
            5,
            5,
            5
           ]
          },
          {
           "hoverinfo": "none",
           "mode": "text",
           "showlegend": false,
           "text": [
            "10",
            "20",
            "30",
            "40",
            "50",
            "40",
            "30",
            "20",
            "10"
           ],
           "textfont": {
            "color": "#ffffff",
            "family": "Courier New, monospace",
            "size": 30
           },
           "type": "scatter",
           "x": [
            20,
            30,
            40,
            50,
            60,
            70,
            80,
            90,
            100
           ],
           "y": [
            48.5,
            48.5,
            48.5,
            48.5,
            48.5,
            48.5,
            48.5,
            48.5,
            48.5
           ]
          },
          {
           "hoverinfo": "none",
           "line": {
            "color": "blue",
            "dash": "dash"
           },
           "showlegend": false,
           "type": "scatter",
           "x": [
            null,
            null
           ],
           "y": [
            0,
            53.5
           ]
          },
          {
           "hoverinfo": "none",
           "line": {
            "color": "yellow",
            "dash": "dash"
           },
           "showlegend": false,
           "type": "scatter",
           "x": [
            null,
            null
           ],
           "y": [
            0,
            53.5
           ]
          },
          {
           "hoverinfo": "text",
           "hovertext": [
            "nflId:25511.0<br>displayName:Tom Brady<br>Position:QB<br>Role:Pass",
            "nflId:35481.0<br>displayName:Rob Gronkowski<br>Position:TE-L<br>Role:Pass Route",
            "nflId:35634.0<br>displayName:Antonio Brown<br>Position:LWR<br>Role:Pass Route",
            "nflId:39985.0<br>displayName:Giovani Bernard<br>Position:HB-R<br>Role:Pass Route",
            "nflId:40151.0<br>displayName:Ryan Jensen<br>Position:C<br>Role:Pass Block",
            "nflId:41233.0<br>displayName:Mike Evans<br>Position:RWR<br>Role:Pass Route",
            "nflId:42377.0<br>displayName:Donovan Smith<br>Position:LT<br>Role:Pass Block",
            "nflId:42404.0<br>displayName:Ali Marpet<br>Position:LG<br>Role:Pass Block",
            "nflId:44896.0<br>displayName:Chris Godwin<br>Position:SLWR<br>Role:Pass Route",
            "nflId:46163.0<br>displayName:Alex Cappa<br>Position:RG<br>Role:Pass Block",
            "nflId:52421.0<br>displayName:Tristan Wirfs<br>Position:RT<br>Role:Pass Block"
           ],
           "marker": {
            "color": "#D50A0A"
           },
           "mode": "markers",
           "name": "TB",
           "type": "scatter",
           "x": [
            37.64,
            41.65,
            41.04,
            37.55,
            42.1,
            42.01,
            41.38,
            41.93,
            40.16,
            41.41,
            41.11
           ],
           "y": [
            24.26,
            29.34,
            36.77,
            22.27,
            24.02,
            16.2,
            26.92,
            25.65,
            35.09,
            22.63,
            21.31
           ]
          },
          {
           "hoverinfo": "text",
           "hovertext": [
            "nflId:41263.0<br>displayName:Demarcus Lawrence<br>Position:LEO<br>Role:Pass Rush",
            "nflId:42403.0<br>displayName:Randy Gregory<br>Position:ROLB<br>Role:Pass Rush",
            "nflId:43306.0<br>displayName:Keanu Neal<br>Position:ROLB<br>Role:Coverage",
            "nflId:43478.0<br>displayName:Anthony Brown<br>Position:RCB<br>Role:Coverage",
            "nflId:44904.0<br>displayName:Jourdan Lewis<br>Position:SCBR<br>Role:Coverage",
            "nflId:44955.0<br>displayName:Carlos Watkins<br>Position:DRT<br>Role:Pass Rush",
            "nflId:44962.0<br>displayName:Damontae Kazee<br>Position:FS<br>Role:Coverage",
            "nflId:47996.0<br>displayName:Donovan Wilson<br>Position:LILB<br>Role:Coverage",
            "nflId:52459.0<br>displayName:Trevon Diggs<br>Position:LCB<br>Role:Coverage",
            "nflId:53441.0<br>displayName:Micah Parsons<br>Position:LILB<br>Role:Pass Rush",
            "nflId:53504.0<br>displayName:Osa Odighizuwa<br>Position:RE<br>Role:Pass Rush"
           ],
           "marker": {
            "color": "#003594"
           },
           "mode": "markers",
           "name": "DAL",
           "type": "scatter",
           "x": [
            43.3,
            43.9,
            44.68,
            43.61,
            44.61,
            43.35,
            58.99,
            48.07,
            43.35,
            43.68,
            43.7
           ],
           "y": [
            18.89,
            32.63,
            29.35,
            37.62,
            36.36,
            25.18,
            27.18,
            22.41,
            15.88,
            21.93,
            26.67
           ]
          },
          {
           "hoverinfo": "none",
           "marker": {
            "color": "#CBB67C"
           },
           "mode": "markers",
           "name": "football",
           "type": "scatter",
           "x": [
            41.56
           ],
           "y": [
            23.92
           ]
          }
         ],
         "name": "6"
        },
        {
         "data": [
          {
           "hoverinfo": "none",
           "mode": "text",
           "showlegend": false,
           "text": [
            "10",
            "20",
            "30",
            "40",
            "50",
            "40",
            "30",
            "20",
            "10"
           ],
           "textfont": {
            "color": "#ffffff",
            "family": "Courier New, monospace",
            "size": 30
           },
           "type": "scatter",
           "x": [
            20,
            30,
            40,
            50,
            60,
            70,
            80,
            90,
            100
           ],
           "y": [
            5,
            5,
            5,
            5,
            5,
            5,
            5,
            5,
            5
           ]
          },
          {
           "hoverinfo": "none",
           "mode": "text",
           "showlegend": false,
           "text": [
            "10",
            "20",
            "30",
            "40",
            "50",
            "40",
            "30",
            "20",
            "10"
           ],
           "textfont": {
            "color": "#ffffff",
            "family": "Courier New, monospace",
            "size": 30
           },
           "type": "scatter",
           "x": [
            20,
            30,
            40,
            50,
            60,
            70,
            80,
            90,
            100
           ],
           "y": [
            48.5,
            48.5,
            48.5,
            48.5,
            48.5,
            48.5,
            48.5,
            48.5,
            48.5
           ]
          },
          {
           "hoverinfo": "none",
           "line": {
            "color": "blue",
            "dash": "dash"
           },
           "showlegend": false,
           "type": "scatter",
           "x": [
            null,
            null
           ],
           "y": [
            0,
            53.5
           ]
          },
          {
           "hoverinfo": "none",
           "line": {
            "color": "yellow",
            "dash": "dash"
           },
           "showlegend": false,
           "type": "scatter",
           "x": [
            null,
            null
           ],
           "y": [
            0,
            53.5
           ]
          },
          {
           "hoverinfo": "text",
           "hovertext": [
            "nflId:25511.0<br>displayName:Tom Brady<br>Position:QB<br>Role:Pass",
            "nflId:35481.0<br>displayName:Rob Gronkowski<br>Position:TE-L<br>Role:Pass Route",
            "nflId:35634.0<br>displayName:Antonio Brown<br>Position:LWR<br>Role:Pass Route",
            "nflId:39985.0<br>displayName:Giovani Bernard<br>Position:HB-R<br>Role:Pass Route",
            "nflId:40151.0<br>displayName:Ryan Jensen<br>Position:C<br>Role:Pass Block",
            "nflId:41233.0<br>displayName:Mike Evans<br>Position:RWR<br>Role:Pass Route",
            "nflId:42377.0<br>displayName:Donovan Smith<br>Position:LT<br>Role:Pass Block",
            "nflId:42404.0<br>displayName:Ali Marpet<br>Position:LG<br>Role:Pass Block",
            "nflId:44896.0<br>displayName:Chris Godwin<br>Position:SLWR<br>Role:Pass Route",
            "nflId:46163.0<br>displayName:Alex Cappa<br>Position:RG<br>Role:Pass Block",
            "nflId:52421.0<br>displayName:Tristan Wirfs<br>Position:RT<br>Role:Pass Block"
           ],
           "marker": {
            "color": "#D50A0A"
           },
           "mode": "markers",
           "name": "TB",
           "type": "scatter",
           "x": [
            37.56,
            41.75,
            41.1,
            37.59,
            42.03,
            42.02,
            41.28,
            41.92,
            40.22,
            41.4,
            41.07
           ],
           "y": [
            24.26,
            29.36,
            36.82,
            22.31,
            24.06,
            16.21,
            26.95,
            25.65,
            34.81,
            22.64,
            21.27
           ]
          },
          {
           "hoverinfo": "text",
           "hovertext": [
            "nflId:41263.0<br>displayName:Demarcus Lawrence<br>Position:LEO<br>Role:Pass Rush",
            "nflId:42403.0<br>displayName:Randy Gregory<br>Position:ROLB<br>Role:Pass Rush",
            "nflId:43306.0<br>displayName:Keanu Neal<br>Position:ROLB<br>Role:Coverage",
            "nflId:43478.0<br>displayName:Anthony Brown<br>Position:RCB<br>Role:Coverage",
            "nflId:44904.0<br>displayName:Jourdan Lewis<br>Position:SCBR<br>Role:Coverage",
            "nflId:44955.0<br>displayName:Carlos Watkins<br>Position:DRT<br>Role:Pass Rush",
            "nflId:44962.0<br>displayName:Damontae Kazee<br>Position:FS<br>Role:Coverage",
            "nflId:47996.0<br>displayName:Donovan Wilson<br>Position:LILB<br>Role:Coverage",
            "nflId:52459.0<br>displayName:Trevon Diggs<br>Position:LCB<br>Role:Coverage",
            "nflId:53441.0<br>displayName:Micah Parsons<br>Position:LILB<br>Role:Pass Rush",
            "nflId:53504.0<br>displayName:Osa Odighizuwa<br>Position:RE<br>Role:Pass Rush"
           ],
           "marker": {
            "color": "#003594"
           },
           "mode": "markers",
           "name": "DAL",
           "type": "scatter",
           "x": [
            43.19,
            43.83,
            44.71,
            43.63,
            44.61,
            43.28,
            59.12,
            48.01,
            43.33,
            43.62,
            43.67
           ],
           "y": [
            18.91,
            32.62,
            29.26,
            37.64,
            36.12,
            25.2,
            27.17,
            22.29,
            15.81,
            21.96,
            26.67
           ]
          },
          {
           "hoverinfo": "none",
           "marker": {
            "color": "#CBB67C"
           },
           "mode": "markers",
           "name": "football",
           "type": "scatter",
           "x": [
            41.07
           ],
           "y": [
            23.94
           ]
          }
         ],
         "name": "7"
        },
        {
         "data": [
          {
           "hoverinfo": "none",
           "mode": "text",
           "showlegend": false,
           "text": [
            "10",
            "20",
            "30",
            "40",
            "50",
            "40",
            "30",
            "20",
            "10"
           ],
           "textfont": {
            "color": "#ffffff",
            "family": "Courier New, monospace",
            "size": 30
           },
           "type": "scatter",
           "x": [
            20,
            30,
            40,
            50,
            60,
            70,
            80,
            90,
            100
           ],
           "y": [
            5,
            5,
            5,
            5,
            5,
            5,
            5,
            5,
            5
           ]
          },
          {
           "hoverinfo": "none",
           "mode": "text",
           "showlegend": false,
           "text": [
            "10",
            "20",
            "30",
            "40",
            "50",
            "40",
            "30",
            "20",
            "10"
           ],
           "textfont": {
            "color": "#ffffff",
            "family": "Courier New, monospace",
            "size": 30
           },
           "type": "scatter",
           "x": [
            20,
            30,
            40,
            50,
            60,
            70,
            80,
            90,
            100
           ],
           "y": [
            48.5,
            48.5,
            48.5,
            48.5,
            48.5,
            48.5,
            48.5,
            48.5,
            48.5
           ]
          },
          {
           "hoverinfo": "none",
           "line": {
            "color": "blue",
            "dash": "dash"
           },
           "showlegend": false,
           "type": "scatter",
           "x": [
            null,
            null
           ],
           "y": [
            0,
            53.5
           ]
          },
          {
           "hoverinfo": "none",
           "line": {
            "color": "yellow",
            "dash": "dash"
           },
           "showlegend": false,
           "type": "scatter",
           "x": [
            null,
            null
           ],
           "y": [
            0,
            53.5
           ]
          },
          {
           "hoverinfo": "text",
           "hovertext": [
            "nflId:25511.0<br>displayName:Tom Brady<br>Position:QB<br>Role:Pass",
            "nflId:35481.0<br>displayName:Rob Gronkowski<br>Position:TE-L<br>Role:Pass Route",
            "nflId:35634.0<br>displayName:Antonio Brown<br>Position:LWR<br>Role:Pass Route",
            "nflId:39985.0<br>displayName:Giovani Bernard<br>Position:HB-R<br>Role:Pass Route",
            "nflId:40151.0<br>displayName:Ryan Jensen<br>Position:C<br>Role:Pass Block",
            "nflId:41233.0<br>displayName:Mike Evans<br>Position:RWR<br>Role:Pass Route",
            "nflId:42377.0<br>displayName:Donovan Smith<br>Position:LT<br>Role:Pass Block",
            "nflId:42404.0<br>displayName:Ali Marpet<br>Position:LG<br>Role:Pass Block",
            "nflId:44896.0<br>displayName:Chris Godwin<br>Position:SLWR<br>Role:Pass Route",
            "nflId:46163.0<br>displayName:Alex Cappa<br>Position:RG<br>Role:Pass Block",
            "nflId:52421.0<br>displayName:Tristan Wirfs<br>Position:RT<br>Role:Pass Block"
           ],
           "marker": {
            "color": "#D50A0A"
           },
           "mode": "markers",
           "name": "TB",
           "type": "scatter",
           "x": [
            37.47,
            41.87,
            41.2,
            37.6,
            41.95,
            42.03,
            41.14,
            41.89,
            40.34,
            41.37,
            40.99
           ],
           "y": [
            24.25,
            29.42,
            36.9,
            22.33,
            24.1,
            16.22,
            27.01,
            25.65,
            34.55,
            22.66,
            21.21
           ]
          },
          {
           "hoverinfo": "text",
           "hovertext": [
            "nflId:41263.0<br>displayName:Demarcus Lawrence<br>Position:LEO<br>Role:Pass Rush",
            "nflId:42403.0<br>displayName:Randy Gregory<br>Position:ROLB<br>Role:Pass Rush",
            "nflId:43306.0<br>displayName:Keanu Neal<br>Position:ROLB<br>Role:Coverage",
            "nflId:43478.0<br>displayName:Anthony Brown<br>Position:RCB<br>Role:Coverage",
            "nflId:44904.0<br>displayName:Jourdan Lewis<br>Position:SCBR<br>Role:Coverage",
            "nflId:44955.0<br>displayName:Carlos Watkins<br>Position:DRT<br>Role:Pass Rush",
            "nflId:44962.0<br>displayName:Damontae Kazee<br>Position:FS<br>Role:Coverage",
            "nflId:47996.0<br>displayName:Donovan Wilson<br>Position:LILB<br>Role:Coverage",
            "nflId:52459.0<br>displayName:Trevon Diggs<br>Position:LCB<br>Role:Coverage",
            "nflId:53441.0<br>displayName:Micah Parsons<br>Position:LILB<br>Role:Pass Rush",
            "nflId:53504.0<br>displayName:Osa Odighizuwa<br>Position:RE<br>Role:Pass Rush"
           ],
           "marker": {
            "color": "#003594"
           },
           "mode": "markers",
           "name": "DAL",
           "type": "scatter",
           "x": [
            43.03,
            43.68,
            44.72,
            43.7,
            44.62,
            43.13,
            59.28,
            47.96,
            43.34,
            43.52,
            43.62
           ],
           "y": [
            18.93,
            32.54,
            29.19,
            37.64,
            35.89,
            25.25,
            27.16,
            22.17,
            15.76,
            22.01,
            26.69
           ]
          },
          {
           "hoverinfo": "none",
           "marker": {
            "color": "#CBB67C"
           },
           "mode": "markers",
           "name": "football",
           "type": "scatter",
           "x": [
            40.71
           ],
           "y": [
            23.95
           ]
          }
         ],
         "name": "8"
        },
        {
         "data": [
          {
           "hoverinfo": "none",
           "mode": "text",
           "showlegend": false,
           "text": [
            "10",
            "20",
            "30",
            "40",
            "50",
            "40",
            "30",
            "20",
            "10"
           ],
           "textfont": {
            "color": "#ffffff",
            "family": "Courier New, monospace",
            "size": 30
           },
           "type": "scatter",
           "x": [
            20,
            30,
            40,
            50,
            60,
            70,
            80,
            90,
            100
           ],
           "y": [
            5,
            5,
            5,
            5,
            5,
            5,
            5,
            5,
            5
           ]
          },
          {
           "hoverinfo": "none",
           "mode": "text",
           "showlegend": false,
           "text": [
            "10",
            "20",
            "30",
            "40",
            "50",
            "40",
            "30",
            "20",
            "10"
           ],
           "textfont": {
            "color": "#ffffff",
            "family": "Courier New, monospace",
            "size": 30
           },
           "type": "scatter",
           "x": [
            20,
            30,
            40,
            50,
            60,
            70,
            80,
            90,
            100
           ],
           "y": [
            48.5,
            48.5,
            48.5,
            48.5,
            48.5,
            48.5,
            48.5,
            48.5,
            48.5
           ]
          },
          {
           "hoverinfo": "none",
           "line": {
            "color": "blue",
            "dash": "dash"
           },
           "showlegend": false,
           "type": "scatter",
           "x": [
            null,
            null
           ],
           "y": [
            0,
            53.5
           ]
          },
          {
           "hoverinfo": "none",
           "line": {
            "color": "yellow",
            "dash": "dash"
           },
           "showlegend": false,
           "type": "scatter",
           "x": [
            null,
            null
           ],
           "y": [
            0,
            53.5
           ]
          },
          {
           "hoverinfo": "text",
           "hovertext": [
            "nflId:25511.0<br>displayName:Tom Brady<br>Position:QB<br>Role:Pass",
            "nflId:35481.0<br>displayName:Rob Gronkowski<br>Position:TE-L<br>Role:Pass Route",
            "nflId:35634.0<br>displayName:Antonio Brown<br>Position:LWR<br>Role:Pass Route",
            "nflId:39985.0<br>displayName:Giovani Bernard<br>Position:HB-R<br>Role:Pass Route",
            "nflId:40151.0<br>displayName:Ryan Jensen<br>Position:C<br>Role:Pass Block",
            "nflId:41233.0<br>displayName:Mike Evans<br>Position:RWR<br>Role:Pass Route",
            "nflId:42377.0<br>displayName:Donovan Smith<br>Position:LT<br>Role:Pass Block",
            "nflId:42404.0<br>displayName:Ali Marpet<br>Position:LG<br>Role:Pass Block",
            "nflId:44896.0<br>displayName:Chris Godwin<br>Position:SLWR<br>Role:Pass Route",
            "nflId:46163.0<br>displayName:Alex Cappa<br>Position:RG<br>Role:Pass Block",
            "nflId:52421.0<br>displayName:Tristan Wirfs<br>Position:RT<br>Role:Pass Block"
           ],
           "marker": {
            "color": "#D50A0A"
           },
           "mode": "markers",
           "name": "TB",
           "type": "scatter",
           "x": [
            37.38,
            42.04,
            41.36,
            37.61,
            41.86,
            42.05,
            40.94,
            41.84,
            40.5,
            41.32,
            40.87
           ],
           "y": [
            24.24,
            29.55,
            37.02,
            22.35,
            24.16,
            16.23,
            27.11,
            25.65,
            34.31,
            22.68,
            21.14
           ]
          },
          {
           "hoverinfo": "text",
           "hovertext": [
            "nflId:41263.0<br>displayName:Demarcus Lawrence<br>Position:LEO<br>Role:Pass Rush",
            "nflId:42403.0<br>displayName:Randy Gregory<br>Position:ROLB<br>Role:Pass Rush",
            "nflId:43306.0<br>displayName:Keanu Neal<br>Position:ROLB<br>Role:Coverage",
            "nflId:43478.0<br>displayName:Anthony Brown<br>Position:RCB<br>Role:Coverage",
            "nflId:44904.0<br>displayName:Jourdan Lewis<br>Position:SCBR<br>Role:Coverage",
            "nflId:44955.0<br>displayName:Carlos Watkins<br>Position:DRT<br>Role:Pass Rush",
            "nflId:44962.0<br>displayName:Damontae Kazee<br>Position:FS<br>Role:Coverage",
            "nflId:47996.0<br>displayName:Donovan Wilson<br>Position:LILB<br>Role:Coverage",
            "nflId:52459.0<br>displayName:Trevon Diggs<br>Position:LCB<br>Role:Coverage",
            "nflId:53441.0<br>displayName:Micah Parsons<br>Position:LILB<br>Role:Pass Rush",
            "nflId:53504.0<br>displayName:Osa Odighizuwa<br>Position:RE<br>Role:Pass Rush"
           ],
           "marker": {
            "color": "#003594"
           },
           "mode": "markers",
           "name": "DAL",
           "type": "scatter",
           "x": [
            42.87,
            43.49,
            44.73,
            43.73,
            44.62,
            42.96,
            59.44,
            47.91,
            43.38,
            43.36,
            43.55
           ],
           "y": [
            18.98,
            32.46,
            29.15,
            37.65,
            35.68,
            25.28,
            27.16,
            22.06,
            15.72,
            22.07,
            26.73
           ]
          },
          {
           "hoverinfo": "none",
           "marker": {
            "color": "#CBB67C"
           },
           "mode": "markers",
           "name": "football",
           "type": "scatter",
           "x": [
            40.27
           ],
           "y": [
            23.97
           ]
          }
         ],
         "name": "9"
        },
        {
         "data": [
          {
           "hoverinfo": "none",
           "mode": "text",
           "showlegend": false,
           "text": [
            "10",
            "20",
            "30",
            "40",
            "50",
            "40",
            "30",
            "20",
            "10"
           ],
           "textfont": {
            "color": "#ffffff",
            "family": "Courier New, monospace",
            "size": 30
           },
           "type": "scatter",
           "x": [
            20,
            30,
            40,
            50,
            60,
            70,
            80,
            90,
            100
           ],
           "y": [
            5,
            5,
            5,
            5,
            5,
            5,
            5,
            5,
            5
           ]
          },
          {
           "hoverinfo": "none",
           "mode": "text",
           "showlegend": false,
           "text": [
            "10",
            "20",
            "30",
            "40",
            "50",
            "40",
            "30",
            "20",
            "10"
           ],
           "textfont": {
            "color": "#ffffff",
            "family": "Courier New, monospace",
            "size": 30
           },
           "type": "scatter",
           "x": [
            20,
            30,
            40,
            50,
            60,
            70,
            80,
            90,
            100
           ],
           "y": [
            48.5,
            48.5,
            48.5,
            48.5,
            48.5,
            48.5,
            48.5,
            48.5,
            48.5
           ]
          },
          {
           "hoverinfo": "none",
           "line": {
            "color": "blue",
            "dash": "dash"
           },
           "showlegend": false,
           "type": "scatter",
           "x": [
            null,
            null
           ],
           "y": [
            0,
            53.5
           ]
          },
          {
           "hoverinfo": "none",
           "line": {
            "color": "yellow",
            "dash": "dash"
           },
           "showlegend": false,
           "type": "scatter",
           "x": [
            null,
            null
           ],
           "y": [
            0,
            53.5
           ]
          },
          {
           "hoverinfo": "text",
           "hovertext": [
            "nflId:25511.0<br>displayName:Tom Brady<br>Position:QB<br>Role:Pass",
            "nflId:35481.0<br>displayName:Rob Gronkowski<br>Position:TE-L<br>Role:Pass Route",
            "nflId:35634.0<br>displayName:Antonio Brown<br>Position:LWR<br>Role:Pass Route",
            "nflId:39985.0<br>displayName:Giovani Bernard<br>Position:HB-R<br>Role:Pass Route",
            "nflId:40151.0<br>displayName:Ryan Jensen<br>Position:C<br>Role:Pass Block",
            "nflId:41233.0<br>displayName:Mike Evans<br>Position:RWR<br>Role:Pass Route",
            "nflId:42377.0<br>displayName:Donovan Smith<br>Position:LT<br>Role:Pass Block",
            "nflId:42404.0<br>displayName:Ali Marpet<br>Position:LG<br>Role:Pass Block",
            "nflId:44896.0<br>displayName:Chris Godwin<br>Position:SLWR<br>Role:Pass Route",
            "nflId:46163.0<br>displayName:Alex Cappa<br>Position:RG<br>Role:Pass Block",
            "nflId:52421.0<br>displayName:Tristan Wirfs<br>Position:RT<br>Role:Pass Block"
           ],
           "marker": {
            "color": "#D50A0A"
           },
           "mode": "markers",
           "name": "TB",
           "type": "scatter",
           "x": [
            37.27,
            42.21,
            41.54,
            37.65,
            41.74,
            42.09,
            40.72,
            41.73,
            40.69,
            41.25,
            40.75
           ],
           "y": [
            24.23,
            29.71,
            37.18,
            22.38,
            24.24,
            16.25,
            27.2,
            25.66,
            34.08,
            22.69,
            21.05
           ]
          },
          {
           "hoverinfo": "text",
           "hovertext": [
            "nflId:41263.0<br>displayName:Demarcus Lawrence<br>Position:LEO<br>Role:Pass Rush",
            "nflId:42403.0<br>displayName:Randy Gregory<br>Position:ROLB<br>Role:Pass Rush",
            "nflId:43306.0<br>displayName:Keanu Neal<br>Position:ROLB<br>Role:Coverage",
            "nflId:43478.0<br>displayName:Anthony Brown<br>Position:RCB<br>Role:Coverage",
            "nflId:44904.0<br>displayName:Jourdan Lewis<br>Position:SCBR<br>Role:Coverage",
            "nflId:44955.0<br>displayName:Carlos Watkins<br>Position:DRT<br>Role:Pass Rush",
            "nflId:44962.0<br>displayName:Damontae Kazee<br>Position:FS<br>Role:Coverage",
            "nflId:47996.0<br>displayName:Donovan Wilson<br>Position:LILB<br>Role:Coverage",
            "nflId:52459.0<br>displayName:Trevon Diggs<br>Position:LCB<br>Role:Coverage",
            "nflId:53441.0<br>displayName:Micah Parsons<br>Position:LILB<br>Role:Pass Rush",
            "nflId:53504.0<br>displayName:Osa Odighizuwa<br>Position:RE<br>Role:Pass Rush"
           ],
           "marker": {
            "color": "#003594"
           },
           "mode": "markers",
           "name": "DAL",
           "type": "scatter",
           "x": [
            42.6,
            43.11,
            44.77,
            43.78,
            44.61,
            42.76,
            59.62,
            47.85,
            43.46,
            43.12,
            43.46
           ],
           "y": [
            19.09,
            32.24,
            29.19,
            37.69,
            35.47,
            25.31,
            27.14,
            21.92,
            15.69,
            22.2,
            26.77
           ]
          },
          {
           "hoverinfo": "none",
           "marker": {
            "color": "#CBB67C"
           },
           "mode": "markers",
           "name": "football",
           "type": "scatter",
           "x": [
            39.79
           ],
           "y": [
            23.98
           ]
          }
         ],
         "name": "10"
        },
        {
         "data": [
          {
           "hoverinfo": "none",
           "mode": "text",
           "showlegend": false,
           "text": [
            "10",
            "20",
            "30",
            "40",
            "50",
            "40",
            "30",
            "20",
            "10"
           ],
           "textfont": {
            "color": "#ffffff",
            "family": "Courier New, monospace",
            "size": 30
           },
           "type": "scatter",
           "x": [
            20,
            30,
            40,
            50,
            60,
            70,
            80,
            90,
            100
           ],
           "y": [
            5,
            5,
            5,
            5,
            5,
            5,
            5,
            5,
            5
           ]
          },
          {
           "hoverinfo": "none",
           "mode": "text",
           "showlegend": false,
           "text": [
            "10",
            "20",
            "30",
            "40",
            "50",
            "40",
            "30",
            "20",
            "10"
           ],
           "textfont": {
            "color": "#ffffff",
            "family": "Courier New, monospace",
            "size": 30
           },
           "type": "scatter",
           "x": [
            20,
            30,
            40,
            50,
            60,
            70,
            80,
            90,
            100
           ],
           "y": [
            48.5,
            48.5,
            48.5,
            48.5,
            48.5,
            48.5,
            48.5,
            48.5,
            48.5
           ]
          },
          {
           "hoverinfo": "none",
           "line": {
            "color": "blue",
            "dash": "dash"
           },
           "showlegend": false,
           "type": "scatter",
           "x": [
            null,
            null
           ],
           "y": [
            0,
            53.5
           ]
          },
          {
           "hoverinfo": "none",
           "line": {
            "color": "yellow",
            "dash": "dash"
           },
           "showlegend": false,
           "type": "scatter",
           "x": [
            null,
            null
           ],
           "y": [
            0,
            53.5
           ]
          },
          {
           "hoverinfo": "text",
           "hovertext": [
            "nflId:25511.0<br>displayName:Tom Brady<br>Position:QB<br>Role:Pass",
            "nflId:35481.0<br>displayName:Rob Gronkowski<br>Position:TE-L<br>Role:Pass Route",
            "nflId:35634.0<br>displayName:Antonio Brown<br>Position:LWR<br>Role:Pass Route",
            "nflId:39985.0<br>displayName:Giovani Bernard<br>Position:HB-R<br>Role:Pass Route",
            "nflId:40151.0<br>displayName:Ryan Jensen<br>Position:C<br>Role:Pass Block",
            "nflId:41233.0<br>displayName:Mike Evans<br>Position:RWR<br>Role:Pass Route",
            "nflId:42377.0<br>displayName:Donovan Smith<br>Position:LT<br>Role:Pass Block",
            "nflId:42404.0<br>displayName:Ali Marpet<br>Position:LG<br>Role:Pass Block",
            "nflId:44896.0<br>displayName:Chris Godwin<br>Position:SLWR<br>Role:Pass Route",
            "nflId:46163.0<br>displayName:Alex Cappa<br>Position:RG<br>Role:Pass Block",
            "nflId:52421.0<br>displayName:Tristan Wirfs<br>Position:RT<br>Role:Pass Block"
           ],
           "marker": {
            "color": "#D50A0A"
           },
           "mode": "markers",
           "name": "TB",
           "type": "scatter",
           "x": [
            37.14,
            42.39,
            41.77,
            37.67,
            41.58,
            42.17,
            40.46,
            41.59,
            40.9,
            41.15,
            40.6
           ],
           "y": [
            24.22,
            29.89,
            37.38,
            22.41,
            24.31,
            16.29,
            27.3,
            25.67,
            33.89,
            22.7,
            20.98
           ]
          },
          {
           "hoverinfo": "text",
           "hovertext": [
            "nflId:41263.0<br>displayName:Demarcus Lawrence<br>Position:LEO<br>Role:Pass Rush",
            "nflId:42403.0<br>displayName:Randy Gregory<br>Position:ROLB<br>Role:Pass Rush",
            "nflId:43306.0<br>displayName:Keanu Neal<br>Position:ROLB<br>Role:Coverage",
            "nflId:43478.0<br>displayName:Anthony Brown<br>Position:RCB<br>Role:Coverage",
            "nflId:44904.0<br>displayName:Jourdan Lewis<br>Position:SCBR<br>Role:Coverage",
            "nflId:44955.0<br>displayName:Carlos Watkins<br>Position:DRT<br>Role:Pass Rush",
            "nflId:44962.0<br>displayName:Damontae Kazee<br>Position:FS<br>Role:Coverage",
            "nflId:47996.0<br>displayName:Donovan Wilson<br>Position:LILB<br>Role:Coverage",
            "nflId:52459.0<br>displayName:Trevon Diggs<br>Position:LCB<br>Role:Coverage",
            "nflId:53441.0<br>displayName:Micah Parsons<br>Position:LILB<br>Role:Pass Rush",
            "nflId:53504.0<br>displayName:Osa Odighizuwa<br>Position:RE<br>Role:Pass Rush"
           ],
           "marker": {
            "color": "#003594"
           },
           "mode": "markers",
           "name": "DAL",
           "type": "scatter",
           "x": [
            42.34,
            42.71,
            44.78,
            43.87,
            44.68,
            42.55,
            59.81,
            47.8,
            43.6,
            42.81,
            43.25
           ],
           "y": [
            19.2,
            32.07,
            29.24,
            37.74,
            35.27,
            25.37,
            27.12,
            21.77,
            15.67,
            22.24,
            26.78
           ]
          },
          {
           "hoverinfo": "none",
           "marker": {
            "color": "#CBB67C"
           },
           "mode": "markers",
           "name": "football",
           "type": "scatter",
           "x": [
            39.28
           ],
           "y": [
            24
           ]
          }
         ],
         "name": "11"
        },
        {
         "data": [
          {
           "hoverinfo": "none",
           "mode": "text",
           "showlegend": false,
           "text": [
            "10",
            "20",
            "30",
            "40",
            "50",
            "40",
            "30",
            "20",
            "10"
           ],
           "textfont": {
            "color": "#ffffff",
            "family": "Courier New, monospace",
            "size": 30
           },
           "type": "scatter",
           "x": [
            20,
            30,
            40,
            50,
            60,
            70,
            80,
            90,
            100
           ],
           "y": [
            5,
            5,
            5,
            5,
            5,
            5,
            5,
            5,
            5
           ]
          },
          {
           "hoverinfo": "none",
           "mode": "text",
           "showlegend": false,
           "text": [
            "10",
            "20",
            "30",
            "40",
            "50",
            "40",
            "30",
            "20",
            "10"
           ],
           "textfont": {
            "color": "#ffffff",
            "family": "Courier New, monospace",
            "size": 30
           },
           "type": "scatter",
           "x": [
            20,
            30,
            40,
            50,
            60,
            70,
            80,
            90,
            100
           ],
           "y": [
            48.5,
            48.5,
            48.5,
            48.5,
            48.5,
            48.5,
            48.5,
            48.5,
            48.5
           ]
          },
          {
           "hoverinfo": "none",
           "line": {
            "color": "blue",
            "dash": "dash"
           },
           "showlegend": false,
           "type": "scatter",
           "x": [
            null,
            null
           ],
           "y": [
            0,
            53.5
           ]
          },
          {
           "hoverinfo": "none",
           "line": {
            "color": "yellow",
            "dash": "dash"
           },
           "showlegend": false,
           "type": "scatter",
           "x": [
            null,
            null
           ],
           "y": [
            0,
            53.5
           ]
          },
          {
           "hoverinfo": "text",
           "hovertext": [
            "nflId:25511.0<br>displayName:Tom Brady<br>Position:QB<br>Role:Pass",
            "nflId:35481.0<br>displayName:Rob Gronkowski<br>Position:TE-L<br>Role:Pass Route",
            "nflId:35634.0<br>displayName:Antonio Brown<br>Position:LWR<br>Role:Pass Route",
            "nflId:39985.0<br>displayName:Giovani Bernard<br>Position:HB-R<br>Role:Pass Route",
            "nflId:40151.0<br>displayName:Ryan Jensen<br>Position:C<br>Role:Pass Block",
            "nflId:41233.0<br>displayName:Mike Evans<br>Position:RWR<br>Role:Pass Route",
            "nflId:42377.0<br>displayName:Donovan Smith<br>Position:LT<br>Role:Pass Block",
            "nflId:42404.0<br>displayName:Ali Marpet<br>Position:LG<br>Role:Pass Block",
            "nflId:44896.0<br>displayName:Chris Godwin<br>Position:SLWR<br>Role:Pass Route",
            "nflId:46163.0<br>displayName:Alex Cappa<br>Position:RG<br>Role:Pass Block",
            "nflId:52421.0<br>displayName:Tristan Wirfs<br>Position:RT<br>Role:Pass Block"
           ],
           "marker": {
            "color": "#D50A0A"
           },
           "mode": "markers",
           "name": "TB",
           "type": "scatter",
           "x": [
            36.99,
            42.57,
            42.02,
            37.69,
            41.42,
            42.3,
            40.2,
            41.43,
            41.16,
            41.05,
            40.42
           ],
           "y": [
            24.19,
            30.13,
            37.59,
            22.44,
            24.37,
            16.36,
            27.39,
            25.67,
            33.72,
            22.71,
            20.92
           ]
          },
          {
           "hoverinfo": "text",
           "hovertext": [
            "nflId:41263.0<br>displayName:Demarcus Lawrence<br>Position:LEO<br>Role:Pass Rush",
            "nflId:42403.0<br>displayName:Randy Gregory<br>Position:ROLB<br>Role:Pass Rush",
            "nflId:43306.0<br>displayName:Keanu Neal<br>Position:ROLB<br>Role:Coverage",
            "nflId:43478.0<br>displayName:Anthony Brown<br>Position:RCB<br>Role:Coverage",
            "nflId:44904.0<br>displayName:Jourdan Lewis<br>Position:SCBR<br>Role:Coverage",
            "nflId:44955.0<br>displayName:Carlos Watkins<br>Position:DRT<br>Role:Pass Rush",
            "nflId:44962.0<br>displayName:Damontae Kazee<br>Position:FS<br>Role:Coverage",
            "nflId:47996.0<br>displayName:Donovan Wilson<br>Position:LILB<br>Role:Coverage",
            "nflId:52459.0<br>displayName:Trevon Diggs<br>Position:LCB<br>Role:Coverage",
            "nflId:53441.0<br>displayName:Micah Parsons<br>Position:LILB<br>Role:Pass Rush",
            "nflId:53504.0<br>displayName:Osa Odighizuwa<br>Position:RE<br>Role:Pass Rush"
           ],
           "marker": {
            "color": "#003594"
           },
           "mode": "markers",
           "name": "DAL",
           "type": "scatter",
           "x": [
            42.12,
            42.31,
            44.83,
            43.98,
            44.75,
            42.35,
            60.02,
            47.74,
            43.76,
            42.48,
            42.99
           ],
           "y": [
            19.29,
            31.86,
            29.3,
            37.83,
            35.08,
            25.4,
            27.11,
            21.58,
            15.65,
            22.32,
            26.7
           ]
          },
          {
           "hoverinfo": "none",
           "marker": {
            "color": "#CBB67C"
           },
           "mode": "markers",
           "name": "football",
           "type": "scatter",
           "x": [
            38.66
           ],
           "y": [
            24.01
           ]
          }
         ],
         "name": "12"
        },
        {
         "data": [
          {
           "hoverinfo": "none",
           "mode": "text",
           "showlegend": false,
           "text": [
            "10",
            "20",
            "30",
            "40",
            "50",
            "40",
            "30",
            "20",
            "10"
           ],
           "textfont": {
            "color": "#ffffff",
            "family": "Courier New, monospace",
            "size": 30
           },
           "type": "scatter",
           "x": [
            20,
            30,
            40,
            50,
            60,
            70,
            80,
            90,
            100
           ],
           "y": [
            5,
            5,
            5,
            5,
            5,
            5,
            5,
            5,
            5
           ]
          },
          {
           "hoverinfo": "none",
           "mode": "text",
           "showlegend": false,
           "text": [
            "10",
            "20",
            "30",
            "40",
            "50",
            "40",
            "30",
            "20",
            "10"
           ],
           "textfont": {
            "color": "#ffffff",
            "family": "Courier New, monospace",
            "size": 30
           },
           "type": "scatter",
           "x": [
            20,
            30,
            40,
            50,
            60,
            70,
            80,
            90,
            100
           ],
           "y": [
            48.5,
            48.5,
            48.5,
            48.5,
            48.5,
            48.5,
            48.5,
            48.5,
            48.5
           ]
          },
          {
           "hoverinfo": "none",
           "line": {
            "color": "blue",
            "dash": "dash"
           },
           "showlegend": false,
           "type": "scatter",
           "x": [
            null,
            null
           ],
           "y": [
            0,
            53.5
           ]
          },
          {
           "hoverinfo": "none",
           "line": {
            "color": "yellow",
            "dash": "dash"
           },
           "showlegend": false,
           "type": "scatter",
           "x": [
            null,
            null
           ],
           "y": [
            0,
            53.5
           ]
          },
          {
           "hoverinfo": "text",
           "hovertext": [
            "nflId:25511.0<br>displayName:Tom Brady<br>Position:QB<br>Role:Pass",
            "nflId:35481.0<br>displayName:Rob Gronkowski<br>Position:TE-L<br>Role:Pass Route",
            "nflId:35634.0<br>displayName:Antonio Brown<br>Position:LWR<br>Role:Pass Route",
            "nflId:39985.0<br>displayName:Giovani Bernard<br>Position:HB-R<br>Role:Pass Route",
            "nflId:40151.0<br>displayName:Ryan Jensen<br>Position:C<br>Role:Pass Block",
            "nflId:41233.0<br>displayName:Mike Evans<br>Position:RWR<br>Role:Pass Route",
            "nflId:42377.0<br>displayName:Donovan Smith<br>Position:LT<br>Role:Pass Block",
            "nflId:42404.0<br>displayName:Ali Marpet<br>Position:LG<br>Role:Pass Block",
            "nflId:44896.0<br>displayName:Chris Godwin<br>Position:SLWR<br>Role:Pass Route",
            "nflId:46163.0<br>displayName:Alex Cappa<br>Position:RG<br>Role:Pass Block",
            "nflId:52421.0<br>displayName:Tristan Wirfs<br>Position:RT<br>Role:Pass Block"
           ],
           "marker": {
            "color": "#D50A0A"
           },
           "mode": "markers",
           "name": "TB",
           "type": "scatter",
           "x": [
            36.8,
            42.74,
            42.34,
            37.71,
            41.23,
            42.49,
            39.95,
            41.23,
            41.47,
            40.92,
            40.27
           ],
           "y": [
            24.16,
            30.4,
            37.87,
            22.47,
            24.43,
            16.46,
            27.49,
            25.68,
            33.54,
            22.69,
            20.89
           ]
          },
          {
           "hoverinfo": "text",
           "hovertext": [
            "nflId:41263.0<br>displayName:Demarcus Lawrence<br>Position:LEO<br>Role:Pass Rush",
            "nflId:42403.0<br>displayName:Randy Gregory<br>Position:ROLB<br>Role:Pass Rush",
            "nflId:43306.0<br>displayName:Keanu Neal<br>Position:ROLB<br>Role:Coverage",
            "nflId:43478.0<br>displayName:Anthony Brown<br>Position:RCB<br>Role:Coverage",
            "nflId:44904.0<br>displayName:Jourdan Lewis<br>Position:SCBR<br>Role:Coverage",
            "nflId:44955.0<br>displayName:Carlos Watkins<br>Position:DRT<br>Role:Pass Rush",
            "nflId:44962.0<br>displayName:Damontae Kazee<br>Position:FS<br>Role:Coverage",
            "nflId:47996.0<br>displayName:Donovan Wilson<br>Position:LILB<br>Role:Coverage",
            "nflId:52459.0<br>displayName:Trevon Diggs<br>Position:LCB<br>Role:Coverage",
            "nflId:53441.0<br>displayName:Micah Parsons<br>Position:LILB<br>Role:Pass Rush",
            "nflId:53504.0<br>displayName:Osa Odighizuwa<br>Position:RE<br>Role:Pass Rush"
           ],
           "marker": {
            "color": "#003594"
           },
           "mode": "markers",
           "name": "DAL",
           "type": "scatter",
           "x": [
            41.9,
            41.87,
            44.86,
            44.13,
            44.83,
            42.15,
            60.24,
            47.67,
            44.01,
            42.12,
            42.78
           ],
           "y": [
            19.5,
            31.65,
            29.4,
            37.94,
            34.88,
            25.44,
            27.09,
            21.4,
            15.66,
            22.41,
            26.62
           ]
          },
          {
           "hoverinfo": "none",
           "marker": {
            "color": "#CBB67C"
           },
           "mode": "markers",
           "name": "football",
           "type": "scatter",
           "x": [
            37.95
           ],
           "y": [
            24.02
           ]
          }
         ],
         "name": "13"
        },
        {
         "data": [
          {
           "hoverinfo": "none",
           "mode": "text",
           "showlegend": false,
           "text": [
            "10",
            "20",
            "30",
            "40",
            "50",
            "40",
            "30",
            "20",
            "10"
           ],
           "textfont": {
            "color": "#ffffff",
            "family": "Courier New, monospace",
            "size": 30
           },
           "type": "scatter",
           "x": [
            20,
            30,
            40,
            50,
            60,
            70,
            80,
            90,
            100
           ],
           "y": [
            5,
            5,
            5,
            5,
            5,
            5,
            5,
            5,
            5
           ]
          },
          {
           "hoverinfo": "none",
           "mode": "text",
           "showlegend": false,
           "text": [
            "10",
            "20",
            "30",
            "40",
            "50",
            "40",
            "30",
            "20",
            "10"
           ],
           "textfont": {
            "color": "#ffffff",
            "family": "Courier New, monospace",
            "size": 30
           },
           "type": "scatter",
           "x": [
            20,
            30,
            40,
            50,
            60,
            70,
            80,
            90,
            100
           ],
           "y": [
            48.5,
            48.5,
            48.5,
            48.5,
            48.5,
            48.5,
            48.5,
            48.5,
            48.5
           ]
          },
          {
           "hoverinfo": "none",
           "line": {
            "color": "blue",
            "dash": "dash"
           },
           "showlegend": false,
           "type": "scatter",
           "x": [
            null,
            null
           ],
           "y": [
            0,
            53.5
           ]
          },
          {
           "hoverinfo": "none",
           "line": {
            "color": "yellow",
            "dash": "dash"
           },
           "showlegend": false,
           "type": "scatter",
           "x": [
            null,
            null
           ],
           "y": [
            0,
            53.5
           ]
          },
          {
           "hoverinfo": "text",
           "hovertext": [
            "nflId:25511.0<br>displayName:Tom Brady<br>Position:QB<br>Role:Pass",
            "nflId:35481.0<br>displayName:Rob Gronkowski<br>Position:TE-L<br>Role:Pass Route",
            "nflId:35634.0<br>displayName:Antonio Brown<br>Position:LWR<br>Role:Pass Route",
            "nflId:39985.0<br>displayName:Giovani Bernard<br>Position:HB-R<br>Role:Pass Route",
            "nflId:40151.0<br>displayName:Ryan Jensen<br>Position:C<br>Role:Pass Block",
            "nflId:41233.0<br>displayName:Mike Evans<br>Position:RWR<br>Role:Pass Route",
            "nflId:42377.0<br>displayName:Donovan Smith<br>Position:LT<br>Role:Pass Block",
            "nflId:42404.0<br>displayName:Ali Marpet<br>Position:LG<br>Role:Pass Block",
            "nflId:44896.0<br>displayName:Chris Godwin<br>Position:SLWR<br>Role:Pass Route",
            "nflId:46163.0<br>displayName:Alex Cappa<br>Position:RG<br>Role:Pass Block",
            "nflId:52421.0<br>displayName:Tristan Wirfs<br>Position:RT<br>Role:Pass Block"
           ],
           "marker": {
            "color": "#D50A0A"
           },
           "mode": "markers",
           "name": "TB",
           "type": "scatter",
           "x": [
            36.56,
            42.9,
            42.65,
            37.73,
            41.01,
            42.73,
            39.67,
            41.05,
            41.8,
            40.79,
            40.1
           ],
           "y": [
            24.15,
            30.69,
            38.16,
            22.49,
            24.49,
            16.61,
            27.59,
            25.68,
            33.38,
            22.66,
            20.86
           ]
          },
          {
           "hoverinfo": "text",
           "hovertext": [
            "nflId:41263.0<br>displayName:Demarcus Lawrence<br>Position:LEO<br>Role:Pass Rush",
            "nflId:42403.0<br>displayName:Randy Gregory<br>Position:ROLB<br>Role:Pass Rush",
            "nflId:43306.0<br>displayName:Keanu Neal<br>Position:ROLB<br>Role:Coverage",
            "nflId:43478.0<br>displayName:Anthony Brown<br>Position:RCB<br>Role:Coverage",
            "nflId:44904.0<br>displayName:Jourdan Lewis<br>Position:SCBR<br>Role:Coverage",
            "nflId:44955.0<br>displayName:Carlos Watkins<br>Position:DRT<br>Role:Pass Rush",
            "nflId:44962.0<br>displayName:Damontae Kazee<br>Position:FS<br>Role:Coverage",
            "nflId:47996.0<br>displayName:Donovan Wilson<br>Position:LILB<br>Role:Coverage",
            "nflId:52459.0<br>displayName:Trevon Diggs<br>Position:LCB<br>Role:Coverage",
            "nflId:53441.0<br>displayName:Micah Parsons<br>Position:LILB<br>Role:Pass Rush",
            "nflId:53504.0<br>displayName:Osa Odighizuwa<br>Position:RE<br>Role:Pass Rush"
           ],
           "marker": {
            "color": "#003594"
           },
           "mode": "markers",
           "name": "DAL",
           "type": "scatter",
           "x": [
            41.66,
            41.36,
            44.93,
            44.31,
            44.93,
            41.89,
            60.47,
            47.6,
            44.29,
            41.73,
            42.57
           ],
           "y": [
            19.69,
            31.38,
            29.6,
            38.1,
            34.67,
            25.51,
            27.06,
            21.25,
            15.67,
            22.5,
            26.55
           ]
          },
          {
           "hoverinfo": "none",
           "marker": {
            "color": "#CBB67C"
           },
           "mode": "markers",
           "name": "football",
           "type": "scatter",
           "x": [
            37.3
           ],
           "y": [
            24.04
           ]
          }
         ],
         "name": "14"
        },
        {
         "data": [
          {
           "hoverinfo": "none",
           "mode": "text",
           "showlegend": false,
           "text": [
            "10",
            "20",
            "30",
            "40",
            "50",
            "40",
            "30",
            "20",
            "10"
           ],
           "textfont": {
            "color": "#ffffff",
            "family": "Courier New, monospace",
            "size": 30
           },
           "type": "scatter",
           "x": [
            20,
            30,
            40,
            50,
            60,
            70,
            80,
            90,
            100
           ],
           "y": [
            5,
            5,
            5,
            5,
            5,
            5,
            5,
            5,
            5
           ]
          },
          {
           "hoverinfo": "none",
           "mode": "text",
           "showlegend": false,
           "text": [
            "10",
            "20",
            "30",
            "40",
            "50",
            "40",
            "30",
            "20",
            "10"
           ],
           "textfont": {
            "color": "#ffffff",
            "family": "Courier New, monospace",
            "size": 30
           },
           "type": "scatter",
           "x": [
            20,
            30,
            40,
            50,
            60,
            70,
            80,
            90,
            100
           ],
           "y": [
            48.5,
            48.5,
            48.5,
            48.5,
            48.5,
            48.5,
            48.5,
            48.5,
            48.5
           ]
          },
          {
           "hoverinfo": "none",
           "line": {
            "color": "blue",
            "dash": "dash"
           },
           "showlegend": false,
           "type": "scatter",
           "x": [
            null,
            null
           ],
           "y": [
            0,
            53.5
           ]
          },
          {
           "hoverinfo": "none",
           "line": {
            "color": "yellow",
            "dash": "dash"
           },
           "showlegend": false,
           "type": "scatter",
           "x": [
            null,
            null
           ],
           "y": [
            0,
            53.5
           ]
          },
          {
           "hoverinfo": "text",
           "hovertext": [
            "nflId:25511.0<br>displayName:Tom Brady<br>Position:QB<br>Role:Pass",
            "nflId:35481.0<br>displayName:Rob Gronkowski<br>Position:TE-L<br>Role:Pass Route",
            "nflId:35634.0<br>displayName:Antonio Brown<br>Position:LWR<br>Role:Pass Route",
            "nflId:39985.0<br>displayName:Giovani Bernard<br>Position:HB-R<br>Role:Pass Route",
            "nflId:40151.0<br>displayName:Ryan Jensen<br>Position:C<br>Role:Pass Block",
            "nflId:41233.0<br>displayName:Mike Evans<br>Position:RWR<br>Role:Pass Route",
            "nflId:42377.0<br>displayName:Donovan Smith<br>Position:LT<br>Role:Pass Block",
            "nflId:42404.0<br>displayName:Ali Marpet<br>Position:LG<br>Role:Pass Block",
            "nflId:44896.0<br>displayName:Chris Godwin<br>Position:SLWR<br>Role:Pass Route",
            "nflId:46163.0<br>displayName:Alex Cappa<br>Position:RG<br>Role:Pass Block",
            "nflId:52421.0<br>displayName:Tristan Wirfs<br>Position:RT<br>Role:Pass Block"
           ],
           "marker": {
            "color": "#D50A0A"
           },
           "mode": "markers",
           "name": "TB",
           "type": "scatter",
           "x": [
            36.34,
            43.04,
            43.02,
            37.75,
            40.82,
            43.01,
            39.39,
            40.88,
            42.17,
            40.63,
            39.93
           ],
           "y": [
            24.12,
            31.01,
            38.47,
            22.52,
            24.55,
            16.8,
            27.67,
            25.67,
            33.19,
            22.62,
            20.85
           ]
          },
          {
           "hoverinfo": "text",
           "hovertext": [
            "nflId:41263.0<br>displayName:Demarcus Lawrence<br>Position:LEO<br>Role:Pass Rush",
            "nflId:42403.0<br>displayName:Randy Gregory<br>Position:ROLB<br>Role:Pass Rush",
            "nflId:43306.0<br>displayName:Keanu Neal<br>Position:ROLB<br>Role:Coverage",
            "nflId:43478.0<br>displayName:Anthony Brown<br>Position:RCB<br>Role:Coverage",
            "nflId:44904.0<br>displayName:Jourdan Lewis<br>Position:SCBR<br>Role:Coverage",
            "nflId:44955.0<br>displayName:Carlos Watkins<br>Position:DRT<br>Role:Pass Rush",
            "nflId:44962.0<br>displayName:Damontae Kazee<br>Position:FS<br>Role:Coverage",
            "nflId:47996.0<br>displayName:Donovan Wilson<br>Position:LILB<br>Role:Coverage",
            "nflId:52459.0<br>displayName:Trevon Diggs<br>Position:LCB<br>Role:Coverage",
            "nflId:53441.0<br>displayName:Micah Parsons<br>Position:LILB<br>Role:Pass Rush",
            "nflId:53504.0<br>displayName:Osa Odighizuwa<br>Position:RE<br>Role:Pass Rush"
           ],
           "marker": {
            "color": "#003594"
           },
           "mode": "markers",
           "name": "DAL",
           "type": "scatter",
           "x": [
            41.42,
            40.89,
            44.99,
            44.54,
            45.07,
            41.68,
            60.71,
            47.54,
            44.62,
            41.33,
            42.37
           ],
           "y": [
            19.9,
            31.09,
            29.82,
            38.32,
            34.46,
            25.58,
            27.04,
            21.17,
            15.7,
            22.52,
            26.42
           ]
          },
          {
           "hoverinfo": "none",
           "marker": {
            "color": "#CBB67C"
           },
           "mode": "markers",
           "name": "football",
           "type": "scatter",
           "x": [
            36.97
           ],
           "y": [
            24.03
           ]
          }
         ],
         "name": "15"
        },
        {
         "data": [
          {
           "hoverinfo": "none",
           "mode": "text",
           "showlegend": false,
           "text": [
            "10",
            "20",
            "30",
            "40",
            "50",
            "40",
            "30",
            "20",
            "10"
           ],
           "textfont": {
            "color": "#ffffff",
            "family": "Courier New, monospace",
            "size": 30
           },
           "type": "scatter",
           "x": [
            20,
            30,
            40,
            50,
            60,
            70,
            80,
            90,
            100
           ],
           "y": [
            5,
            5,
            5,
            5,
            5,
            5,
            5,
            5,
            5
           ]
          },
          {
           "hoverinfo": "none",
           "mode": "text",
           "showlegend": false,
           "text": [
            "10",
            "20",
            "30",
            "40",
            "50",
            "40",
            "30",
            "20",
            "10"
           ],
           "textfont": {
            "color": "#ffffff",
            "family": "Courier New, monospace",
            "size": 30
           },
           "type": "scatter",
           "x": [
            20,
            30,
            40,
            50,
            60,
            70,
            80,
            90,
            100
           ],
           "y": [
            48.5,
            48.5,
            48.5,
            48.5,
            48.5,
            48.5,
            48.5,
            48.5,
            48.5
           ]
          },
          {
           "hoverinfo": "none",
           "line": {
            "color": "blue",
            "dash": "dash"
           },
           "showlegend": false,
           "type": "scatter",
           "x": [
            null,
            null
           ],
           "y": [
            0,
            53.5
           ]
          },
          {
           "hoverinfo": "none",
           "line": {
            "color": "yellow",
            "dash": "dash"
           },
           "showlegend": false,
           "type": "scatter",
           "x": [
            null,
            null
           ],
           "y": [
            0,
            53.5
           ]
          },
          {
           "hoverinfo": "text",
           "hovertext": [
            "nflId:25511.0<br>displayName:Tom Brady<br>Position:QB<br>Role:Pass",
            "nflId:35481.0<br>displayName:Rob Gronkowski<br>Position:TE-L<br>Role:Pass Route",
            "nflId:35634.0<br>displayName:Antonio Brown<br>Position:LWR<br>Role:Pass Route",
            "nflId:39985.0<br>displayName:Giovani Bernard<br>Position:HB-R<br>Role:Pass Route",
            "nflId:40151.0<br>displayName:Ryan Jensen<br>Position:C<br>Role:Pass Block",
            "nflId:41233.0<br>displayName:Mike Evans<br>Position:RWR<br>Role:Pass Route",
            "nflId:42377.0<br>displayName:Donovan Smith<br>Position:LT<br>Role:Pass Block",
            "nflId:42404.0<br>displayName:Ali Marpet<br>Position:LG<br>Role:Pass Block",
            "nflId:44896.0<br>displayName:Chris Godwin<br>Position:SLWR<br>Role:Pass Route",
            "nflId:46163.0<br>displayName:Alex Cappa<br>Position:RG<br>Role:Pass Block",
            "nflId:52421.0<br>displayName:Tristan Wirfs<br>Position:RT<br>Role:Pass Block"
           ],
           "marker": {
            "color": "#D50A0A"
           },
           "mode": "markers",
           "name": "TB",
           "type": "scatter",
           "x": [
            36.1,
            43.16,
            43.45,
            37.78,
            40.62,
            43.33,
            39.1,
            40.7,
            42.6,
            40.45,
            39.8
           ],
           "y": [
            24.1,
            31.35,
            38.8,
            22.54,
            24.6,
            17.03,
            27.73,
            25.66,
            32.98,
            22.57,
            20.85
           ]
          },
          {
           "hoverinfo": "text",
           "hovertext": [
            "nflId:41263.0<br>displayName:Demarcus Lawrence<br>Position:LEO<br>Role:Pass Rush",
            "nflId:42403.0<br>displayName:Randy Gregory<br>Position:ROLB<br>Role:Pass Rush",
            "nflId:43306.0<br>displayName:Keanu Neal<br>Position:ROLB<br>Role:Coverage",
            "nflId:43478.0<br>displayName:Anthony Brown<br>Position:RCB<br>Role:Coverage",
            "nflId:44904.0<br>displayName:Jourdan Lewis<br>Position:SCBR<br>Role:Coverage",
            "nflId:44955.0<br>displayName:Carlos Watkins<br>Position:DRT<br>Role:Pass Rush",
            "nflId:44962.0<br>displayName:Damontae Kazee<br>Position:FS<br>Role:Coverage",
            "nflId:47996.0<br>displayName:Donovan Wilson<br>Position:LILB<br>Role:Coverage",
            "nflId:52459.0<br>displayName:Trevon Diggs<br>Position:LCB<br>Role:Coverage",
            "nflId:53441.0<br>displayName:Micah Parsons<br>Position:LILB<br>Role:Pass Rush",
            "nflId:53504.0<br>displayName:Osa Odighizuwa<br>Position:RE<br>Role:Pass Rush"
           ],
           "marker": {
            "color": "#003594"
           },
           "mode": "markers",
           "name": "DAL",
           "type": "scatter",
           "x": [
            41.18,
            40.41,
            45.02,
            44.79,
            45.24,
            41.48,
            60.96,
            47.49,
            44.98,
            40.94,
            42.17
           ],
           "y": [
            20.13,
            30.82,
            30.12,
            38.55,
            34.23,
            25.64,
            27.04,
            21.11,
            15.75,
            22.53,
            26.33
           ]
          },
          {
           "hoverinfo": "none",
           "marker": {
            "color": "#CBB67C"
           },
           "mode": "markers",
           "name": "football",
           "type": "scatter",
           "x": [
            36.51
           ],
           "y": [
            24.04
           ]
          }
         ],
         "name": "16"
        },
        {
         "data": [
          {
           "hoverinfo": "none",
           "mode": "text",
           "showlegend": false,
           "text": [
            "10",
            "20",
            "30",
            "40",
            "50",
            "40",
            "30",
            "20",
            "10"
           ],
           "textfont": {
            "color": "#ffffff",
            "family": "Courier New, monospace",
            "size": 30
           },
           "type": "scatter",
           "x": [
            20,
            30,
            40,
            50,
            60,
            70,
            80,
            90,
            100
           ],
           "y": [
            5,
            5,
            5,
            5,
            5,
            5,
            5,
            5,
            5
           ]
          },
          {
           "hoverinfo": "none",
           "mode": "text",
           "showlegend": false,
           "text": [
            "10",
            "20",
            "30",
            "40",
            "50",
            "40",
            "30",
            "20",
            "10"
           ],
           "textfont": {
            "color": "#ffffff",
            "family": "Courier New, monospace",
            "size": 30
           },
           "type": "scatter",
           "x": [
            20,
            30,
            40,
            50,
            60,
            70,
            80,
            90,
            100
           ],
           "y": [
            48.5,
            48.5,
            48.5,
            48.5,
            48.5,
            48.5,
            48.5,
            48.5,
            48.5
           ]
          },
          {
           "hoverinfo": "none",
           "line": {
            "color": "blue",
            "dash": "dash"
           },
           "showlegend": false,
           "type": "scatter",
           "x": [
            null,
            null
           ],
           "y": [
            0,
            53.5
           ]
          },
          {
           "hoverinfo": "none",
           "line": {
            "color": "yellow",
            "dash": "dash"
           },
           "showlegend": false,
           "type": "scatter",
           "x": [
            null,
            null
           ],
           "y": [
            0,
            53.5
           ]
          },
          {
           "hoverinfo": "text",
           "hovertext": [
            "nflId:25511.0<br>displayName:Tom Brady<br>Position:QB<br>Role:Pass",
            "nflId:35481.0<br>displayName:Rob Gronkowski<br>Position:TE-L<br>Role:Pass Route",
            "nflId:35634.0<br>displayName:Antonio Brown<br>Position:LWR<br>Role:Pass Route",
            "nflId:39985.0<br>displayName:Giovani Bernard<br>Position:HB-R<br>Role:Pass Route",
            "nflId:40151.0<br>displayName:Ryan Jensen<br>Position:C<br>Role:Pass Block",
            "nflId:41233.0<br>displayName:Mike Evans<br>Position:RWR<br>Role:Pass Route",
            "nflId:42377.0<br>displayName:Donovan Smith<br>Position:LT<br>Role:Pass Block",
            "nflId:42404.0<br>displayName:Ali Marpet<br>Position:LG<br>Role:Pass Block",
            "nflId:44896.0<br>displayName:Chris Godwin<br>Position:SLWR<br>Role:Pass Route",
            "nflId:46163.0<br>displayName:Alex Cappa<br>Position:RG<br>Role:Pass Block",
            "nflId:52421.0<br>displayName:Tristan Wirfs<br>Position:RT<br>Role:Pass Block"
           ],
           "marker": {
            "color": "#D50A0A"
           },
           "mode": "markers",
           "name": "TB",
           "type": "scatter",
           "x": [
            35.86,
            43.29,
            43.89,
            37.79,
            40.43,
            43.62,
            38.78,
            40.5,
            43.03,
            40.22,
            39.67
           ],
           "y": [
            24.08,
            31.71,
            39.14,
            22.55,
            24.66,
            17.37,
            27.77,
            25.68,
            32.77,
            22.51,
            20.89
           ]
          },
          {
           "hoverinfo": "text",
           "hovertext": [
            "nflId:41263.0<br>displayName:Demarcus Lawrence<br>Position:LEO<br>Role:Pass Rush",
            "nflId:42403.0<br>displayName:Randy Gregory<br>Position:ROLB<br>Role:Pass Rush",
            "nflId:43306.0<br>displayName:Keanu Neal<br>Position:ROLB<br>Role:Coverage",
            "nflId:43478.0<br>displayName:Anthony Brown<br>Position:RCB<br>Role:Coverage",
            "nflId:44904.0<br>displayName:Jourdan Lewis<br>Position:SCBR<br>Role:Coverage",
            "nflId:44955.0<br>displayName:Carlos Watkins<br>Position:DRT<br>Role:Pass Rush",
            "nflId:44962.0<br>displayName:Damontae Kazee<br>Position:FS<br>Role:Coverage",
            "nflId:47996.0<br>displayName:Donovan Wilson<br>Position:LILB<br>Role:Coverage",
            "nflId:52459.0<br>displayName:Trevon Diggs<br>Position:LCB<br>Role:Coverage",
            "nflId:53441.0<br>displayName:Micah Parsons<br>Position:LILB<br>Role:Pass Rush",
            "nflId:53504.0<br>displayName:Osa Odighizuwa<br>Position:RE<br>Role:Pass Rush"
           ],
           "marker": {
            "color": "#003594"
           },
           "mode": "markers",
           "name": "DAL",
           "type": "scatter",
           "x": [
            40.96,
            39.9,
            45.07,
            45.1,
            45.43,
            41.27,
            61.23,
            47.44,
            45.36,
            40.58,
            41.95
           ],
           "y": [
            20.38,
            30.54,
            30.46,
            38.81,
            33.98,
            25.68,
            27.05,
            21.05,
            15.82,
            22.52,
            26.2
           ]
          },
          {
           "hoverinfo": "none",
           "marker": {
            "color": "#CBB67C"
           },
           "mode": "markers",
           "name": "football",
           "type": "scatter",
           "x": [
            36.26
           ],
           "y": [
            23.99
           ]
          }
         ],
         "name": "17"
        },
        {
         "data": [
          {
           "hoverinfo": "none",
           "mode": "text",
           "showlegend": false,
           "text": [
            "10",
            "20",
            "30",
            "40",
            "50",
            "40",
            "30",
            "20",
            "10"
           ],
           "textfont": {
            "color": "#ffffff",
            "family": "Courier New, monospace",
            "size": 30
           },
           "type": "scatter",
           "x": [
            20,
            30,
            40,
            50,
            60,
            70,
            80,
            90,
            100
           ],
           "y": [
            5,
            5,
            5,
            5,
            5,
            5,
            5,
            5,
            5
           ]
          },
          {
           "hoverinfo": "none",
           "mode": "text",
           "showlegend": false,
           "text": [
            "10",
            "20",
            "30",
            "40",
            "50",
            "40",
            "30",
            "20",
            "10"
           ],
           "textfont": {
            "color": "#ffffff",
            "family": "Courier New, monospace",
            "size": 30
           },
           "type": "scatter",
           "x": [
            20,
            30,
            40,
            50,
            60,
            70,
            80,
            90,
            100
           ],
           "y": [
            48.5,
            48.5,
            48.5,
            48.5,
            48.5,
            48.5,
            48.5,
            48.5,
            48.5
           ]
          },
          {
           "hoverinfo": "none",
           "line": {
            "color": "blue",
            "dash": "dash"
           },
           "showlegend": false,
           "type": "scatter",
           "x": [
            null,
            null
           ],
           "y": [
            0,
            53.5
           ]
          },
          {
           "hoverinfo": "none",
           "line": {
            "color": "yellow",
            "dash": "dash"
           },
           "showlegend": false,
           "type": "scatter",
           "x": [
            null,
            null
           ],
           "y": [
            0,
            53.5
           ]
          },
          {
           "hoverinfo": "text",
           "hovertext": [
            "nflId:25511.0<br>displayName:Tom Brady<br>Position:QB<br>Role:Pass",
            "nflId:35481.0<br>displayName:Rob Gronkowski<br>Position:TE-L<br>Role:Pass Route",
            "nflId:35634.0<br>displayName:Antonio Brown<br>Position:LWR<br>Role:Pass Route",
            "nflId:39985.0<br>displayName:Giovani Bernard<br>Position:HB-R<br>Role:Pass Route",
            "nflId:40151.0<br>displayName:Ryan Jensen<br>Position:C<br>Role:Pass Block",
            "nflId:41233.0<br>displayName:Mike Evans<br>Position:RWR<br>Role:Pass Route",
            "nflId:42377.0<br>displayName:Donovan Smith<br>Position:LT<br>Role:Pass Block",
            "nflId:42404.0<br>displayName:Ali Marpet<br>Position:LG<br>Role:Pass Block",
            "nflId:44896.0<br>displayName:Chris Godwin<br>Position:SLWR<br>Role:Pass Route",
            "nflId:46163.0<br>displayName:Alex Cappa<br>Position:RG<br>Role:Pass Block",
            "nflId:52421.0<br>displayName:Tristan Wirfs<br>Position:RT<br>Role:Pass Block"
           ],
           "marker": {
            "color": "#D50A0A"
           },
           "mode": "markers",
           "name": "TB",
           "type": "scatter",
           "x": [
            35.63,
            43.42,
            44.35,
            37.8,
            40.25,
            43.93,
            38.46,
            40.32,
            43.49,
            40.01,
            39.55
           ],
           "y": [
            24.05,
            32.1,
            39.5,
            22.56,
            24.66,
            17.72,
            27.8,
            25.69,
            32.57,
            22.51,
            20.92
           ]
          },
          {
           "hoverinfo": "text",
           "hovertext": [
            "nflId:41263.0<br>displayName:Demarcus Lawrence<br>Position:LEO<br>Role:Pass Rush",
            "nflId:42403.0<br>displayName:Randy Gregory<br>Position:ROLB<br>Role:Pass Rush",
            "nflId:43306.0<br>displayName:Keanu Neal<br>Position:ROLB<br>Role:Coverage",
            "nflId:43478.0<br>displayName:Anthony Brown<br>Position:RCB<br>Role:Coverage",
            "nflId:44904.0<br>displayName:Jourdan Lewis<br>Position:SCBR<br>Role:Coverage",
            "nflId:44955.0<br>displayName:Carlos Watkins<br>Position:DRT<br>Role:Pass Rush",
            "nflId:44962.0<br>displayName:Damontae Kazee<br>Position:FS<br>Role:Coverage",
            "nflId:47996.0<br>displayName:Donovan Wilson<br>Position:LILB<br>Role:Coverage",
            "nflId:52459.0<br>displayName:Trevon Diggs<br>Position:LCB<br>Role:Coverage",
            "nflId:53441.0<br>displayName:Micah Parsons<br>Position:LILB<br>Role:Pass Rush",
            "nflId:53504.0<br>displayName:Osa Odighizuwa<br>Position:RE<br>Role:Pass Rush"
           ],
           "marker": {
            "color": "#003594"
           },
           "mode": "markers",
           "name": "DAL",
           "type": "scatter",
           "x": [
            40.72,
            39.41,
            45.11,
            45.45,
            45.63,
            41.07,
            61.51,
            47.4,
            45.76,
            40.24,
            41.75
           ],
           "y": [
            20.75,
            30.25,
            30.85,
            39.08,
            33.72,
            25.72,
            27.07,
            21.05,
            15.9,
            22.48,
            26.07
           ]
          },
          {
           "hoverinfo": "none",
           "marker": {
            "color": "#CBB67C"
           },
           "mode": "markers",
           "name": "football",
           "type": "scatter",
           "x": [
            35.98
           ],
           "y": [
            23.99
           ]
          }
         ],
         "name": "18"
        },
        {
         "data": [
          {
           "hoverinfo": "none",
           "mode": "text",
           "showlegend": false,
           "text": [
            "10",
            "20",
            "30",
            "40",
            "50",
            "40",
            "30",
            "20",
            "10"
           ],
           "textfont": {
            "color": "#ffffff",
            "family": "Courier New, monospace",
            "size": 30
           },
           "type": "scatter",
           "x": [
            20,
            30,
            40,
            50,
            60,
            70,
            80,
            90,
            100
           ],
           "y": [
            5,
            5,
            5,
            5,
            5,
            5,
            5,
            5,
            5
           ]
          },
          {
           "hoverinfo": "none",
           "mode": "text",
           "showlegend": false,
           "text": [
            "10",
            "20",
            "30",
            "40",
            "50",
            "40",
            "30",
            "20",
            "10"
           ],
           "textfont": {
            "color": "#ffffff",
            "family": "Courier New, monospace",
            "size": 30
           },
           "type": "scatter",
           "x": [
            20,
            30,
            40,
            50,
            60,
            70,
            80,
            90,
            100
           ],
           "y": [
            48.5,
            48.5,
            48.5,
            48.5,
            48.5,
            48.5,
            48.5,
            48.5,
            48.5
           ]
          },
          {
           "hoverinfo": "none",
           "line": {
            "color": "blue",
            "dash": "dash"
           },
           "showlegend": false,
           "type": "scatter",
           "x": [
            null,
            null
           ],
           "y": [
            0,
            53.5
           ]
          },
          {
           "hoverinfo": "none",
           "line": {
            "color": "yellow",
            "dash": "dash"
           },
           "showlegend": false,
           "type": "scatter",
           "x": [
            null,
            null
           ],
           "y": [
            0,
            53.5
           ]
          },
          {
           "hoverinfo": "text",
           "hovertext": [
            "nflId:25511.0<br>displayName:Tom Brady<br>Position:QB<br>Role:Pass",
            "nflId:35481.0<br>displayName:Rob Gronkowski<br>Position:TE-L<br>Role:Pass Route",
            "nflId:35634.0<br>displayName:Antonio Brown<br>Position:LWR<br>Role:Pass Route",
            "nflId:39985.0<br>displayName:Giovani Bernard<br>Position:HB-R<br>Role:Pass Route",
            "nflId:40151.0<br>displayName:Ryan Jensen<br>Position:C<br>Role:Pass Block",
            "nflId:41233.0<br>displayName:Mike Evans<br>Position:RWR<br>Role:Pass Route",
            "nflId:42377.0<br>displayName:Donovan Smith<br>Position:LT<br>Role:Pass Block",
            "nflId:42404.0<br>displayName:Ali Marpet<br>Position:LG<br>Role:Pass Block",
            "nflId:44896.0<br>displayName:Chris Godwin<br>Position:SLWR<br>Role:Pass Route",
            "nflId:46163.0<br>displayName:Alex Cappa<br>Position:RG<br>Role:Pass Block",
            "nflId:52421.0<br>displayName:Tristan Wirfs<br>Position:RT<br>Role:Pass Block"
           ],
           "marker": {
            "color": "#D50A0A"
           },
           "mode": "markers",
           "name": "TB",
           "type": "scatter",
           "x": [
            35.42,
            43.54,
            44.85,
            37.79,
            40.05,
            44.24,
            38.14,
            40.15,
            43.96,
            39.75,
            39.43
           ],
           "y": [
            24.02,
            32.51,
            39.86,
            22.53,
            24.65,
            18.13,
            27.79,
            25.7,
            32.32,
            22.5,
            20.97
           ]
          },
          {
           "hoverinfo": "text",
           "hovertext": [
            "nflId:41263.0<br>displayName:Demarcus Lawrence<br>Position:LEO<br>Role:Pass Rush",
            "nflId:42403.0<br>displayName:Randy Gregory<br>Position:ROLB<br>Role:Pass Rush",
            "nflId:43306.0<br>displayName:Keanu Neal<br>Position:ROLB<br>Role:Coverage",
            "nflId:43478.0<br>displayName:Anthony Brown<br>Position:RCB<br>Role:Coverage",
            "nflId:44904.0<br>displayName:Jourdan Lewis<br>Position:SCBR<br>Role:Coverage",
            "nflId:44955.0<br>displayName:Carlos Watkins<br>Position:DRT<br>Role:Pass Rush",
            "nflId:44962.0<br>displayName:Damontae Kazee<br>Position:FS<br>Role:Coverage",
            "nflId:47996.0<br>displayName:Donovan Wilson<br>Position:LILB<br>Role:Coverage",
            "nflId:52459.0<br>displayName:Trevon Diggs<br>Position:LCB<br>Role:Coverage",
            "nflId:53441.0<br>displayName:Micah Parsons<br>Position:LILB<br>Role:Pass Rush",
            "nflId:53504.0<br>displayName:Osa Odighizuwa<br>Position:RE<br>Role:Pass Rush"
           ],
           "marker": {
            "color": "#003594"
           },
           "mode": "markers",
           "name": "DAL",
           "type": "scatter",
           "x": [
            40.51,
            38.94,
            45.15,
            45.87,
            45.83,
            40.87,
            61.8,
            47.35,
            46.16,
            39.94,
            41.56
           ],
           "y": [
            21.04,
            29.92,
            31.3,
            39.38,
            33.43,
            25.76,
            27.09,
            21.1,
            16.02,
            22.41,
            25.92
           ]
          },
          {
           "hoverinfo": "none",
           "marker": {
            "color": "#CBB67C"
           },
           "mode": "markers",
           "name": "football",
           "type": "scatter",
           "x": [
            35.72
           ],
           "y": [
            23.9
           ]
          }
         ],
         "name": "19"
        },
        {
         "data": [
          {
           "hoverinfo": "none",
           "mode": "text",
           "showlegend": false,
           "text": [
            "10",
            "20",
            "30",
            "40",
            "50",
            "40",
            "30",
            "20",
            "10"
           ],
           "textfont": {
            "color": "#ffffff",
            "family": "Courier New, monospace",
            "size": 30
           },
           "type": "scatter",
           "x": [
            20,
            30,
            40,
            50,
            60,
            70,
            80,
            90,
            100
           ],
           "y": [
            5,
            5,
            5,
            5,
            5,
            5,
            5,
            5,
            5
           ]
          },
          {
           "hoverinfo": "none",
           "mode": "text",
           "showlegend": false,
           "text": [
            "10",
            "20",
            "30",
            "40",
            "50",
            "40",
            "30",
            "20",
            "10"
           ],
           "textfont": {
            "color": "#ffffff",
            "family": "Courier New, monospace",
            "size": 30
           },
           "type": "scatter",
           "x": [
            20,
            30,
            40,
            50,
            60,
            70,
            80,
            90,
            100
           ],
           "y": [
            48.5,
            48.5,
            48.5,
            48.5,
            48.5,
            48.5,
            48.5,
            48.5,
            48.5
           ]
          },
          {
           "hoverinfo": "none",
           "line": {
            "color": "blue",
            "dash": "dash"
           },
           "showlegend": false,
           "type": "scatter",
           "x": [
            null,
            null
           ],
           "y": [
            0,
            53.5
           ]
          },
          {
           "hoverinfo": "none",
           "line": {
            "color": "yellow",
            "dash": "dash"
           },
           "showlegend": false,
           "type": "scatter",
           "x": [
            null,
            null
           ],
           "y": [
            0,
            53.5
           ]
          },
          {
           "hoverinfo": "text",
           "hovertext": [
            "nflId:25511.0<br>displayName:Tom Brady<br>Position:QB<br>Role:Pass",
            "nflId:35481.0<br>displayName:Rob Gronkowski<br>Position:TE-L<br>Role:Pass Route",
            "nflId:35634.0<br>displayName:Antonio Brown<br>Position:LWR<br>Role:Pass Route",
            "nflId:39985.0<br>displayName:Giovani Bernard<br>Position:HB-R<br>Role:Pass Route",
            "nflId:40151.0<br>displayName:Ryan Jensen<br>Position:C<br>Role:Pass Block",
            "nflId:41233.0<br>displayName:Mike Evans<br>Position:RWR<br>Role:Pass Route",
            "nflId:42377.0<br>displayName:Donovan Smith<br>Position:LT<br>Role:Pass Block",
            "nflId:42404.0<br>displayName:Ali Marpet<br>Position:LG<br>Role:Pass Block",
            "nflId:44896.0<br>displayName:Chris Godwin<br>Position:SLWR<br>Role:Pass Route",
            "nflId:46163.0<br>displayName:Alex Cappa<br>Position:RG<br>Role:Pass Block",
            "nflId:52421.0<br>displayName:Tristan Wirfs<br>Position:RT<br>Role:Pass Block"
           ],
           "marker": {
            "color": "#D50A0A"
           },
           "mode": "markers",
           "name": "TB",
           "type": "scatter",
           "x": [
            35.22,
            43.64,
            45.41,
            37.75,
            39.88,
            44.53,
            37.83,
            39.99,
            44.44,
            39.52,
            39.27
           ],
           "y": [
            23.98,
            32.95,
            40.21,
            22.49,
            24.63,
            18.58,
            27.74,
            25.71,
            32.05,
            22.52,
            21.06
           ]
          },
          {
           "hoverinfo": "text",
           "hovertext": [
            "nflId:41263.0<br>displayName:Demarcus Lawrence<br>Position:LEO<br>Role:Pass Rush",
            "nflId:42403.0<br>displayName:Randy Gregory<br>Position:ROLB<br>Role:Pass Rush",
            "nflId:43306.0<br>displayName:Keanu Neal<br>Position:ROLB<br>Role:Coverage",
            "nflId:43478.0<br>displayName:Anthony Brown<br>Position:RCB<br>Role:Coverage",
            "nflId:44904.0<br>displayName:Jourdan Lewis<br>Position:SCBR<br>Role:Coverage",
            "nflId:44955.0<br>displayName:Carlos Watkins<br>Position:DRT<br>Role:Pass Rush",
            "nflId:44962.0<br>displayName:Damontae Kazee<br>Position:FS<br>Role:Coverage",
            "nflId:47996.0<br>displayName:Donovan Wilson<br>Position:LILB<br>Role:Coverage",
            "nflId:52459.0<br>displayName:Trevon Diggs<br>Position:LCB<br>Role:Coverage",
            "nflId:53441.0<br>displayName:Micah Parsons<br>Position:LILB<br>Role:Pass Rush",
            "nflId:53504.0<br>displayName:Osa Odighizuwa<br>Position:RE<br>Role:Pass Rush"
           ],
           "marker": {
            "color": "#003594"
           },
           "mode": "markers",
           "name": "DAL",
           "type": "scatter",
           "x": [
            40.22,
            38.5,
            45.19,
            46.29,
            46.03,
            40.65,
            62.1,
            47.29,
            46.57,
            39.65,
            41.33
           ],
           "y": [
            21.48,
            29.58,
            31.81,
            39.68,
            33.1,
            25.8,
            27.14,
            21.18,
            16.17,
            22.37,
            25.6
           ]
          },
          {
           "hoverinfo": "none",
           "marker": {
            "color": "#CBB67C"
           },
           "mode": "markers",
           "name": "football",
           "type": "scatter",
           "x": [
            35.55
           ],
           "y": [
            23.9
           ]
          }
         ],
         "name": "20"
        },
        {
         "data": [
          {
           "hoverinfo": "none",
           "mode": "text",
           "showlegend": false,
           "text": [
            "10",
            "20",
            "30",
            "40",
            "50",
            "40",
            "30",
            "20",
            "10"
           ],
           "textfont": {
            "color": "#ffffff",
            "family": "Courier New, monospace",
            "size": 30
           },
           "type": "scatter",
           "x": [
            20,
            30,
            40,
            50,
            60,
            70,
            80,
            90,
            100
           ],
           "y": [
            5,
            5,
            5,
            5,
            5,
            5,
            5,
            5,
            5
           ]
          },
          {
           "hoverinfo": "none",
           "mode": "text",
           "showlegend": false,
           "text": [
            "10",
            "20",
            "30",
            "40",
            "50",
            "40",
            "30",
            "20",
            "10"
           ],
           "textfont": {
            "color": "#ffffff",
            "family": "Courier New, monospace",
            "size": 30
           },
           "type": "scatter",
           "x": [
            20,
            30,
            40,
            50,
            60,
            70,
            80,
            90,
            100
           ],
           "y": [
            48.5,
            48.5,
            48.5,
            48.5,
            48.5,
            48.5,
            48.5,
            48.5,
            48.5
           ]
          },
          {
           "hoverinfo": "none",
           "line": {
            "color": "blue",
            "dash": "dash"
           },
           "showlegend": false,
           "type": "scatter",
           "x": [
            null,
            null
           ],
           "y": [
            0,
            53.5
           ]
          },
          {
           "hoverinfo": "none",
           "line": {
            "color": "yellow",
            "dash": "dash"
           },
           "showlegend": false,
           "type": "scatter",
           "x": [
            null,
            null
           ],
           "y": [
            0,
            53.5
           ]
          },
          {
           "hoverinfo": "text",
           "hovertext": [
            "nflId:25511.0<br>displayName:Tom Brady<br>Position:QB<br>Role:Pass",
            "nflId:35481.0<br>displayName:Rob Gronkowski<br>Position:TE-L<br>Role:Pass Route",
            "nflId:35634.0<br>displayName:Antonio Brown<br>Position:LWR<br>Role:Pass Route",
            "nflId:39985.0<br>displayName:Giovani Bernard<br>Position:HB-R<br>Role:Pass Route",
            "nflId:40151.0<br>displayName:Ryan Jensen<br>Position:C<br>Role:Pass Block",
            "nflId:41233.0<br>displayName:Mike Evans<br>Position:RWR<br>Role:Pass Route",
            "nflId:42377.0<br>displayName:Donovan Smith<br>Position:LT<br>Role:Pass Block",
            "nflId:42404.0<br>displayName:Ali Marpet<br>Position:LG<br>Role:Pass Block",
            "nflId:44896.0<br>displayName:Chris Godwin<br>Position:SLWR<br>Role:Pass Route",
            "nflId:46163.0<br>displayName:Alex Cappa<br>Position:RG<br>Role:Pass Block",
            "nflId:52421.0<br>displayName:Tristan Wirfs<br>Position:RT<br>Role:Pass Block"
           ],
           "marker": {
            "color": "#D50A0A"
           },
           "mode": "markers",
           "name": "TB",
           "type": "scatter",
           "x": [
            35.04,
            43.74,
            46,
            37.68,
            39.72,
            44.78,
            37.54,
            39.82,
            44.91,
            39.28,
            39.11
           ],
           "y": [
            23.96,
            33.41,
            40.55,
            22.4,
            24.61,
            19.07,
            27.7,
            25.72,
            31.76,
            22.53,
            21.13
           ]
          },
          {
           "hoverinfo": "text",
           "hovertext": [
            "nflId:41263.0<br>displayName:Demarcus Lawrence<br>Position:LEO<br>Role:Pass Rush",
            "nflId:42403.0<br>displayName:Randy Gregory<br>Position:ROLB<br>Role:Pass Rush",
            "nflId:43306.0<br>displayName:Keanu Neal<br>Position:ROLB<br>Role:Coverage",
            "nflId:43478.0<br>displayName:Anthony Brown<br>Position:RCB<br>Role:Coverage",
            "nflId:44904.0<br>displayName:Jourdan Lewis<br>Position:SCBR<br>Role:Coverage",
            "nflId:44955.0<br>displayName:Carlos Watkins<br>Position:DRT<br>Role:Pass Rush",
            "nflId:44962.0<br>displayName:Damontae Kazee<br>Position:FS<br>Role:Coverage",
            "nflId:47996.0<br>displayName:Donovan Wilson<br>Position:LILB<br>Role:Coverage",
            "nflId:52459.0<br>displayName:Trevon Diggs<br>Position:LCB<br>Role:Coverage",
            "nflId:53441.0<br>displayName:Micah Parsons<br>Position:LILB<br>Role:Pass Rush",
            "nflId:53504.0<br>displayName:Osa Odighizuwa<br>Position:RE<br>Role:Pass Rush"
           ],
           "marker": {
            "color": "#003594"
           },
           "mode": "markers",
           "name": "DAL",
           "type": "scatter",
           "x": [
            39.97,
            38.06,
            45.23,
            46.79,
            46.3,
            40.45,
            62.4,
            47.23,
            46.95,
            39.38,
            41.12
           ],
           "y": [
            21.85,
            29.23,
            32.35,
            39.98,
            32.74,
            25.82,
            27.21,
            21.32,
            16.36,
            22.32,
            25.34
           ]
          },
          {
           "hoverinfo": "none",
           "marker": {
            "color": "#CBB67C"
           },
           "mode": "markers",
           "name": "football",
           "type": "scatter",
           "x": [
            35.35
           ],
           "y": [
            23.82
           ]
          }
         ],
         "name": "21"
        },
        {
         "data": [
          {
           "hoverinfo": "none",
           "mode": "text",
           "showlegend": false,
           "text": [
            "10",
            "20",
            "30",
            "40",
            "50",
            "40",
            "30",
            "20",
            "10"
           ],
           "textfont": {
            "color": "#ffffff",
            "family": "Courier New, monospace",
            "size": 30
           },
           "type": "scatter",
           "x": [
            20,
            30,
            40,
            50,
            60,
            70,
            80,
            90,
            100
           ],
           "y": [
            5,
            5,
            5,
            5,
            5,
            5,
            5,
            5,
            5
           ]
          },
          {
           "hoverinfo": "none",
           "mode": "text",
           "showlegend": false,
           "text": [
            "10",
            "20",
            "30",
            "40",
            "50",
            "40",
            "30",
            "20",
            "10"
           ],
           "textfont": {
            "color": "#ffffff",
            "family": "Courier New, monospace",
            "size": 30
           },
           "type": "scatter",
           "x": [
            20,
            30,
            40,
            50,
            60,
            70,
            80,
            90,
            100
           ],
           "y": [
            48.5,
            48.5,
            48.5,
            48.5,
            48.5,
            48.5,
            48.5,
            48.5,
            48.5
           ]
          },
          {
           "hoverinfo": "none",
           "line": {
            "color": "blue",
            "dash": "dash"
           },
           "showlegend": false,
           "type": "scatter",
           "x": [
            null,
            null
           ],
           "y": [
            0,
            53.5
           ]
          },
          {
           "hoverinfo": "none",
           "line": {
            "color": "yellow",
            "dash": "dash"
           },
           "showlegend": false,
           "type": "scatter",
           "x": [
            null,
            null
           ],
           "y": [
            0,
            53.5
           ]
          },
          {
           "hoverinfo": "text",
           "hovertext": [
            "nflId:25511.0<br>displayName:Tom Brady<br>Position:QB<br>Role:Pass",
            "nflId:35481.0<br>displayName:Rob Gronkowski<br>Position:TE-L<br>Role:Pass Route",
            "nflId:35634.0<br>displayName:Antonio Brown<br>Position:LWR<br>Role:Pass Route",
            "nflId:39985.0<br>displayName:Giovani Bernard<br>Position:HB-R<br>Role:Pass Route",
            "nflId:40151.0<br>displayName:Ryan Jensen<br>Position:C<br>Role:Pass Block",
            "nflId:41233.0<br>displayName:Mike Evans<br>Position:RWR<br>Role:Pass Route",
            "nflId:42377.0<br>displayName:Donovan Smith<br>Position:LT<br>Role:Pass Block",
            "nflId:42404.0<br>displayName:Ali Marpet<br>Position:LG<br>Role:Pass Block",
            "nflId:44896.0<br>displayName:Chris Godwin<br>Position:SLWR<br>Role:Pass Route",
            "nflId:46163.0<br>displayName:Alex Cappa<br>Position:RG<br>Role:Pass Block",
            "nflId:52421.0<br>displayName:Tristan Wirfs<br>Position:RT<br>Role:Pass Block"
           ],
           "marker": {
            "color": "#D50A0A"
           },
           "mode": "markers",
           "name": "TB",
           "type": "scatter",
           "x": [
            34.86,
            43.84,
            46.63,
            37.6,
            39.57,
            44.99,
            37.21,
            39.66,
            45.39,
            39.04,
            38.95
           ],
           "y": [
            23.94,
            33.89,
            40.87,
            22.3,
            24.57,
            19.58,
            27.5,
            25.73,
            31.44,
            22.59,
            21.2
           ]
          },
          {
           "hoverinfo": "text",
           "hovertext": [
            "nflId:41263.0<br>displayName:Demarcus Lawrence<br>Position:LEO<br>Role:Pass Rush",
            "nflId:42403.0<br>displayName:Randy Gregory<br>Position:ROLB<br>Role:Pass Rush",
            "nflId:43306.0<br>displayName:Keanu Neal<br>Position:ROLB<br>Role:Coverage",
            "nflId:43478.0<br>displayName:Anthony Brown<br>Position:RCB<br>Role:Coverage",
            "nflId:44904.0<br>displayName:Jourdan Lewis<br>Position:SCBR<br>Role:Coverage",
            "nflId:44955.0<br>displayName:Carlos Watkins<br>Position:DRT<br>Role:Pass Rush",
            "nflId:44962.0<br>displayName:Damontae Kazee<br>Position:FS<br>Role:Coverage",
            "nflId:47996.0<br>displayName:Donovan Wilson<br>Position:LILB<br>Role:Coverage",
            "nflId:52459.0<br>displayName:Trevon Diggs<br>Position:LCB<br>Role:Coverage",
            "nflId:53441.0<br>displayName:Micah Parsons<br>Position:LILB<br>Role:Pass Rush",
            "nflId:53504.0<br>displayName:Osa Odighizuwa<br>Position:RE<br>Role:Pass Rush"
           ],
           "marker": {
            "color": "#003594"
           },
           "mode": "markers",
           "name": "DAL",
           "type": "scatter",
           "x": [
            39.69,
            37.64,
            45.27,
            47.34,
            46.56,
            40.26,
            62.68,
            47.17,
            47.32,
            39.13,
            40.9
           ],
           "y": [
            22.2,
            28.9,
            32.95,
            40.28,
            32.37,
            25.88,
            27.33,
            21.5,
            16.59,
            22.29,
            25.11
           ]
          },
          {
           "hoverinfo": "none",
           "marker": {
            "color": "#CBB67C"
           },
           "mode": "markers",
           "name": "football",
           "type": "scatter",
           "x": [
            35.26
           ],
           "y": [
            23.81
           ]
          }
         ],
         "name": "22"
        },
        {
         "data": [
          {
           "hoverinfo": "none",
           "mode": "text",
           "showlegend": false,
           "text": [
            "10",
            "20",
            "30",
            "40",
            "50",
            "40",
            "30",
            "20",
            "10"
           ],
           "textfont": {
            "color": "#ffffff",
            "family": "Courier New, monospace",
            "size": 30
           },
           "type": "scatter",
           "x": [
            20,
            30,
            40,
            50,
            60,
            70,
            80,
            90,
            100
           ],
           "y": [
            5,
            5,
            5,
            5,
            5,
            5,
            5,
            5,
            5
           ]
          },
          {
           "hoverinfo": "none",
           "mode": "text",
           "showlegend": false,
           "text": [
            "10",
            "20",
            "30",
            "40",
            "50",
            "40",
            "30",
            "20",
            "10"
           ],
           "textfont": {
            "color": "#ffffff",
            "family": "Courier New, monospace",
            "size": 30
           },
           "type": "scatter",
           "x": [
            20,
            30,
            40,
            50,
            60,
            70,
            80,
            90,
            100
           ],
           "y": [
            48.5,
            48.5,
            48.5,
            48.5,
            48.5,
            48.5,
            48.5,
            48.5,
            48.5
           ]
          },
          {
           "hoverinfo": "none",
           "line": {
            "color": "blue",
            "dash": "dash"
           },
           "showlegend": false,
           "type": "scatter",
           "x": [
            null,
            null
           ],
           "y": [
            0,
            53.5
           ]
          },
          {
           "hoverinfo": "none",
           "line": {
            "color": "yellow",
            "dash": "dash"
           },
           "showlegend": false,
           "type": "scatter",
           "x": [
            null,
            null
           ],
           "y": [
            0,
            53.5
           ]
          },
          {
           "hoverinfo": "text",
           "hovertext": [
            "nflId:25511.0<br>displayName:Tom Brady<br>Position:QB<br>Role:Pass",
            "nflId:35481.0<br>displayName:Rob Gronkowski<br>Position:TE-L<br>Role:Pass Route",
            "nflId:35634.0<br>displayName:Antonio Brown<br>Position:LWR<br>Role:Pass Route",
            "nflId:39985.0<br>displayName:Giovani Bernard<br>Position:HB-R<br>Role:Pass Route",
            "nflId:40151.0<br>displayName:Ryan Jensen<br>Position:C<br>Role:Pass Block",
            "nflId:41233.0<br>displayName:Mike Evans<br>Position:RWR<br>Role:Pass Route",
            "nflId:42377.0<br>displayName:Donovan Smith<br>Position:LT<br>Role:Pass Block",
            "nflId:42404.0<br>displayName:Ali Marpet<br>Position:LG<br>Role:Pass Block",
            "nflId:44896.0<br>displayName:Chris Godwin<br>Position:SLWR<br>Role:Pass Route",
            "nflId:46163.0<br>displayName:Alex Cappa<br>Position:RG<br>Role:Pass Block",
            "nflId:52421.0<br>displayName:Tristan Wirfs<br>Position:RT<br>Role:Pass Block"
           ],
           "marker": {
            "color": "#D50A0A"
           },
           "mode": "markers",
           "name": "TB",
           "type": "scatter",
           "x": [
            34.68,
            43.96,
            47.29,
            37.52,
            39.45,
            45.16,
            36.9,
            39.51,
            45.88,
            38.82,
            38.83
           ],
           "y": [
            23.94,
            34.39,
            41.14,
            22.17,
            24.53,
            20.16,
            27.34,
            25.73,
            31.1,
            22.69,
            21.28
           ]
          },
          {
           "hoverinfo": "text",
           "hovertext": [
            "nflId:41263.0<br>displayName:Demarcus Lawrence<br>Position:LEO<br>Role:Pass Rush",
            "nflId:42403.0<br>displayName:Randy Gregory<br>Position:ROLB<br>Role:Pass Rush",
            "nflId:43306.0<br>displayName:Keanu Neal<br>Position:ROLB<br>Role:Coverage",
            "nflId:43478.0<br>displayName:Anthony Brown<br>Position:RCB<br>Role:Coverage",
            "nflId:44904.0<br>displayName:Jourdan Lewis<br>Position:SCBR<br>Role:Coverage",
            "nflId:44955.0<br>displayName:Carlos Watkins<br>Position:DRT<br>Role:Pass Rush",
            "nflId:44962.0<br>displayName:Damontae Kazee<br>Position:FS<br>Role:Coverage",
            "nflId:47996.0<br>displayName:Donovan Wilson<br>Position:LILB<br>Role:Coverage",
            "nflId:52459.0<br>displayName:Trevon Diggs<br>Position:LCB<br>Role:Coverage",
            "nflId:53441.0<br>displayName:Micah Parsons<br>Position:LILB<br>Role:Pass Rush",
            "nflId:53504.0<br>displayName:Osa Odighizuwa<br>Position:RE<br>Role:Pass Rush"
           ],
           "marker": {
            "color": "#003594"
           },
           "mode": "markers",
           "name": "DAL",
           "type": "scatter",
           "x": [
            39.4,
            37.24,
            45.31,
            47.92,
            46.86,
            40.12,
            62.98,
            47.11,
            47.66,
            38.9,
            40.7
           ],
           "y": [
            22.54,
            28.56,
            33.59,
            40.58,
            31.99,
            25.97,
            27.49,
            21.74,
            16.88,
            22.24,
            24.86
           ]
          },
          {
           "hoverinfo": "none",
           "marker": {
            "color": "#CBB67C"
           },
           "mode": "markers",
           "name": "football",
           "type": "scatter",
           "x": [
            35.09
           ],
           "y": [
            23.74
           ]
          }
         ],
         "name": "23"
        },
        {
         "data": [
          {
           "hoverinfo": "none",
           "mode": "text",
           "showlegend": false,
           "text": [
            "10",
            "20",
            "30",
            "40",
            "50",
            "40",
            "30",
            "20",
            "10"
           ],
           "textfont": {
            "color": "#ffffff",
            "family": "Courier New, monospace",
            "size": 30
           },
           "type": "scatter",
           "x": [
            20,
            30,
            40,
            50,
            60,
            70,
            80,
            90,
            100
           ],
           "y": [
            5,
            5,
            5,
            5,
            5,
            5,
            5,
            5,
            5
           ]
          },
          {
           "hoverinfo": "none",
           "mode": "text",
           "showlegend": false,
           "text": [
            "10",
            "20",
            "30",
            "40",
            "50",
            "40",
            "30",
            "20",
            "10"
           ],
           "textfont": {
            "color": "#ffffff",
            "family": "Courier New, monospace",
            "size": 30
           },
           "type": "scatter",
           "x": [
            20,
            30,
            40,
            50,
            60,
            70,
            80,
            90,
            100
           ],
           "y": [
            48.5,
            48.5,
            48.5,
            48.5,
            48.5,
            48.5,
            48.5,
            48.5,
            48.5
           ]
          },
          {
           "hoverinfo": "none",
           "line": {
            "color": "blue",
            "dash": "dash"
           },
           "showlegend": false,
           "type": "scatter",
           "x": [
            null,
            null
           ],
           "y": [
            0,
            53.5
           ]
          },
          {
           "hoverinfo": "none",
           "line": {
            "color": "yellow",
            "dash": "dash"
           },
           "showlegend": false,
           "type": "scatter",
           "x": [
            null,
            null
           ],
           "y": [
            0,
            53.5
           ]
          },
          {
           "hoverinfo": "text",
           "hovertext": [
            "nflId:25511.0<br>displayName:Tom Brady<br>Position:QB<br>Role:Pass",
            "nflId:35481.0<br>displayName:Rob Gronkowski<br>Position:TE-L<br>Role:Pass Route",
            "nflId:35634.0<br>displayName:Antonio Brown<br>Position:LWR<br>Role:Pass Route",
            "nflId:39985.0<br>displayName:Giovani Bernard<br>Position:HB-R<br>Role:Pass Route",
            "nflId:40151.0<br>displayName:Ryan Jensen<br>Position:C<br>Role:Pass Block",
            "nflId:41233.0<br>displayName:Mike Evans<br>Position:RWR<br>Role:Pass Route",
            "nflId:42377.0<br>displayName:Donovan Smith<br>Position:LT<br>Role:Pass Block",
            "nflId:42404.0<br>displayName:Ali Marpet<br>Position:LG<br>Role:Pass Block",
            "nflId:44896.0<br>displayName:Chris Godwin<br>Position:SLWR<br>Role:Pass Route",
            "nflId:46163.0<br>displayName:Alex Cappa<br>Position:RG<br>Role:Pass Block",
            "nflId:52421.0<br>displayName:Tristan Wirfs<br>Position:RT<br>Role:Pass Block"
           ],
           "marker": {
            "color": "#D50A0A"
           },
           "mode": "markers",
           "name": "TB",
           "type": "scatter",
           "x": [
            34.51,
            44.07,
            47.95,
            37.42,
            39.33,
            45.29,
            36.62,
            39.39,
            46.37,
            38.58,
            38.62
           ],
           "y": [
            23.92,
            34.91,
            41.39,
            22,
            24.47,
            20.75,
            27.19,
            25.76,
            30.72,
            22.79,
            21.4
           ]
          },
          {
           "hoverinfo": "text",
           "hovertext": [
            "nflId:41263.0<br>displayName:Demarcus Lawrence<br>Position:LEO<br>Role:Pass Rush",
            "nflId:42403.0<br>displayName:Randy Gregory<br>Position:ROLB<br>Role:Pass Rush",
            "nflId:43306.0<br>displayName:Keanu Neal<br>Position:ROLB<br>Role:Coverage",
            "nflId:43478.0<br>displayName:Anthony Brown<br>Position:RCB<br>Role:Coverage",
            "nflId:44904.0<br>displayName:Jourdan Lewis<br>Position:SCBR<br>Role:Coverage",
            "nflId:44955.0<br>displayName:Carlos Watkins<br>Position:DRT<br>Role:Pass Rush",
            "nflId:44962.0<br>displayName:Damontae Kazee<br>Position:FS<br>Role:Coverage",
            "nflId:47996.0<br>displayName:Donovan Wilson<br>Position:LILB<br>Role:Coverage",
            "nflId:52459.0<br>displayName:Trevon Diggs<br>Position:LCB<br>Role:Coverage",
            "nflId:53441.0<br>displayName:Micah Parsons<br>Position:LILB<br>Role:Pass Rush",
            "nflId:53504.0<br>displayName:Osa Odighizuwa<br>Position:RE<br>Role:Pass Rush"
           ],
           "marker": {
            "color": "#003594"
           },
           "mode": "markers",
           "name": "DAL",
           "type": "scatter",
           "x": [
            39.06,
            36.88,
            45.36,
            48.54,
            47.19,
            39.99,
            63.27,
            47.06,
            47.97,
            38.68,
            40.52
           ],
           "y": [
            22.85,
            28.25,
            34.29,
            40.86,
            31.59,
            26.06,
            27.68,
            22.04,
            17.23,
            22.21,
            24.63
           ]
          },
          {
           "hoverinfo": "none",
           "marker": {
            "color": "#CBB67C"
           },
           "mode": "markers",
           "name": "football",
           "type": "scatter",
           "x": [
            35.04
           ],
           "y": [
            23.73
           ]
          }
         ],
         "name": "24"
        },
        {
         "data": [
          {
           "hoverinfo": "none",
           "mode": "text",
           "showlegend": false,
           "text": [
            "10",
            "20",
            "30",
            "40",
            "50",
            "40",
            "30",
            "20",
            "10"
           ],
           "textfont": {
            "color": "#ffffff",
            "family": "Courier New, monospace",
            "size": 30
           },
           "type": "scatter",
           "x": [
            20,
            30,
            40,
            50,
            60,
            70,
            80,
            90,
            100
           ],
           "y": [
            5,
            5,
            5,
            5,
            5,
            5,
            5,
            5,
            5
           ]
          },
          {
           "hoverinfo": "none",
           "mode": "text",
           "showlegend": false,
           "text": [
            "10",
            "20",
            "30",
            "40",
            "50",
            "40",
            "30",
            "20",
            "10"
           ],
           "textfont": {
            "color": "#ffffff",
            "family": "Courier New, monospace",
            "size": 30
           },
           "type": "scatter",
           "x": [
            20,
            30,
            40,
            50,
            60,
            70,
            80,
            90,
            100
           ],
           "y": [
            48.5,
            48.5,
            48.5,
            48.5,
            48.5,
            48.5,
            48.5,
            48.5,
            48.5
           ]
          },
          {
           "hoverinfo": "none",
           "line": {
            "color": "blue",
            "dash": "dash"
           },
           "showlegend": false,
           "type": "scatter",
           "x": [
            null,
            null
           ],
           "y": [
            0,
            53.5
           ]
          },
          {
           "hoverinfo": "none",
           "line": {
            "color": "yellow",
            "dash": "dash"
           },
           "showlegend": false,
           "type": "scatter",
           "x": [
            null,
            null
           ],
           "y": [
            0,
            53.5
           ]
          },
          {
           "hoverinfo": "text",
           "hovertext": [
            "nflId:25511.0<br>displayName:Tom Brady<br>Position:QB<br>Role:Pass",
            "nflId:35481.0<br>displayName:Rob Gronkowski<br>Position:TE-L<br>Role:Pass Route",
            "nflId:35634.0<br>displayName:Antonio Brown<br>Position:LWR<br>Role:Pass Route",
            "nflId:39985.0<br>displayName:Giovani Bernard<br>Position:HB-R<br>Role:Pass Route",
            "nflId:40151.0<br>displayName:Ryan Jensen<br>Position:C<br>Role:Pass Block",
            "nflId:41233.0<br>displayName:Mike Evans<br>Position:RWR<br>Role:Pass Route",
            "nflId:42377.0<br>displayName:Donovan Smith<br>Position:LT<br>Role:Pass Block",
            "nflId:42404.0<br>displayName:Ali Marpet<br>Position:LG<br>Role:Pass Block",
            "nflId:44896.0<br>displayName:Chris Godwin<br>Position:SLWR<br>Role:Pass Route",
            "nflId:46163.0<br>displayName:Alex Cappa<br>Position:RG<br>Role:Pass Block",
            "nflId:52421.0<br>displayName:Tristan Wirfs<br>Position:RT<br>Role:Pass Block"
           ],
           "marker": {
            "color": "#D50A0A"
           },
           "mode": "markers",
           "name": "TB",
           "type": "scatter",
           "x": [
            34.36,
            44.2,
            48.63,
            37.29,
            39.22,
            45.41,
            36.34,
            39.28,
            46.85,
            38.36,
            38.42
           ],
           "y": [
            23.89,
            35.47,
            41.62,
            21.8,
            24.39,
            21.39,
            26.96,
            25.79,
            30.34,
            22.9,
            21.5
           ]
          },
          {
           "hoverinfo": "text",
           "hovertext": [
            "nflId:41263.0<br>displayName:Demarcus Lawrence<br>Position:LEO<br>Role:Pass Rush",
            "nflId:42403.0<br>displayName:Randy Gregory<br>Position:ROLB<br>Role:Pass Rush",
            "nflId:43306.0<br>displayName:Keanu Neal<br>Position:ROLB<br>Role:Coverage",
            "nflId:43478.0<br>displayName:Anthony Brown<br>Position:RCB<br>Role:Coverage",
            "nflId:44904.0<br>displayName:Jourdan Lewis<br>Position:SCBR<br>Role:Coverage",
            "nflId:44955.0<br>displayName:Carlos Watkins<br>Position:DRT<br>Role:Pass Rush",
            "nflId:44962.0<br>displayName:Damontae Kazee<br>Position:FS<br>Role:Coverage",
            "nflId:47996.0<br>displayName:Donovan Wilson<br>Position:LILB<br>Role:Coverage",
            "nflId:52459.0<br>displayName:Trevon Diggs<br>Position:LCB<br>Role:Coverage",
            "nflId:53441.0<br>displayName:Micah Parsons<br>Position:LILB<br>Role:Pass Rush",
            "nflId:53504.0<br>displayName:Osa Odighizuwa<br>Position:RE<br>Role:Pass Rush"
           ],
           "marker": {
            "color": "#003594"
           },
           "mode": "markers",
           "name": "DAL",
           "type": "scatter",
           "x": [
            38.73,
            36.56,
            45.41,
            49.18,
            47.53,
            39.9,
            63.59,
            46.99,
            48.25,
            38.46,
            40.29
           ],
           "y": [
            23.15,
            27.95,
            35.02,
            41.13,
            31.19,
            26.14,
            27.89,
            22.31,
            17.61,
            22.21,
            24.33
           ]
          },
          {
           "hoverinfo": "none",
           "marker": {
            "color": "#CBB67C"
           },
           "mode": "markers",
           "name": "football",
           "type": "scatter",
           "x": [
            34.88
           ],
           "y": [
            23.66
           ]
          }
         ],
         "name": "25"
        },
        {
         "data": [
          {
           "hoverinfo": "none",
           "mode": "text",
           "showlegend": false,
           "text": [
            "10",
            "20",
            "30",
            "40",
            "50",
            "40",
            "30",
            "20",
            "10"
           ],
           "textfont": {
            "color": "#ffffff",
            "family": "Courier New, monospace",
            "size": 30
           },
           "type": "scatter",
           "x": [
            20,
            30,
            40,
            50,
            60,
            70,
            80,
            90,
            100
           ],
           "y": [
            5,
            5,
            5,
            5,
            5,
            5,
            5,
            5,
            5
           ]
          },
          {
           "hoverinfo": "none",
           "mode": "text",
           "showlegend": false,
           "text": [
            "10",
            "20",
            "30",
            "40",
            "50",
            "40",
            "30",
            "20",
            "10"
           ],
           "textfont": {
            "color": "#ffffff",
            "family": "Courier New, monospace",
            "size": 30
           },
           "type": "scatter",
           "x": [
            20,
            30,
            40,
            50,
            60,
            70,
            80,
            90,
            100
           ],
           "y": [
            48.5,
            48.5,
            48.5,
            48.5,
            48.5,
            48.5,
            48.5,
            48.5,
            48.5
           ]
          },
          {
           "hoverinfo": "none",
           "line": {
            "color": "blue",
            "dash": "dash"
           },
           "showlegend": false,
           "type": "scatter",
           "x": [
            null,
            null
           ],
           "y": [
            0,
            53.5
           ]
          },
          {
           "hoverinfo": "none",
           "line": {
            "color": "yellow",
            "dash": "dash"
           },
           "showlegend": false,
           "type": "scatter",
           "x": [
            null,
            null
           ],
           "y": [
            0,
            53.5
           ]
          },
          {
           "hoverinfo": "text",
           "hovertext": [
            "nflId:25511.0<br>displayName:Tom Brady<br>Position:QB<br>Role:Pass",
            "nflId:35481.0<br>displayName:Rob Gronkowski<br>Position:TE-L<br>Role:Pass Route",
            "nflId:35634.0<br>displayName:Antonio Brown<br>Position:LWR<br>Role:Pass Route",
            "nflId:39985.0<br>displayName:Giovani Bernard<br>Position:HB-R<br>Role:Pass Route",
            "nflId:40151.0<br>displayName:Ryan Jensen<br>Position:C<br>Role:Pass Block",
            "nflId:41233.0<br>displayName:Mike Evans<br>Position:RWR<br>Role:Pass Route",
            "nflId:42377.0<br>displayName:Donovan Smith<br>Position:LT<br>Role:Pass Block",
            "nflId:42404.0<br>displayName:Ali Marpet<br>Position:LG<br>Role:Pass Block",
            "nflId:44896.0<br>displayName:Chris Godwin<br>Position:SLWR<br>Role:Pass Route",
            "nflId:46163.0<br>displayName:Alex Cappa<br>Position:RG<br>Role:Pass Block",
            "nflId:52421.0<br>displayName:Tristan Wirfs<br>Position:RT<br>Role:Pass Block"
           ],
           "marker": {
            "color": "#D50A0A"
           },
           "mode": "markers",
           "name": "TB",
           "type": "scatter",
           "x": [
            34.21,
            44.35,
            49.26,
            37.17,
            39.12,
            45.47,
            36.08,
            39.18,
            47.34,
            38.12,
            38.19
           ],
           "y": [
            23.85,
            36.06,
            41.82,
            21.56,
            24.3,
            22.04,
            26.7,
            25.85,
            29.95,
            23.04,
            21.6
           ]
          },
          {
           "hoverinfo": "text",
           "hovertext": [
            "nflId:41263.0<br>displayName:Demarcus Lawrence<br>Position:LEO<br>Role:Pass Rush",
            "nflId:42403.0<br>displayName:Randy Gregory<br>Position:ROLB<br>Role:Pass Rush",
            "nflId:43306.0<br>displayName:Keanu Neal<br>Position:ROLB<br>Role:Coverage",
            "nflId:43478.0<br>displayName:Anthony Brown<br>Position:RCB<br>Role:Coverage",
            "nflId:44904.0<br>displayName:Jourdan Lewis<br>Position:SCBR<br>Role:Coverage",
            "nflId:44955.0<br>displayName:Carlos Watkins<br>Position:DRT<br>Role:Pass Rush",
            "nflId:44962.0<br>displayName:Damontae Kazee<br>Position:FS<br>Role:Coverage",
            "nflId:47996.0<br>displayName:Donovan Wilson<br>Position:LILB<br>Role:Coverage",
            "nflId:52459.0<br>displayName:Trevon Diggs<br>Position:LCB<br>Role:Coverage",
            "nflId:53441.0<br>displayName:Micah Parsons<br>Position:LILB<br>Role:Pass Rush",
            "nflId:53504.0<br>displayName:Osa Odighizuwa<br>Position:RE<br>Role:Pass Rush"
           ],
           "marker": {
            "color": "#003594"
           },
           "mode": "markers",
           "name": "DAL",
           "type": "scatter",
           "x": [
            38.39,
            36.25,
            45.47,
            49.84,
            47.89,
            39.79,
            63.9,
            46.95,
            48.51,
            38.19,
            39.95
           ],
           "y": [
            23.44,
            27.65,
            35.74,
            41.39,
            30.77,
            26.28,
            28.13,
            22.56,
            18.02,
            22.34,
            23.96
           ]
          },
          {
           "hoverinfo": "none",
           "marker": {
            "color": "#CBB67C"
           },
           "mode": "markers",
           "name": "football",
           "type": "scatter",
           "x": [
            34.85
           ],
           "y": [
            23.66
           ]
          }
         ],
         "name": "26"
        },
        {
         "data": [
          {
           "hoverinfo": "none",
           "mode": "text",
           "showlegend": false,
           "text": [
            "10",
            "20",
            "30",
            "40",
            "50",
            "40",
            "30",
            "20",
            "10"
           ],
           "textfont": {
            "color": "#ffffff",
            "family": "Courier New, monospace",
            "size": 30
           },
           "type": "scatter",
           "x": [
            20,
            30,
            40,
            50,
            60,
            70,
            80,
            90,
            100
           ],
           "y": [
            5,
            5,
            5,
            5,
            5,
            5,
            5,
            5,
            5
           ]
          },
          {
           "hoverinfo": "none",
           "mode": "text",
           "showlegend": false,
           "text": [
            "10",
            "20",
            "30",
            "40",
            "50",
            "40",
            "30",
            "20",
            "10"
           ],
           "textfont": {
            "color": "#ffffff",
            "family": "Courier New, monospace",
            "size": 30
           },
           "type": "scatter",
           "x": [
            20,
            30,
            40,
            50,
            60,
            70,
            80,
            90,
            100
           ],
           "y": [
            48.5,
            48.5,
            48.5,
            48.5,
            48.5,
            48.5,
            48.5,
            48.5,
            48.5
           ]
          },
          {
           "hoverinfo": "none",
           "line": {
            "color": "blue",
            "dash": "dash"
           },
           "showlegend": false,
           "type": "scatter",
           "x": [
            null,
            null
           ],
           "y": [
            0,
            53.5
           ]
          },
          {
           "hoverinfo": "none",
           "line": {
            "color": "yellow",
            "dash": "dash"
           },
           "showlegend": false,
           "type": "scatter",
           "x": [
            null,
            null
           ],
           "y": [
            0,
            53.5
           ]
          },
          {
           "hoverinfo": "text",
           "hovertext": [
            "nflId:25511.0<br>displayName:Tom Brady<br>Position:QB<br>Role:Pass",
            "nflId:35481.0<br>displayName:Rob Gronkowski<br>Position:TE-L<br>Role:Pass Route",
            "nflId:35634.0<br>displayName:Antonio Brown<br>Position:LWR<br>Role:Pass Route",
            "nflId:39985.0<br>displayName:Giovani Bernard<br>Position:HB-R<br>Role:Pass Route",
            "nflId:40151.0<br>displayName:Ryan Jensen<br>Position:C<br>Role:Pass Block",
            "nflId:41233.0<br>displayName:Mike Evans<br>Position:RWR<br>Role:Pass Route",
            "nflId:42377.0<br>displayName:Donovan Smith<br>Position:LT<br>Role:Pass Block",
            "nflId:42404.0<br>displayName:Ali Marpet<br>Position:LG<br>Role:Pass Block",
            "nflId:44896.0<br>displayName:Chris Godwin<br>Position:SLWR<br>Role:Pass Route",
            "nflId:46163.0<br>displayName:Alex Cappa<br>Position:RG<br>Role:Pass Block",
            "nflId:52421.0<br>displayName:Tristan Wirfs<br>Position:RT<br>Role:Pass Block"
           ],
           "marker": {
            "color": "#D50A0A"
           },
           "mode": "markers",
           "name": "TB",
           "type": "scatter",
           "x": [
            34.08,
            44.5,
            49.84,
            37.04,
            39.06,
            45.53,
            35.81,
            39.09,
            47.83,
            37.92,
            37.96
           ],
           "y": [
            23.79,
            36.65,
            41.96,
            21.26,
            24.13,
            22.74,
            26.47,
            25.94,
            29.53,
            23.23,
            21.74
           ]
          },
          {
           "hoverinfo": "text",
           "hovertext": [
            "nflId:41263.0<br>displayName:Demarcus Lawrence<br>Position:LEO<br>Role:Pass Rush",
            "nflId:42403.0<br>displayName:Randy Gregory<br>Position:ROLB<br>Role:Pass Rush",
            "nflId:43306.0<br>displayName:Keanu Neal<br>Position:ROLB<br>Role:Coverage",
            "nflId:43478.0<br>displayName:Anthony Brown<br>Position:RCB<br>Role:Coverage",
            "nflId:44904.0<br>displayName:Jourdan Lewis<br>Position:SCBR<br>Role:Coverage",
            "nflId:44955.0<br>displayName:Carlos Watkins<br>Position:DRT<br>Role:Pass Rush",
            "nflId:44962.0<br>displayName:Damontae Kazee<br>Position:FS<br>Role:Coverage",
            "nflId:47996.0<br>displayName:Donovan Wilson<br>Position:LILB<br>Role:Coverage",
            "nflId:52459.0<br>displayName:Trevon Diggs<br>Position:LCB<br>Role:Coverage",
            "nflId:53441.0<br>displayName:Micah Parsons<br>Position:LILB<br>Role:Pass Rush",
            "nflId:53504.0<br>displayName:Osa Odighizuwa<br>Position:RE<br>Role:Pass Rush"
           ],
           "marker": {
            "color": "#003594"
           },
           "mode": "markers",
           "name": "DAL",
           "type": "scatter",
           "x": [
            38.04,
            35.95,
            45.53,
            50.49,
            48.27,
            39.68,
            64.24,
            46.92,
            48.71,
            37.94,
            39.66
           ],
           "y": [
            23.69,
            27.36,
            36.47,
            41.63,
            30.37,
            26.43,
            28.4,
            22.77,
            18.46,
            22.45,
            23.6
           ]
          },
          {
           "hoverinfo": "none",
           "marker": {
            "color": "#CBB67C"
           },
           "mode": "markers",
           "name": "football",
           "type": "scatter",
           "x": [
            34.83
           ],
           "y": [
            23.66
           ]
          }
         ],
         "name": "27"
        },
        {
         "data": [
          {
           "hoverinfo": "none",
           "mode": "text",
           "showlegend": false,
           "text": [
            "10",
            "20",
            "30",
            "40",
            "50",
            "40",
            "30",
            "20",
            "10"
           ],
           "textfont": {
            "color": "#ffffff",
            "family": "Courier New, monospace",
            "size": 30
           },
           "type": "scatter",
           "x": [
            20,
            30,
            40,
            50,
            60,
            70,
            80,
            90,
            100
           ],
           "y": [
            5,
            5,
            5,
            5,
            5,
            5,
            5,
            5,
            5
           ]
          },
          {
           "hoverinfo": "none",
           "mode": "text",
           "showlegend": false,
           "text": [
            "10",
            "20",
            "30",
            "40",
            "50",
            "40",
            "30",
            "20",
            "10"
           ],
           "textfont": {
            "color": "#ffffff",
            "family": "Courier New, monospace",
            "size": 30
           },
           "type": "scatter",
           "x": [
            20,
            30,
            40,
            50,
            60,
            70,
            80,
            90,
            100
           ],
           "y": [
            48.5,
            48.5,
            48.5,
            48.5,
            48.5,
            48.5,
            48.5,
            48.5,
            48.5
           ]
          },
          {
           "hoverinfo": "none",
           "line": {
            "color": "blue",
            "dash": "dash"
           },
           "showlegend": false,
           "type": "scatter",
           "x": [
            null,
            null
           ],
           "y": [
            0,
            53.5
           ]
          },
          {
           "hoverinfo": "none",
           "line": {
            "color": "yellow",
            "dash": "dash"
           },
           "showlegend": false,
           "type": "scatter",
           "x": [
            null,
            null
           ],
           "y": [
            0,
            53.5
           ]
          },
          {
           "hoverinfo": "text",
           "hovertext": [
            "nflId:25511.0<br>displayName:Tom Brady<br>Position:QB<br>Role:Pass",
            "nflId:35481.0<br>displayName:Rob Gronkowski<br>Position:TE-L<br>Role:Pass Route",
            "nflId:35634.0<br>displayName:Antonio Brown<br>Position:LWR<br>Role:Pass Route",
            "nflId:39985.0<br>displayName:Giovani Bernard<br>Position:HB-R<br>Role:Pass Route",
            "nflId:40151.0<br>displayName:Ryan Jensen<br>Position:C<br>Role:Pass Block",
            "nflId:41233.0<br>displayName:Mike Evans<br>Position:RWR<br>Role:Pass Route",
            "nflId:42377.0<br>displayName:Donovan Smith<br>Position:LT<br>Role:Pass Block",
            "nflId:42404.0<br>displayName:Ali Marpet<br>Position:LG<br>Role:Pass Block",
            "nflId:44896.0<br>displayName:Chris Godwin<br>Position:SLWR<br>Role:Pass Route",
            "nflId:46163.0<br>displayName:Alex Cappa<br>Position:RG<br>Role:Pass Block",
            "nflId:52421.0<br>displayName:Tristan Wirfs<br>Position:RT<br>Role:Pass Block"
           ],
           "marker": {
            "color": "#D50A0A"
           },
           "mode": "markers",
           "name": "TB",
           "type": "scatter",
           "x": [
            33.97,
            44.63,
            50.47,
            36.91,
            38.95,
            45.54,
            35.58,
            39.01,
            48.34,
            37.74,
            37.72
           ],
           "y": [
            23.7,
            37.25,
            42.13,
            20.94,
            23.99,
            23.44,
            26.23,
            26.11,
            29.09,
            23.41,
            21.88
           ]
          },
          {
           "hoverinfo": "text",
           "hovertext": [
            "nflId:41263.0<br>displayName:Demarcus Lawrence<br>Position:LEO<br>Role:Pass Rush",
            "nflId:42403.0<br>displayName:Randy Gregory<br>Position:ROLB<br>Role:Pass Rush",
            "nflId:43306.0<br>displayName:Keanu Neal<br>Position:ROLB<br>Role:Coverage",
            "nflId:43478.0<br>displayName:Anthony Brown<br>Position:RCB<br>Role:Coverage",
            "nflId:44904.0<br>displayName:Jourdan Lewis<br>Position:SCBR<br>Role:Coverage",
            "nflId:44955.0<br>displayName:Carlos Watkins<br>Position:DRT<br>Role:Pass Rush",
            "nflId:44962.0<br>displayName:Damontae Kazee<br>Position:FS<br>Role:Coverage",
            "nflId:47996.0<br>displayName:Donovan Wilson<br>Position:LILB<br>Role:Coverage",
            "nflId:52459.0<br>displayName:Trevon Diggs<br>Position:LCB<br>Role:Coverage",
            "nflId:53441.0<br>displayName:Micah Parsons<br>Position:LILB<br>Role:Pass Rush",
            "nflId:53504.0<br>displayName:Osa Odighizuwa<br>Position:RE<br>Role:Pass Rush"
           ],
           "marker": {
            "color": "#003594"
           },
           "mode": "markers",
           "name": "DAL",
           "type": "scatter",
           "x": [
            37.69,
            35.64,
            45.59,
            51.14,
            48.67,
            39.56,
            64.58,
            46.91,
            48.9,
            37.67,
            39.37
           ],
           "y": [
            23.93,
            27.1,
            37.21,
            41.83,
            29.94,
            26.6,
            28.68,
            22.91,
            18.94,
            22.57,
            23.23
           ]
          },
          {
           "hoverinfo": "none",
           "marker": {
            "color": "#CBB67C"
           },
           "mode": "markers",
           "name": "football",
           "type": "scatter",
           "x": [
            34.61
           ],
           "y": [
            23.56
           ]
          }
         ],
         "name": "28"
        },
        {
         "data": [
          {
           "hoverinfo": "none",
           "mode": "text",
           "showlegend": false,
           "text": [
            "10",
            "20",
            "30",
            "40",
            "50",
            "40",
            "30",
            "20",
            "10"
           ],
           "textfont": {
            "color": "#ffffff",
            "family": "Courier New, monospace",
            "size": 30
           },
           "type": "scatter",
           "x": [
            20,
            30,
            40,
            50,
            60,
            70,
            80,
            90,
            100
           ],
           "y": [
            5,
            5,
            5,
            5,
            5,
            5,
            5,
            5,
            5
           ]
          },
          {
           "hoverinfo": "none",
           "mode": "text",
           "showlegend": false,
           "text": [
            "10",
            "20",
            "30",
            "40",
            "50",
            "40",
            "30",
            "20",
            "10"
           ],
           "textfont": {
            "color": "#ffffff",
            "family": "Courier New, monospace",
            "size": 30
           },
           "type": "scatter",
           "x": [
            20,
            30,
            40,
            50,
            60,
            70,
            80,
            90,
            100
           ],
           "y": [
            48.5,
            48.5,
            48.5,
            48.5,
            48.5,
            48.5,
            48.5,
            48.5,
            48.5
           ]
          },
          {
           "hoverinfo": "none",
           "line": {
            "color": "blue",
            "dash": "dash"
           },
           "showlegend": false,
           "type": "scatter",
           "x": [
            null,
            null
           ],
           "y": [
            0,
            53.5
           ]
          },
          {
           "hoverinfo": "none",
           "line": {
            "color": "yellow",
            "dash": "dash"
           },
           "showlegend": false,
           "type": "scatter",
           "x": [
            null,
            null
           ],
           "y": [
            0,
            53.5
           ]
          },
          {
           "hoverinfo": "text",
           "hovertext": [
            "nflId:25511.0<br>displayName:Tom Brady<br>Position:QB<br>Role:Pass",
            "nflId:35481.0<br>displayName:Rob Gronkowski<br>Position:TE-L<br>Role:Pass Route",
            "nflId:35634.0<br>displayName:Antonio Brown<br>Position:LWR<br>Role:Pass Route",
            "nflId:39985.0<br>displayName:Giovani Bernard<br>Position:HB-R<br>Role:Pass Route",
            "nflId:40151.0<br>displayName:Ryan Jensen<br>Position:C<br>Role:Pass Block",
            "nflId:41233.0<br>displayName:Mike Evans<br>Position:RWR<br>Role:Pass Route",
            "nflId:42377.0<br>displayName:Donovan Smith<br>Position:LT<br>Role:Pass Block",
            "nflId:42404.0<br>displayName:Ali Marpet<br>Position:LG<br>Role:Pass Block",
            "nflId:44896.0<br>displayName:Chris Godwin<br>Position:SLWR<br>Role:Pass Route",
            "nflId:46163.0<br>displayName:Alex Cappa<br>Position:RG<br>Role:Pass Block",
            "nflId:52421.0<br>displayName:Tristan Wirfs<br>Position:RT<br>Role:Pass Block"
           ],
           "marker": {
            "color": "#D50A0A"
           },
           "mode": "markers",
           "name": "TB",
           "type": "scatter",
           "x": [
            33.86,
            44.77,
            51.02,
            36.81,
            38.85,
            45.58,
            35.28,
            38.96,
            48.86,
            37.56,
            37.46
           ],
           "y": [
            23.6,
            37.87,
            42.27,
            20.56,
            23.84,
            24.16,
            25.97,
            26.23,
            28.65,
            23.61,
            22.03
           ]
          },
          {
           "hoverinfo": "text",
           "hovertext": [
            "nflId:41263.0<br>displayName:Demarcus Lawrence<br>Position:LEO<br>Role:Pass Rush",
            "nflId:42403.0<br>displayName:Randy Gregory<br>Position:ROLB<br>Role:Pass Rush",
            "nflId:43306.0<br>displayName:Keanu Neal<br>Position:ROLB<br>Role:Coverage",
            "nflId:43478.0<br>displayName:Anthony Brown<br>Position:RCB<br>Role:Coverage",
            "nflId:44904.0<br>displayName:Jourdan Lewis<br>Position:SCBR<br>Role:Coverage",
            "nflId:44955.0<br>displayName:Carlos Watkins<br>Position:DRT<br>Role:Pass Rush",
            "nflId:44962.0<br>displayName:Damontae Kazee<br>Position:FS<br>Role:Coverage",
            "nflId:47996.0<br>displayName:Donovan Wilson<br>Position:LILB<br>Role:Coverage",
            "nflId:52459.0<br>displayName:Trevon Diggs<br>Position:LCB<br>Role:Coverage",
            "nflId:53441.0<br>displayName:Micah Parsons<br>Position:LILB<br>Role:Pass Rush",
            "nflId:53504.0<br>displayName:Osa Odighizuwa<br>Position:RE<br>Role:Pass Rush"
           ],
           "marker": {
            "color": "#003594"
           },
           "mode": "markers",
           "name": "DAL",
           "type": "scatter",
           "x": [
            37.34,
            35.38,
            45.66,
            51.75,
            49.09,
            39.53,
            64.92,
            46.9,
            49.08,
            37.41,
            39.08
           ],
           "y": [
            24.13,
            26.86,
            37.92,
            42.02,
            29.5,
            26.75,
            28.97,
            23.02,
            19.44,
            22.71,
            22.88
           ]
          },
          {
           "hoverinfo": "none",
           "marker": {
            "color": "#CBB67C"
           },
           "mode": "markers",
           "name": "football",
           "type": "scatter",
           "x": [
            34.35
           ],
           "y": [
            23.4
           ]
          }
         ],
         "name": "29"
        },
        {
         "data": [
          {
           "hoverinfo": "none",
           "mode": "text",
           "showlegend": false,
           "text": [
            "10",
            "20",
            "30",
            "40",
            "50",
            "40",
            "30",
            "20",
            "10"
           ],
           "textfont": {
            "color": "#ffffff",
            "family": "Courier New, monospace",
            "size": 30
           },
           "type": "scatter",
           "x": [
            20,
            30,
            40,
            50,
            60,
            70,
            80,
            90,
            100
           ],
           "y": [
            5,
            5,
            5,
            5,
            5,
            5,
            5,
            5,
            5
           ]
          },
          {
           "hoverinfo": "none",
           "mode": "text",
           "showlegend": false,
           "text": [
            "10",
            "20",
            "30",
            "40",
            "50",
            "40",
            "30",
            "20",
            "10"
           ],
           "textfont": {
            "color": "#ffffff",
            "family": "Courier New, monospace",
            "size": 30
           },
           "type": "scatter",
           "x": [
            20,
            30,
            40,
            50,
            60,
            70,
            80,
            90,
            100
           ],
           "y": [
            48.5,
            48.5,
            48.5,
            48.5,
            48.5,
            48.5,
            48.5,
            48.5,
            48.5
           ]
          },
          {
           "hoverinfo": "none",
           "line": {
            "color": "blue",
            "dash": "dash"
           },
           "showlegend": false,
           "type": "scatter",
           "x": [
            null,
            null
           ],
           "y": [
            0,
            53.5
           ]
          },
          {
           "hoverinfo": "none",
           "line": {
            "color": "yellow",
            "dash": "dash"
           },
           "showlegend": false,
           "type": "scatter",
           "x": [
            null,
            null
           ],
           "y": [
            0,
            53.5
           ]
          },
          {
           "hoverinfo": "text",
           "hovertext": [
            "nflId:25511.0<br>displayName:Tom Brady<br>Position:QB<br>Role:Pass",
            "nflId:35481.0<br>displayName:Rob Gronkowski<br>Position:TE-L<br>Role:Pass Route",
            "nflId:35634.0<br>displayName:Antonio Brown<br>Position:LWR<br>Role:Pass Route",
            "nflId:39985.0<br>displayName:Giovani Bernard<br>Position:HB-R<br>Role:Pass Route",
            "nflId:40151.0<br>displayName:Ryan Jensen<br>Position:C<br>Role:Pass Block",
            "nflId:41233.0<br>displayName:Mike Evans<br>Position:RWR<br>Role:Pass Route",
            "nflId:42377.0<br>displayName:Donovan Smith<br>Position:LT<br>Role:Pass Block",
            "nflId:42404.0<br>displayName:Ali Marpet<br>Position:LG<br>Role:Pass Block",
            "nflId:44896.0<br>displayName:Chris Godwin<br>Position:SLWR<br>Role:Pass Route",
            "nflId:46163.0<br>displayName:Alex Cappa<br>Position:RG<br>Role:Pass Block",
            "nflId:52421.0<br>displayName:Tristan Wirfs<br>Position:RT<br>Role:Pass Block"
           ],
           "marker": {
            "color": "#D50A0A"
           },
           "mode": "markers",
           "name": "TB",
           "type": "scatter",
           "x": [
            33.77,
            44.9,
            51.54,
            36.73,
            38.74,
            45.61,
            35.03,
            38.89,
            49.38,
            37.38,
            37.2
           ],
           "y": [
            23.43,
            38.5,
            42.4,
            20.16,
            23.67,
            24.88,
            25.73,
            26.41,
            28.18,
            23.84,
            22.18
           ]
          },
          {
           "hoverinfo": "text",
           "hovertext": [
            "nflId:41263.0<br>displayName:Demarcus Lawrence<br>Position:LEO<br>Role:Pass Rush",
            "nflId:42403.0<br>displayName:Randy Gregory<br>Position:ROLB<br>Role:Pass Rush",
            "nflId:43306.0<br>displayName:Keanu Neal<br>Position:ROLB<br>Role:Coverage",
            "nflId:43478.0<br>displayName:Anthony Brown<br>Position:RCB<br>Role:Coverage",
            "nflId:44904.0<br>displayName:Jourdan Lewis<br>Position:SCBR<br>Role:Coverage",
            "nflId:44955.0<br>displayName:Carlos Watkins<br>Position:DRT<br>Role:Pass Rush",
            "nflId:44962.0<br>displayName:Damontae Kazee<br>Position:FS<br>Role:Coverage",
            "nflId:47996.0<br>displayName:Donovan Wilson<br>Position:LILB<br>Role:Coverage",
            "nflId:52459.0<br>displayName:Trevon Diggs<br>Position:LCB<br>Role:Coverage",
            "nflId:53441.0<br>displayName:Micah Parsons<br>Position:LILB<br>Role:Pass Rush",
            "nflId:53504.0<br>displayName:Osa Odighizuwa<br>Position:RE<br>Role:Pass Rush"
           ],
           "marker": {
            "color": "#003594"
           },
           "mode": "markers",
           "name": "DAL",
           "type": "scatter",
           "x": [
            36.98,
            35.14,
            45.77,
            52.34,
            49.53,
            39.5,
            65.28,
            46.9,
            49.24,
            37.09,
            38.78
           ],
           "y": [
            24.29,
            26.64,
            38.59,
            42.2,
            29.06,
            26.91,
            29.26,
            23.08,
            19.97,
            22.84,
            22.48
           ]
          },
          {
           "hoverinfo": "none",
           "marker": {
            "color": "#CBB67C"
           },
           "mode": "markers",
           "name": "football",
           "type": "scatter",
           "x": [
            34.35
           ],
           "y": [
            23.4
           ]
          }
         ],
         "name": "30"
        },
        {
         "data": [
          {
           "hoverinfo": "none",
           "mode": "text",
           "showlegend": false,
           "text": [
            "10",
            "20",
            "30",
            "40",
            "50",
            "40",
            "30",
            "20",
            "10"
           ],
           "textfont": {
            "color": "#ffffff",
            "family": "Courier New, monospace",
            "size": 30
           },
           "type": "scatter",
           "x": [
            20,
            30,
            40,
            50,
            60,
            70,
            80,
            90,
            100
           ],
           "y": [
            5,
            5,
            5,
            5,
            5,
            5,
            5,
            5,
            5
           ]
          },
          {
           "hoverinfo": "none",
           "mode": "text",
           "showlegend": false,
           "text": [
            "10",
            "20",
            "30",
            "40",
            "50",
            "40",
            "30",
            "20",
            "10"
           ],
           "textfont": {
            "color": "#ffffff",
            "family": "Courier New, monospace",
            "size": 30
           },
           "type": "scatter",
           "x": [
            20,
            30,
            40,
            50,
            60,
            70,
            80,
            90,
            100
           ],
           "y": [
            48.5,
            48.5,
            48.5,
            48.5,
            48.5,
            48.5,
            48.5,
            48.5,
            48.5
           ]
          },
          {
           "hoverinfo": "none",
           "line": {
            "color": "blue",
            "dash": "dash"
           },
           "showlegend": false,
           "type": "scatter",
           "x": [
            null,
            null
           ],
           "y": [
            0,
            53.5
           ]
          },
          {
           "hoverinfo": "none",
           "line": {
            "color": "yellow",
            "dash": "dash"
           },
           "showlegend": false,
           "type": "scatter",
           "x": [
            null,
            null
           ],
           "y": [
            0,
            53.5
           ]
          },
          {
           "hoverinfo": "text",
           "hovertext": [
            "nflId:25511.0<br>displayName:Tom Brady<br>Position:QB<br>Role:Pass",
            "nflId:35481.0<br>displayName:Rob Gronkowski<br>Position:TE-L<br>Role:Pass Route",
            "nflId:35634.0<br>displayName:Antonio Brown<br>Position:LWR<br>Role:Pass Route",
            "nflId:39985.0<br>displayName:Giovani Bernard<br>Position:HB-R<br>Role:Pass Route",
            "nflId:40151.0<br>displayName:Ryan Jensen<br>Position:C<br>Role:Pass Block",
            "nflId:41233.0<br>displayName:Mike Evans<br>Position:RWR<br>Role:Pass Route",
            "nflId:42377.0<br>displayName:Donovan Smith<br>Position:LT<br>Role:Pass Block",
            "nflId:42404.0<br>displayName:Ali Marpet<br>Position:LG<br>Role:Pass Block",
            "nflId:44896.0<br>displayName:Chris Godwin<br>Position:SLWR<br>Role:Pass Route",
            "nflId:46163.0<br>displayName:Alex Cappa<br>Position:RG<br>Role:Pass Block",
            "nflId:52421.0<br>displayName:Tristan Wirfs<br>Position:RT<br>Role:Pass Block"
           ],
           "marker": {
            "color": "#D50A0A"
           },
           "mode": "markers",
           "name": "TB",
           "type": "scatter",
           "x": [
            33.68,
            45.04,
            52.04,
            36.67,
            38.6,
            45.64,
            34.81,
            38.84,
            49.91,
            37.22,
            36.89
           ],
           "y": [
            23.28,
            39.15,
            42.5,
            19.72,
            23.5,
            25.62,
            25.49,
            26.57,
            27.67,
            24.06,
            22.33
           ]
          },
          {
           "hoverinfo": "text",
           "hovertext": [
            "nflId:41263.0<br>displayName:Demarcus Lawrence<br>Position:LEO<br>Role:Pass Rush",
            "nflId:42403.0<br>displayName:Randy Gregory<br>Position:ROLB<br>Role:Pass Rush",
            "nflId:43306.0<br>displayName:Keanu Neal<br>Position:ROLB<br>Role:Coverage",
            "nflId:43478.0<br>displayName:Anthony Brown<br>Position:RCB<br>Role:Coverage",
            "nflId:44904.0<br>displayName:Jourdan Lewis<br>Position:SCBR<br>Role:Coverage",
            "nflId:44955.0<br>displayName:Carlos Watkins<br>Position:DRT<br>Role:Pass Rush",
            "nflId:44962.0<br>displayName:Damontae Kazee<br>Position:FS<br>Role:Coverage",
            "nflId:47996.0<br>displayName:Donovan Wilson<br>Position:LILB<br>Role:Coverage",
            "nflId:52459.0<br>displayName:Trevon Diggs<br>Position:LCB<br>Role:Coverage",
            "nflId:53441.0<br>displayName:Micah Parsons<br>Position:LILB<br>Role:Pass Rush",
            "nflId:53504.0<br>displayName:Osa Odighizuwa<br>Position:RE<br>Role:Pass Rush"
           ],
           "marker": {
            "color": "#003594"
           },
           "mode": "markers",
           "name": "DAL",
           "type": "scatter",
           "x": [
            36.62,
            34.96,
            45.88,
            52.85,
            49.99,
            39.49,
            65.65,
            46.91,
            49.39,
            36.81,
            38.42
           ],
           "y": [
            24.42,
            26.38,
            39.26,
            42.4,
            28.6,
            27.21,
            29.55,
            23.1,
            20.53,
            22.99,
            22.17
           ]
          },
          {
           "hoverinfo": "none",
           "marker": {
            "color": "#CBB67C"
           },
           "mode": "markers",
           "name": "football",
           "type": "scatter",
           "x": [
            34.02
           ],
           "y": [
            23.02
           ]
          }
         ],
         "name": "31"
        },
        {
         "data": [
          {
           "hoverinfo": "none",
           "mode": "text",
           "showlegend": false,
           "text": [
            "10",
            "20",
            "30",
            "40",
            "50",
            "40",
            "30",
            "20",
            "10"
           ],
           "textfont": {
            "color": "#ffffff",
            "family": "Courier New, monospace",
            "size": 30
           },
           "type": "scatter",
           "x": [
            20,
            30,
            40,
            50,
            60,
            70,
            80,
            90,
            100
           ],
           "y": [
            5,
            5,
            5,
            5,
            5,
            5,
            5,
            5,
            5
           ]
          },
          {
           "hoverinfo": "none",
           "mode": "text",
           "showlegend": false,
           "text": [
            "10",
            "20",
            "30",
            "40",
            "50",
            "40",
            "30",
            "20",
            "10"
           ],
           "textfont": {
            "color": "#ffffff",
            "family": "Courier New, monospace",
            "size": 30
           },
           "type": "scatter",
           "x": [
            20,
            30,
            40,
            50,
            60,
            70,
            80,
            90,
            100
           ],
           "y": [
            48.5,
            48.5,
            48.5,
            48.5,
            48.5,
            48.5,
            48.5,
            48.5,
            48.5
           ]
          },
          {
           "hoverinfo": "none",
           "line": {
            "color": "blue",
            "dash": "dash"
           },
           "showlegend": false,
           "type": "scatter",
           "x": [
            null,
            null
           ],
           "y": [
            0,
            53.5
           ]
          },
          {
           "hoverinfo": "none",
           "line": {
            "color": "yellow",
            "dash": "dash"
           },
           "showlegend": false,
           "type": "scatter",
           "x": [
            null,
            null
           ],
           "y": [
            0,
            53.5
           ]
          },
          {
           "hoverinfo": "text",
           "hovertext": [
            "nflId:25511.0<br>displayName:Tom Brady<br>Position:QB<br>Role:Pass",
            "nflId:35481.0<br>displayName:Rob Gronkowski<br>Position:TE-L<br>Role:Pass Route",
            "nflId:35634.0<br>displayName:Antonio Brown<br>Position:LWR<br>Role:Pass Route",
            "nflId:39985.0<br>displayName:Giovani Bernard<br>Position:HB-R<br>Role:Pass Route",
            "nflId:40151.0<br>displayName:Ryan Jensen<br>Position:C<br>Role:Pass Block",
            "nflId:41233.0<br>displayName:Mike Evans<br>Position:RWR<br>Role:Pass Route",
            "nflId:42377.0<br>displayName:Donovan Smith<br>Position:LT<br>Role:Pass Block",
            "nflId:42404.0<br>displayName:Ali Marpet<br>Position:LG<br>Role:Pass Block",
            "nflId:44896.0<br>displayName:Chris Godwin<br>Position:SLWR<br>Role:Pass Route",
            "nflId:46163.0<br>displayName:Alex Cappa<br>Position:RG<br>Role:Pass Block",
            "nflId:52421.0<br>displayName:Tristan Wirfs<br>Position:RT<br>Role:Pass Block"
           ],
           "marker": {
            "color": "#D50A0A"
           },
           "mode": "markers",
           "name": "TB",
           "type": "scatter",
           "x": [
            33.6,
            45.2,
            52.5,
            36.65,
            38.45,
            45.7,
            34.65,
            38.81,
            50.43,
            37.05,
            36.58
           ],
           "y": [
            23.09,
            39.79,
            42.55,
            19.27,
            23.28,
            26.36,
            25.26,
            26.76,
            27.15,
            24.33,
            22.49
           ]
          },
          {
           "hoverinfo": "text",
           "hovertext": [
            "nflId:41263.0<br>displayName:Demarcus Lawrence<br>Position:LEO<br>Role:Pass Rush",
            "nflId:42403.0<br>displayName:Randy Gregory<br>Position:ROLB<br>Role:Pass Rush",
            "nflId:43306.0<br>displayName:Keanu Neal<br>Position:ROLB<br>Role:Coverage",
            "nflId:43478.0<br>displayName:Anthony Brown<br>Position:RCB<br>Role:Coverage",
            "nflId:44904.0<br>displayName:Jourdan Lewis<br>Position:SCBR<br>Role:Coverage",
            "nflId:44955.0<br>displayName:Carlos Watkins<br>Position:DRT<br>Role:Pass Rush",
            "nflId:44962.0<br>displayName:Damontae Kazee<br>Position:FS<br>Role:Coverage",
            "nflId:47996.0<br>displayName:Donovan Wilson<br>Position:LILB<br>Role:Coverage",
            "nflId:52459.0<br>displayName:Trevon Diggs<br>Position:LCB<br>Role:Coverage",
            "nflId:53441.0<br>displayName:Micah Parsons<br>Position:LILB<br>Role:Pass Rush",
            "nflId:53504.0<br>displayName:Osa Odighizuwa<br>Position:RE<br>Role:Pass Rush"
           ],
           "marker": {
            "color": "#003594"
           },
           "mode": "markers",
           "name": "DAL",
           "type": "scatter",
           "x": [
            36.26,
            34.78,
            46.01,
            53.33,
            50.47,
            39.52,
            66.03,
            46.93,
            49.55,
            36.52,
            38.07
           ],
           "y": [
            24.51,
            26.2,
            39.89,
            42.59,
            28.14,
            27.44,
            29.84,
            22.89,
            21.1,
            23.15,
            21.86
           ]
          },
          {
           "hoverinfo": "none",
           "marker": {
            "color": "#CBB67C"
           },
           "mode": "markers",
           "name": "football",
           "type": "scatter",
           "x": [
            33.52
           ],
           "y": [
            22.33
           ]
          }
         ],
         "name": "32"
        },
        {
         "data": [
          {
           "hoverinfo": "none",
           "mode": "text",
           "showlegend": false,
           "text": [
            "10",
            "20",
            "30",
            "40",
            "50",
            "40",
            "30",
            "20",
            "10"
           ],
           "textfont": {
            "color": "#ffffff",
            "family": "Courier New, monospace",
            "size": 30
           },
           "type": "scatter",
           "x": [
            20,
            30,
            40,
            50,
            60,
            70,
            80,
            90,
            100
           ],
           "y": [
            5,
            5,
            5,
            5,
            5,
            5,
            5,
            5,
            5
           ]
          },
          {
           "hoverinfo": "none",
           "mode": "text",
           "showlegend": false,
           "text": [
            "10",
            "20",
            "30",
            "40",
            "50",
            "40",
            "30",
            "20",
            "10"
           ],
           "textfont": {
            "color": "#ffffff",
            "family": "Courier New, monospace",
            "size": 30
           },
           "type": "scatter",
           "x": [
            20,
            30,
            40,
            50,
            60,
            70,
            80,
            90,
            100
           ],
           "y": [
            48.5,
            48.5,
            48.5,
            48.5,
            48.5,
            48.5,
            48.5,
            48.5,
            48.5
           ]
          },
          {
           "hoverinfo": "none",
           "line": {
            "color": "blue",
            "dash": "dash"
           },
           "showlegend": false,
           "type": "scatter",
           "x": [
            null,
            null
           ],
           "y": [
            0,
            53.5
           ]
          },
          {
           "hoverinfo": "none",
           "line": {
            "color": "yellow",
            "dash": "dash"
           },
           "showlegend": false,
           "type": "scatter",
           "x": [
            null,
            null
           ],
           "y": [
            0,
            53.5
           ]
          },
          {
           "hoverinfo": "text",
           "hovertext": [
            "nflId:25511.0<br>displayName:Tom Brady<br>Position:QB<br>Role:Pass",
            "nflId:35481.0<br>displayName:Rob Gronkowski<br>Position:TE-L<br>Role:Pass Route",
            "nflId:35634.0<br>displayName:Antonio Brown<br>Position:LWR<br>Role:Pass Route",
            "nflId:39985.0<br>displayName:Giovani Bernard<br>Position:HB-R<br>Role:Pass Route",
            "nflId:40151.0<br>displayName:Ryan Jensen<br>Position:C<br>Role:Pass Block",
            "nflId:41233.0<br>displayName:Mike Evans<br>Position:RWR<br>Role:Pass Route",
            "nflId:42377.0<br>displayName:Donovan Smith<br>Position:LT<br>Role:Pass Block",
            "nflId:42404.0<br>displayName:Ali Marpet<br>Position:LG<br>Role:Pass Block",
            "nflId:44896.0<br>displayName:Chris Godwin<br>Position:SLWR<br>Role:Pass Route",
            "nflId:46163.0<br>displayName:Alex Cappa<br>Position:RG<br>Role:Pass Block",
            "nflId:52421.0<br>displayName:Tristan Wirfs<br>Position:RT<br>Role:Pass Block"
           ],
           "marker": {
            "color": "#D50A0A"
           },
           "mode": "markers",
           "name": "TB",
           "type": "scatter",
           "x": [
            33.53,
            45.35,
            52.92,
            36.69,
            38.28,
            45.77,
            34.51,
            38.8,
            50.94,
            36.9,
            36.26
           ],
           "y": [
            22.85,
            40.43,
            42.56,
            18.79,
            23.07,
            27.09,
            25.05,
            26.94,
            26.62,
            24.56,
            22.68
           ]
          },
          {
           "hoverinfo": "text",
           "hovertext": [
            "nflId:41263.0<br>displayName:Demarcus Lawrence<br>Position:LEO<br>Role:Pass Rush",
            "nflId:42403.0<br>displayName:Randy Gregory<br>Position:ROLB<br>Role:Pass Rush",
            "nflId:43306.0<br>displayName:Keanu Neal<br>Position:ROLB<br>Role:Coverage",
            "nflId:43478.0<br>displayName:Anthony Brown<br>Position:RCB<br>Role:Coverage",
            "nflId:44904.0<br>displayName:Jourdan Lewis<br>Position:SCBR<br>Role:Coverage",
            "nflId:44955.0<br>displayName:Carlos Watkins<br>Position:DRT<br>Role:Pass Rush",
            "nflId:44962.0<br>displayName:Damontae Kazee<br>Position:FS<br>Role:Coverage",
            "nflId:47996.0<br>displayName:Donovan Wilson<br>Position:LILB<br>Role:Coverage",
            "nflId:52459.0<br>displayName:Trevon Diggs<br>Position:LCB<br>Role:Coverage",
            "nflId:53441.0<br>displayName:Micah Parsons<br>Position:LILB<br>Role:Pass Rush",
            "nflId:53504.0<br>displayName:Osa Odighizuwa<br>Position:RE<br>Role:Pass Rush"
           ],
           "marker": {
            "color": "#003594"
           },
           "mode": "markers",
           "name": "DAL",
           "type": "scatter",
           "x": [
            35.91,
            34.68,
            46.22,
            53.75,
            50.97,
            39.57,
            66.42,
            46.91,
            49.67,
            36.11,
            37.68
           ],
           "y": [
            24.58,
            25.87,
            40.47,
            42.78,
            27.64,
            27.66,
            30.09,
            22.58,
            21.67,
            23.22,
            21.55
           ]
          },
          {
           "hoverinfo": "none",
           "marker": {
            "color": "#CBB67C"
           },
           "mode": "markers",
           "name": "football",
           "type": "scatter",
           "x": [
            33.45
           ],
           "y": [
            22.25
           ]
          }
         ],
         "name": "33"
        },
        {
         "data": [
          {
           "hoverinfo": "none",
           "mode": "text",
           "showlegend": false,
           "text": [
            "10",
            "20",
            "30",
            "40",
            "50",
            "40",
            "30",
            "20",
            "10"
           ],
           "textfont": {
            "color": "#ffffff",
            "family": "Courier New, monospace",
            "size": 30
           },
           "type": "scatter",
           "x": [
            20,
            30,
            40,
            50,
            60,
            70,
            80,
            90,
            100
           ],
           "y": [
            5,
            5,
            5,
            5,
            5,
            5,
            5,
            5,
            5
           ]
          },
          {
           "hoverinfo": "none",
           "mode": "text",
           "showlegend": false,
           "text": [
            "10",
            "20",
            "30",
            "40",
            "50",
            "40",
            "30",
            "20",
            "10"
           ],
           "textfont": {
            "color": "#ffffff",
            "family": "Courier New, monospace",
            "size": 30
           },
           "type": "scatter",
           "x": [
            20,
            30,
            40,
            50,
            60,
            70,
            80,
            90,
            100
           ],
           "y": [
            48.5,
            48.5,
            48.5,
            48.5,
            48.5,
            48.5,
            48.5,
            48.5,
            48.5
           ]
          },
          {
           "hoverinfo": "none",
           "line": {
            "color": "blue",
            "dash": "dash"
           },
           "showlegend": false,
           "type": "scatter",
           "x": [
            null,
            null
           ],
           "y": [
            0,
            53.5
           ]
          },
          {
           "hoverinfo": "none",
           "line": {
            "color": "yellow",
            "dash": "dash"
           },
           "showlegend": false,
           "type": "scatter",
           "x": [
            null,
            null
           ],
           "y": [
            0,
            53.5
           ]
          },
          {
           "hoverinfo": "text",
           "hovertext": [
            "nflId:25511.0<br>displayName:Tom Brady<br>Position:QB<br>Role:Pass",
            "nflId:35481.0<br>displayName:Rob Gronkowski<br>Position:TE-L<br>Role:Pass Route",
            "nflId:35634.0<br>displayName:Antonio Brown<br>Position:LWR<br>Role:Pass Route",
            "nflId:39985.0<br>displayName:Giovani Bernard<br>Position:HB-R<br>Role:Pass Route",
            "nflId:40151.0<br>displayName:Ryan Jensen<br>Position:C<br>Role:Pass Block",
            "nflId:41233.0<br>displayName:Mike Evans<br>Position:RWR<br>Role:Pass Route",
            "nflId:42377.0<br>displayName:Donovan Smith<br>Position:LT<br>Role:Pass Block",
            "nflId:42404.0<br>displayName:Ali Marpet<br>Position:LG<br>Role:Pass Block",
            "nflId:44896.0<br>displayName:Chris Godwin<br>Position:SLWR<br>Role:Pass Route",
            "nflId:46163.0<br>displayName:Alex Cappa<br>Position:RG<br>Role:Pass Block",
            "nflId:52421.0<br>displayName:Tristan Wirfs<br>Position:RT<br>Role:Pass Block"
           ],
           "marker": {
            "color": "#D50A0A"
           },
           "mode": "markers",
           "name": "TB",
           "type": "scatter",
           "x": [
            33.44,
            45.52,
            53.29,
            36.74,
            38.07,
            45.85,
            34.39,
            38.85,
            51.43,
            36.71,
            35.96
           ],
           "y": [
            22.58,
            41.07,
            42.53,
            18.29,
            22.86,
            27.82,
            24.85,
            27.11,
            26.06,
            24.85,
            22.86
           ]
          },
          {
           "hoverinfo": "text",
           "hovertext": [
            "nflId:41263.0<br>displayName:Demarcus Lawrence<br>Position:LEO<br>Role:Pass Rush",
            "nflId:42403.0<br>displayName:Randy Gregory<br>Position:ROLB<br>Role:Pass Rush",
            "nflId:43306.0<br>displayName:Keanu Neal<br>Position:ROLB<br>Role:Coverage",
            "nflId:43478.0<br>displayName:Anthony Brown<br>Position:RCB<br>Role:Coverage",
            "nflId:44904.0<br>displayName:Jourdan Lewis<br>Position:SCBR<br>Role:Coverage",
            "nflId:44955.0<br>displayName:Carlos Watkins<br>Position:DRT<br>Role:Pass Rush",
            "nflId:44962.0<br>displayName:Damontae Kazee<br>Position:FS<br>Role:Coverage",
            "nflId:47996.0<br>displayName:Donovan Wilson<br>Position:LILB<br>Role:Coverage",
            "nflId:52459.0<br>displayName:Trevon Diggs<br>Position:LCB<br>Role:Coverage",
            "nflId:53441.0<br>displayName:Micah Parsons<br>Position:LILB<br>Role:Pass Rush",
            "nflId:53504.0<br>displayName:Osa Odighizuwa<br>Position:RE<br>Role:Pass Rush"
           ],
           "marker": {
            "color": "#003594"
           },
           "mode": "markers",
           "name": "DAL",
           "type": "scatter",
           "x": [
            35.51,
            34.63,
            46.44,
            54.11,
            51.49,
            39.61,
            66.84,
            46.9,
            49.76,
            35.78,
            37.25
           ],
           "y": [
            24.53,
            25.5,
            41.05,
            42.89,
            27.11,
            27.88,
            30.3,
            22.19,
            22.23,
            23.36,
            21.28
           ]
          },
          {
           "hoverinfo": "none",
           "marker": {
            "color": "#CBB67C"
           },
           "mode": "markers",
           "name": "football",
           "type": "scatter",
           "x": [
            33.4
           ],
           "y": [
            22.05
           ]
          }
         ],
         "name": "34"
        },
        {
         "data": [
          {
           "hoverinfo": "none",
           "mode": "text",
           "showlegend": false,
           "text": [
            "10",
            "20",
            "30",
            "40",
            "50",
            "40",
            "30",
            "20",
            "10"
           ],
           "textfont": {
            "color": "#ffffff",
            "family": "Courier New, monospace",
            "size": 30
           },
           "type": "scatter",
           "x": [
            20,
            30,
            40,
            50,
            60,
            70,
            80,
            90,
            100
           ],
           "y": [
            5,
            5,
            5,
            5,
            5,
            5,
            5,
            5,
            5
           ]
          },
          {
           "hoverinfo": "none",
           "mode": "text",
           "showlegend": false,
           "text": [
            "10",
            "20",
            "30",
            "40",
            "50",
            "40",
            "30",
            "20",
            "10"
           ],
           "textfont": {
            "color": "#ffffff",
            "family": "Courier New, monospace",
            "size": 30
           },
           "type": "scatter",
           "x": [
            20,
            30,
            40,
            50,
            60,
            70,
            80,
            90,
            100
           ],
           "y": [
            48.5,
            48.5,
            48.5,
            48.5,
            48.5,
            48.5,
            48.5,
            48.5,
            48.5
           ]
          },
          {
           "hoverinfo": "none",
           "line": {
            "color": "blue",
            "dash": "dash"
           },
           "showlegend": false,
           "type": "scatter",
           "x": [
            null,
            null
           ],
           "y": [
            0,
            53.5
           ]
          },
          {
           "hoverinfo": "none",
           "line": {
            "color": "yellow",
            "dash": "dash"
           },
           "showlegend": false,
           "type": "scatter",
           "x": [
            null,
            null
           ],
           "y": [
            0,
            53.5
           ]
          },
          {
           "hoverinfo": "text",
           "hovertext": [
            "nflId:25511.0<br>displayName:Tom Brady<br>Position:QB<br>Role:Pass",
            "nflId:35481.0<br>displayName:Rob Gronkowski<br>Position:TE-L<br>Role:Pass Route",
            "nflId:35634.0<br>displayName:Antonio Brown<br>Position:LWR<br>Role:Pass Route",
            "nflId:39985.0<br>displayName:Giovani Bernard<br>Position:HB-R<br>Role:Pass Route",
            "nflId:40151.0<br>displayName:Ryan Jensen<br>Position:C<br>Role:Pass Block",
            "nflId:41233.0<br>displayName:Mike Evans<br>Position:RWR<br>Role:Pass Route",
            "nflId:42377.0<br>displayName:Donovan Smith<br>Position:LT<br>Role:Pass Block",
            "nflId:42404.0<br>displayName:Ali Marpet<br>Position:LG<br>Role:Pass Block",
            "nflId:44896.0<br>displayName:Chris Godwin<br>Position:SLWR<br>Role:Pass Route",
            "nflId:46163.0<br>displayName:Alex Cappa<br>Position:RG<br>Role:Pass Block",
            "nflId:52421.0<br>displayName:Tristan Wirfs<br>Position:RT<br>Role:Pass Block"
           ],
           "marker": {
            "color": "#D50A0A"
           },
           "mode": "markers",
           "name": "TB",
           "type": "scatter",
           "x": [
            33.33,
            45.71,
            53.6,
            36.82,
            37.84,
            45.94,
            34.29,
            38.89,
            51.86,
            36.53,
            35.67
           ],
           "y": [
            22.25,
            41.68,
            42.45,
            17.78,
            22.66,
            28.54,
            24.66,
            27.27,
            25.44,
            25.1,
            23.01
           ]
          },
          {
           "hoverinfo": "text",
           "hovertext": [
            "nflId:41263.0<br>displayName:Demarcus Lawrence<br>Position:LEO<br>Role:Pass Rush",
            "nflId:42403.0<br>displayName:Randy Gregory<br>Position:ROLB<br>Role:Pass Rush",
            "nflId:43306.0<br>displayName:Keanu Neal<br>Position:ROLB<br>Role:Coverage",
            "nflId:43478.0<br>displayName:Anthony Brown<br>Position:RCB<br>Role:Coverage",
            "nflId:44904.0<br>displayName:Jourdan Lewis<br>Position:SCBR<br>Role:Coverage",
            "nflId:44955.0<br>displayName:Carlos Watkins<br>Position:DRT<br>Role:Pass Rush",
            "nflId:44962.0<br>displayName:Damontae Kazee<br>Position:FS<br>Role:Coverage",
            "nflId:47996.0<br>displayName:Donovan Wilson<br>Position:LILB<br>Role:Coverage",
            "nflId:52459.0<br>displayName:Trevon Diggs<br>Position:LCB<br>Role:Coverage",
            "nflId:53441.0<br>displayName:Micah Parsons<br>Position:LILB<br>Role:Pass Rush",
            "nflId:53504.0<br>displayName:Osa Odighizuwa<br>Position:RE<br>Role:Pass Rush"
           ],
           "marker": {
            "color": "#003594"
           },
           "mode": "markers",
           "name": "DAL",
           "type": "scatter",
           "x": [
            35.14,
            34.57,
            46.71,
            54.43,
            52.01,
            39.66,
            67.28,
            46.9,
            49.87,
            35.41,
            36.76
           ],
           "y": [
            24.52,
            25.31,
            41.58,
            43.02,
            26.56,
            28.1,
            30.46,
            21.79,
            22.84,
            23.23,
            20.98
           ]
          },
          {
           "hoverinfo": "none",
           "marker": {
            "color": "#CBB67C"
           },
           "mode": "markers",
           "name": "football",
           "type": "scatter",
           "x": [
            33.4
           ],
           "y": [
            22.07
           ]
          }
         ],
         "name": "35"
        },
        {
         "data": [
          {
           "hoverinfo": "none",
           "mode": "text",
           "showlegend": false,
           "text": [
            "10",
            "20",
            "30",
            "40",
            "50",
            "40",
            "30",
            "20",
            "10"
           ],
           "textfont": {
            "color": "#ffffff",
            "family": "Courier New, monospace",
            "size": 30
           },
           "type": "scatter",
           "x": [
            20,
            30,
            40,
            50,
            60,
            70,
            80,
            90,
            100
           ],
           "y": [
            5,
            5,
            5,
            5,
            5,
            5,
            5,
            5,
            5
           ]
          },
          {
           "hoverinfo": "none",
           "mode": "text",
           "showlegend": false,
           "text": [
            "10",
            "20",
            "30",
            "40",
            "50",
            "40",
            "30",
            "20",
            "10"
           ],
           "textfont": {
            "color": "#ffffff",
            "family": "Courier New, monospace",
            "size": 30
           },
           "type": "scatter",
           "x": [
            20,
            30,
            40,
            50,
            60,
            70,
            80,
            90,
            100
           ],
           "y": [
            48.5,
            48.5,
            48.5,
            48.5,
            48.5,
            48.5,
            48.5,
            48.5,
            48.5
           ]
          },
          {
           "hoverinfo": "none",
           "line": {
            "color": "blue",
            "dash": "dash"
           },
           "showlegend": false,
           "type": "scatter",
           "x": [
            null,
            null
           ],
           "y": [
            0,
            53.5
           ]
          },
          {
           "hoverinfo": "none",
           "line": {
            "color": "yellow",
            "dash": "dash"
           },
           "showlegend": false,
           "type": "scatter",
           "x": [
            null,
            null
           ],
           "y": [
            0,
            53.5
           ]
          },
          {
           "hoverinfo": "text",
           "hovertext": [
            "nflId:25511.0<br>displayName:Tom Brady<br>Position:QB<br>Role:Pass",
            "nflId:35481.0<br>displayName:Rob Gronkowski<br>Position:TE-L<br>Role:Pass Route",
            "nflId:35634.0<br>displayName:Antonio Brown<br>Position:LWR<br>Role:Pass Route",
            "nflId:39985.0<br>displayName:Giovani Bernard<br>Position:HB-R<br>Role:Pass Route",
            "nflId:40151.0<br>displayName:Ryan Jensen<br>Position:C<br>Role:Pass Block",
            "nflId:41233.0<br>displayName:Mike Evans<br>Position:RWR<br>Role:Pass Route",
            "nflId:42377.0<br>displayName:Donovan Smith<br>Position:LT<br>Role:Pass Block",
            "nflId:42404.0<br>displayName:Ali Marpet<br>Position:LG<br>Role:Pass Block",
            "nflId:44896.0<br>displayName:Chris Godwin<br>Position:SLWR<br>Role:Pass Route",
            "nflId:46163.0<br>displayName:Alex Cappa<br>Position:RG<br>Role:Pass Block",
            "nflId:52421.0<br>displayName:Tristan Wirfs<br>Position:RT<br>Role:Pass Block"
           ],
           "marker": {
            "color": "#D50A0A"
           },
           "mode": "markers",
           "name": "TB",
           "type": "scatter",
           "x": [
            33.21,
            45.92,
            53.88,
            36.95,
            37.56,
            46.07,
            34.2,
            38.95,
            52.29,
            36.34,
            35.41
           ],
           "y": [
            21.92,
            42.3,
            42.29,
            17.27,
            22.43,
            29.24,
            24.49,
            27.44,
            24.8,
            25.35,
            23.11
           ]
          },
          {
           "hoverinfo": "text",
           "hovertext": [
            "nflId:41263.0<br>displayName:Demarcus Lawrence<br>Position:LEO<br>Role:Pass Rush",
            "nflId:42403.0<br>displayName:Randy Gregory<br>Position:ROLB<br>Role:Pass Rush",
            "nflId:43306.0<br>displayName:Keanu Neal<br>Position:ROLB<br>Role:Coverage",
            "nflId:43478.0<br>displayName:Anthony Brown<br>Position:RCB<br>Role:Coverage",
            "nflId:44904.0<br>displayName:Jourdan Lewis<br>Position:SCBR<br>Role:Coverage",
            "nflId:44955.0<br>displayName:Carlos Watkins<br>Position:DRT<br>Role:Pass Rush",
            "nflId:44962.0<br>displayName:Damontae Kazee<br>Position:FS<br>Role:Coverage",
            "nflId:47996.0<br>displayName:Donovan Wilson<br>Position:LILB<br>Role:Coverage",
            "nflId:52459.0<br>displayName:Trevon Diggs<br>Position:LCB<br>Role:Coverage",
            "nflId:53441.0<br>displayName:Micah Parsons<br>Position:LILB<br>Role:Pass Rush",
            "nflId:53504.0<br>displayName:Osa Odighizuwa<br>Position:RE<br>Role:Pass Rush"
           ],
           "marker": {
            "color": "#003594"
           },
           "mode": "markers",
           "name": "DAL",
           "type": "scatter",
           "x": [
            34.79,
            34.51,
            46.97,
            54.66,
            52.53,
            39.77,
            67.7,
            46.89,
            49.97,
            35.05,
            36.3
           ],
           "y": [
            24.49,
            25.15,
            42.08,
            43.06,
            25.97,
            28.31,
            30.58,
            21.34,
            23.45,
            23.24,
            20.75
           ]
          },
          {
           "hoverinfo": "none",
           "marker": {
            "color": "#CBB67C"
           },
           "mode": "markers",
           "name": "football",
           "type": "scatter",
           "x": [
            33.38
           ],
           "y": [
            22.02
           ]
          }
         ],
         "name": "36"
        },
        {
         "data": [
          {
           "hoverinfo": "none",
           "mode": "text",
           "showlegend": false,
           "text": [
            "10",
            "20",
            "30",
            "40",
            "50",
            "40",
            "30",
            "20",
            "10"
           ],
           "textfont": {
            "color": "#ffffff",
            "family": "Courier New, monospace",
            "size": 30
           },
           "type": "scatter",
           "x": [
            20,
            30,
            40,
            50,
            60,
            70,
            80,
            90,
            100
           ],
           "y": [
            5,
            5,
            5,
            5,
            5,
            5,
            5,
            5,
            5
           ]
          },
          {
           "hoverinfo": "none",
           "mode": "text",
           "showlegend": false,
           "text": [
            "10",
            "20",
            "30",
            "40",
            "50",
            "40",
            "30",
            "20",
            "10"
           ],
           "textfont": {
            "color": "#ffffff",
            "family": "Courier New, monospace",
            "size": 30
           },
           "type": "scatter",
           "x": [
            20,
            30,
            40,
            50,
            60,
            70,
            80,
            90,
            100
           ],
           "y": [
            48.5,
            48.5,
            48.5,
            48.5,
            48.5,
            48.5,
            48.5,
            48.5,
            48.5
           ]
          },
          {
           "hoverinfo": "none",
           "line": {
            "color": "blue",
            "dash": "dash"
           },
           "showlegend": false,
           "type": "scatter",
           "x": [
            null,
            null
           ],
           "y": [
            0,
            53.5
           ]
          },
          {
           "hoverinfo": "none",
           "line": {
            "color": "yellow",
            "dash": "dash"
           },
           "showlegend": false,
           "type": "scatter",
           "x": [
            null,
            null
           ],
           "y": [
            0,
            53.5
           ]
          },
          {
           "hoverinfo": "text",
           "hovertext": [
            "nflId:25511.0<br>displayName:Tom Brady<br>Position:QB<br>Role:Pass",
            "nflId:35481.0<br>displayName:Rob Gronkowski<br>Position:TE-L<br>Role:Pass Route",
            "nflId:35634.0<br>displayName:Antonio Brown<br>Position:LWR<br>Role:Pass Route",
            "nflId:39985.0<br>displayName:Giovani Bernard<br>Position:HB-R<br>Role:Pass Route",
            "nflId:40151.0<br>displayName:Ryan Jensen<br>Position:C<br>Role:Pass Block",
            "nflId:41233.0<br>displayName:Mike Evans<br>Position:RWR<br>Role:Pass Route",
            "nflId:42377.0<br>displayName:Donovan Smith<br>Position:LT<br>Role:Pass Block",
            "nflId:42404.0<br>displayName:Ali Marpet<br>Position:LG<br>Role:Pass Block",
            "nflId:44896.0<br>displayName:Chris Godwin<br>Position:SLWR<br>Role:Pass Route",
            "nflId:46163.0<br>displayName:Alex Cappa<br>Position:RG<br>Role:Pass Block",
            "nflId:52421.0<br>displayName:Tristan Wirfs<br>Position:RT<br>Role:Pass Block"
           ],
           "marker": {
            "color": "#D50A0A"
           },
           "mode": "markers",
           "name": "TB",
           "type": "scatter",
           "x": [
            33.1,
            46.13,
            54.12,
            37.1,
            37.27,
            46.2,
            34.13,
            39.01,
            52.68,
            36.14,
            35.13
           ],
           "y": [
            21.56,
            42.9,
            42.07,
            16.75,
            22.18,
            29.93,
            24.35,
            27.57,
            24.14,
            25.59,
            23.21
           ]
          },
          {
           "hoverinfo": "text",
           "hovertext": [
            "nflId:41263.0<br>displayName:Demarcus Lawrence<br>Position:LEO<br>Role:Pass Rush",
            "nflId:42403.0<br>displayName:Randy Gregory<br>Position:ROLB<br>Role:Pass Rush",
            "nflId:43306.0<br>displayName:Keanu Neal<br>Position:ROLB<br>Role:Coverage",
            "nflId:43478.0<br>displayName:Anthony Brown<br>Position:RCB<br>Role:Coverage",
            "nflId:44904.0<br>displayName:Jourdan Lewis<br>Position:SCBR<br>Role:Coverage",
            "nflId:44955.0<br>displayName:Carlos Watkins<br>Position:DRT<br>Role:Pass Rush",
            "nflId:44962.0<br>displayName:Damontae Kazee<br>Position:FS<br>Role:Coverage",
            "nflId:47996.0<br>displayName:Donovan Wilson<br>Position:LILB<br>Role:Coverage",
            "nflId:52459.0<br>displayName:Trevon Diggs<br>Position:LCB<br>Role:Coverage",
            "nflId:53441.0<br>displayName:Micah Parsons<br>Position:LILB<br>Role:Pass Rush",
            "nflId:53504.0<br>displayName:Osa Odighizuwa<br>Position:RE<br>Role:Pass Rush"
           ],
           "marker": {
            "color": "#003594"
           },
           "mode": "markers",
           "name": "DAL",
           "type": "scatter",
           "x": [
            34.38,
            34.49,
            47.19,
            54.86,
            53.04,
            39.95,
            68.11,
            46.82,
            50.05,
            34.69,
            35.83
           ],
           "y": [
            24.42,
            24.93,
            42.46,
            43.1,
            25.34,
            28.51,
            30.6,
            20.81,
            24.06,
            23.19,
            20.53
           ]
          },
          {
           "hoverinfo": "none",
           "marker": {
            "color": "#CBB67C"
           },
           "mode": "markers",
           "name": "football",
           "type": "scatter",
           "x": [
            33.34
           ],
           "y": [
            21.96
           ]
          }
         ],
         "name": "37"
        },
        {
         "data": [
          {
           "hoverinfo": "none",
           "mode": "text",
           "showlegend": false,
           "text": [
            "10",
            "20",
            "30",
            "40",
            "50",
            "40",
            "30",
            "20",
            "10"
           ],
           "textfont": {
            "color": "#ffffff",
            "family": "Courier New, monospace",
            "size": 30
           },
           "type": "scatter",
           "x": [
            20,
            30,
            40,
            50,
            60,
            70,
            80,
            90,
            100
           ],
           "y": [
            5,
            5,
            5,
            5,
            5,
            5,
            5,
            5,
            5
           ]
          },
          {
           "hoverinfo": "none",
           "mode": "text",
           "showlegend": false,
           "text": [
            "10",
            "20",
            "30",
            "40",
            "50",
            "40",
            "30",
            "20",
            "10"
           ],
           "textfont": {
            "color": "#ffffff",
            "family": "Courier New, monospace",
            "size": 30
           },
           "type": "scatter",
           "x": [
            20,
            30,
            40,
            50,
            60,
            70,
            80,
            90,
            100
           ],
           "y": [
            48.5,
            48.5,
            48.5,
            48.5,
            48.5,
            48.5,
            48.5,
            48.5,
            48.5
           ]
          },
          {
           "hoverinfo": "none",
           "line": {
            "color": "blue",
            "dash": "dash"
           },
           "showlegend": false,
           "type": "scatter",
           "x": [
            null,
            null
           ],
           "y": [
            0,
            53.5
           ]
          },
          {
           "hoverinfo": "none",
           "line": {
            "color": "yellow",
            "dash": "dash"
           },
           "showlegend": false,
           "type": "scatter",
           "x": [
            null,
            null
           ],
           "y": [
            0,
            53.5
           ]
          },
          {
           "hoverinfo": "text",
           "hovertext": [
            "nflId:25511.0<br>displayName:Tom Brady<br>Position:QB<br>Role:Pass",
            "nflId:35481.0<br>displayName:Rob Gronkowski<br>Position:TE-L<br>Role:Pass Route",
            "nflId:35634.0<br>displayName:Antonio Brown<br>Position:LWR<br>Role:Pass Route",
            "nflId:39985.0<br>displayName:Giovani Bernard<br>Position:HB-R<br>Role:Pass Route",
            "nflId:40151.0<br>displayName:Ryan Jensen<br>Position:C<br>Role:Pass Block",
            "nflId:41233.0<br>displayName:Mike Evans<br>Position:RWR<br>Role:Pass Route",
            "nflId:42377.0<br>displayName:Donovan Smith<br>Position:LT<br>Role:Pass Block",
            "nflId:42404.0<br>displayName:Ali Marpet<br>Position:LG<br>Role:Pass Block",
            "nflId:44896.0<br>displayName:Chris Godwin<br>Position:SLWR<br>Role:Pass Route",
            "nflId:46163.0<br>displayName:Alex Cappa<br>Position:RG<br>Role:Pass Block",
            "nflId:52421.0<br>displayName:Tristan Wirfs<br>Position:RT<br>Role:Pass Block"
           ],
           "marker": {
            "color": "#D50A0A"
           },
           "mode": "markers",
           "name": "TB",
           "type": "scatter",
           "x": [
            32.99,
            46.36,
            54.32,
            37.28,
            36.96,
            46.32,
            34.07,
            39.1,
            53.01,
            35.92,
            34.85
           ],
           "y": [
            21.21,
            43.5,
            41.83,
            16.22,
            21.93,
            30.59,
            24.22,
            27.73,
            23.44,
            25.8,
            23.3
           ]
          },
          {
           "hoverinfo": "text",
           "hovertext": [
            "nflId:41263.0<br>displayName:Demarcus Lawrence<br>Position:LEO<br>Role:Pass Rush",
            "nflId:42403.0<br>displayName:Randy Gregory<br>Position:ROLB<br>Role:Pass Rush",
            "nflId:43306.0<br>displayName:Keanu Neal<br>Position:ROLB<br>Role:Coverage",
            "nflId:43478.0<br>displayName:Anthony Brown<br>Position:RCB<br>Role:Coverage",
            "nflId:44904.0<br>displayName:Jourdan Lewis<br>Position:SCBR<br>Role:Coverage",
            "nflId:44955.0<br>displayName:Carlos Watkins<br>Position:DRT<br>Role:Pass Rush",
            "nflId:44962.0<br>displayName:Damontae Kazee<br>Position:FS<br>Role:Coverage",
            "nflId:47996.0<br>displayName:Donovan Wilson<br>Position:LILB<br>Role:Coverage",
            "nflId:52459.0<br>displayName:Trevon Diggs<br>Position:LCB<br>Role:Coverage",
            "nflId:53441.0<br>displayName:Micah Parsons<br>Position:LILB<br>Role:Pass Rush",
            "nflId:53504.0<br>displayName:Osa Odighizuwa<br>Position:RE<br>Role:Pass Rush"
           ],
           "marker": {
            "color": "#003594"
           },
           "mode": "markers",
           "name": "DAL",
           "type": "scatter",
           "x": [
            33.96,
            34.46,
            47.46,
            55.04,
            53.52,
            40.28,
            68.52,
            46.77,
            50.13,
            34.33,
            35.33
           ],
           "y": [
            24.3,
            24.72,
            42.75,
            42.98,
            24.7,
            28.68,
            30.6,
            20.27,
            24.69,
            23.09,
            20.34
           ]
          },
          {
           "hoverinfo": "none",
           "marker": {
            "color": "#CBB67C"
           },
           "mode": "markers",
           "name": "football",
           "type": "scatter",
           "x": [
            33.3
           ],
           "y": [
            21.88
           ]
          }
         ],
         "name": "38"
        },
        {
         "data": [
          {
           "hoverinfo": "none",
           "mode": "text",
           "showlegend": false,
           "text": [
            "10",
            "20",
            "30",
            "40",
            "50",
            "40",
            "30",
            "20",
            "10"
           ],
           "textfont": {
            "color": "#ffffff",
            "family": "Courier New, monospace",
            "size": 30
           },
           "type": "scatter",
           "x": [
            20,
            30,
            40,
            50,
            60,
            70,
            80,
            90,
            100
           ],
           "y": [
            5,
            5,
            5,
            5,
            5,
            5,
            5,
            5,
            5
           ]
          },
          {
           "hoverinfo": "none",
           "mode": "text",
           "showlegend": false,
           "text": [
            "10",
            "20",
            "30",
            "40",
            "50",
            "40",
            "30",
            "20",
            "10"
           ],
           "textfont": {
            "color": "#ffffff",
            "family": "Courier New, monospace",
            "size": 30
           },
           "type": "scatter",
           "x": [
            20,
            30,
            40,
            50,
            60,
            70,
            80,
            90,
            100
           ],
           "y": [
            48.5,
            48.5,
            48.5,
            48.5,
            48.5,
            48.5,
            48.5,
            48.5,
            48.5
           ]
          },
          {
           "hoverinfo": "none",
           "line": {
            "color": "blue",
            "dash": "dash"
           },
           "showlegend": false,
           "type": "scatter",
           "x": [
            null,
            null
           ],
           "y": [
            0,
            53.5
           ]
          },
          {
           "hoverinfo": "none",
           "line": {
            "color": "yellow",
            "dash": "dash"
           },
           "showlegend": false,
           "type": "scatter",
           "x": [
            null,
            null
           ],
           "y": [
            0,
            53.5
           ]
          },
          {
           "hoverinfo": "text",
           "hovertext": [
            "nflId:25511.0<br>displayName:Tom Brady<br>Position:QB<br>Role:Pass",
            "nflId:35481.0<br>displayName:Rob Gronkowski<br>Position:TE-L<br>Role:Pass Route",
            "nflId:35634.0<br>displayName:Antonio Brown<br>Position:LWR<br>Role:Pass Route",
            "nflId:39985.0<br>displayName:Giovani Bernard<br>Position:HB-R<br>Role:Pass Route",
            "nflId:40151.0<br>displayName:Ryan Jensen<br>Position:C<br>Role:Pass Block",
            "nflId:41233.0<br>displayName:Mike Evans<br>Position:RWR<br>Role:Pass Route",
            "nflId:42377.0<br>displayName:Donovan Smith<br>Position:LT<br>Role:Pass Block",
            "nflId:42404.0<br>displayName:Ali Marpet<br>Position:LG<br>Role:Pass Block",
            "nflId:44896.0<br>displayName:Chris Godwin<br>Position:SLWR<br>Role:Pass Route",
            "nflId:46163.0<br>displayName:Alex Cappa<br>Position:RG<br>Role:Pass Block",
            "nflId:52421.0<br>displayName:Tristan Wirfs<br>Position:RT<br>Role:Pass Block"
           ],
           "marker": {
            "color": "#D50A0A"
           },
           "mode": "markers",
           "name": "TB",
           "type": "scatter",
           "x": [
            32.85,
            46.6,
            54.53,
            37.47,
            36.64,
            46.46,
            33.98,
            39.23,
            53.34,
            35.73,
            34.55
           ],
           "y": [
            20.85,
            44.1,
            41.53,
            15.69,
            21.69,
            31.25,
            24.15,
            27.84,
            22.75,
            25.98,
            23.36
           ]
          },
          {
           "hoverinfo": "text",
           "hovertext": [
            "nflId:41263.0<br>displayName:Demarcus Lawrence<br>Position:LEO<br>Role:Pass Rush",
            "nflId:42403.0<br>displayName:Randy Gregory<br>Position:ROLB<br>Role:Pass Rush",
            "nflId:43306.0<br>displayName:Keanu Neal<br>Position:ROLB<br>Role:Coverage",
            "nflId:43478.0<br>displayName:Anthony Brown<br>Position:RCB<br>Role:Coverage",
            "nflId:44904.0<br>displayName:Jourdan Lewis<br>Position:SCBR<br>Role:Coverage",
            "nflId:44955.0<br>displayName:Carlos Watkins<br>Position:DRT<br>Role:Pass Rush",
            "nflId:44962.0<br>displayName:Damontae Kazee<br>Position:FS<br>Role:Coverage",
            "nflId:47996.0<br>displayName:Donovan Wilson<br>Position:LILB<br>Role:Coverage",
            "nflId:52459.0<br>displayName:Trevon Diggs<br>Position:LCB<br>Role:Coverage",
            "nflId:53441.0<br>displayName:Micah Parsons<br>Position:LILB<br>Role:Pass Rush",
            "nflId:53504.0<br>displayName:Osa Odighizuwa<br>Position:RE<br>Role:Pass Rush"
           ],
           "marker": {
            "color": "#003594"
           },
           "mode": "markers",
           "name": "DAL",
           "type": "scatter",
           "x": [
            33.59,
            34.42,
            47.75,
            55.18,
            53.96,
            40.35,
            68.93,
            46.72,
            50.2,
            34.02,
            34.85
           ],
           "y": [
            24.17,
            24.58,
            42.97,
            42.91,
            24.02,
            28.71,
            30.55,
            19.68,
            25.35,
            22.94,
            20.16
           ]
          },
          {
           "hoverinfo": "none",
           "marker": {
            "color": "#CBB67C"
           },
           "mode": "markers",
           "name": "football",
           "type": "scatter",
           "x": [
            33.25
           ],
           "y": [
            21.79
           ]
          }
         ],
         "name": "39"
        },
        {
         "data": [
          {
           "hoverinfo": "none",
           "mode": "text",
           "showlegend": false,
           "text": [
            "10",
            "20",
            "30",
            "40",
            "50",
            "40",
            "30",
            "20",
            "10"
           ],
           "textfont": {
            "color": "#ffffff",
            "family": "Courier New, monospace",
            "size": 30
           },
           "type": "scatter",
           "x": [
            20,
            30,
            40,
            50,
            60,
            70,
            80,
            90,
            100
           ],
           "y": [
            5,
            5,
            5,
            5,
            5,
            5,
            5,
            5,
            5
           ]
          },
          {
           "hoverinfo": "none",
           "mode": "text",
           "showlegend": false,
           "text": [
            "10",
            "20",
            "30",
            "40",
            "50",
            "40",
            "30",
            "20",
            "10"
           ],
           "textfont": {
            "color": "#ffffff",
            "family": "Courier New, monospace",
            "size": 30
           },
           "type": "scatter",
           "x": [
            20,
            30,
            40,
            50,
            60,
            70,
            80,
            90,
            100
           ],
           "y": [
            48.5,
            48.5,
            48.5,
            48.5,
            48.5,
            48.5,
            48.5,
            48.5,
            48.5
           ]
          },
          {
           "hoverinfo": "none",
           "line": {
            "color": "blue",
            "dash": "dash"
           },
           "showlegend": false,
           "type": "scatter",
           "x": [
            null,
            null
           ],
           "y": [
            0,
            53.5
           ]
          },
          {
           "hoverinfo": "none",
           "line": {
            "color": "yellow",
            "dash": "dash"
           },
           "showlegend": false,
           "type": "scatter",
           "x": [
            null,
            null
           ],
           "y": [
            0,
            53.5
           ]
          },
          {
           "hoverinfo": "text",
           "hovertext": [
            "nflId:25511.0<br>displayName:Tom Brady<br>Position:QB<br>Role:Pass",
            "nflId:35481.0<br>displayName:Rob Gronkowski<br>Position:TE-L<br>Role:Pass Route",
            "nflId:35634.0<br>displayName:Antonio Brown<br>Position:LWR<br>Role:Pass Route",
            "nflId:39985.0<br>displayName:Giovani Bernard<br>Position:HB-R<br>Role:Pass Route",
            "nflId:40151.0<br>displayName:Ryan Jensen<br>Position:C<br>Role:Pass Block",
            "nflId:41233.0<br>displayName:Mike Evans<br>Position:RWR<br>Role:Pass Route",
            "nflId:42377.0<br>displayName:Donovan Smith<br>Position:LT<br>Role:Pass Block",
            "nflId:42404.0<br>displayName:Ali Marpet<br>Position:LG<br>Role:Pass Block",
            "nflId:44896.0<br>displayName:Chris Godwin<br>Position:SLWR<br>Role:Pass Route",
            "nflId:46163.0<br>displayName:Alex Cappa<br>Position:RG<br>Role:Pass Block",
            "nflId:52421.0<br>displayName:Tristan Wirfs<br>Position:RT<br>Role:Pass Block"
           ],
           "marker": {
            "color": "#D50A0A"
           },
           "mode": "markers",
           "name": "TB",
           "type": "scatter",
           "x": [
            32.69,
            46.88,
            54.72,
            37.69,
            36.31,
            46.61,
            33.9,
            39.43,
            53.64,
            35.54,
            34.29
           ],
           "y": [
            20.5,
            44.67,
            41.19,
            15.17,
            21.42,
            31.87,
            24.09,
            27.87,
            22.02,
            26.09,
            23.41
           ]
          },
          {
           "hoverinfo": "text",
           "hovertext": [
            "nflId:41263.0<br>displayName:Demarcus Lawrence<br>Position:LEO<br>Role:Pass Rush",
            "nflId:42403.0<br>displayName:Randy Gregory<br>Position:ROLB<br>Role:Pass Rush",
            "nflId:43306.0<br>displayName:Keanu Neal<br>Position:ROLB<br>Role:Coverage",
            "nflId:43478.0<br>displayName:Anthony Brown<br>Position:RCB<br>Role:Coverage",
            "nflId:44904.0<br>displayName:Jourdan Lewis<br>Position:SCBR<br>Role:Coverage",
            "nflId:44955.0<br>displayName:Carlos Watkins<br>Position:DRT<br>Role:Pass Rush",
            "nflId:44962.0<br>displayName:Damontae Kazee<br>Position:FS<br>Role:Coverage",
            "nflId:47996.0<br>displayName:Donovan Wilson<br>Position:LILB<br>Role:Coverage",
            "nflId:52459.0<br>displayName:Trevon Diggs<br>Position:LCB<br>Role:Coverage",
            "nflId:53441.0<br>displayName:Micah Parsons<br>Position:LILB<br>Role:Pass Rush",
            "nflId:53504.0<br>displayName:Osa Odighizuwa<br>Position:RE<br>Role:Pass Rush"
           ],
           "marker": {
            "color": "#003594"
           },
           "mode": "markers",
           "name": "DAL",
           "type": "scatter",
           "x": [
            33.21,
            34.39,
            48.03,
            55.34,
            54.39,
            40.47,
            69.32,
            46.7,
            50.26,
            33.77,
            34.42
           ],
           "y": [
            24.06,
            24.48,
            43.14,
            42.82,
            23.31,
            28.73,
            30.43,
            19.09,
            26.02,
            22.7,
            20.06
           ]
          },
          {
           "hoverinfo": "none",
           "marker": {
            "color": "#CBB67C"
           },
           "mode": "markers",
           "name": "football",
           "type": "scatter",
           "x": [
            36.55
           ],
           "y": [
            19.21
           ]
          }
         ],
         "name": "40"
        },
        {
         "data": [
          {
           "hoverinfo": "none",
           "mode": "text",
           "showlegend": false,
           "text": [
            "10",
            "20",
            "30",
            "40",
            "50",
            "40",
            "30",
            "20",
            "10"
           ],
           "textfont": {
            "color": "#ffffff",
            "family": "Courier New, monospace",
            "size": 30
           },
           "type": "scatter",
           "x": [
            20,
            30,
            40,
            50,
            60,
            70,
            80,
            90,
            100
           ],
           "y": [
            5,
            5,
            5,
            5,
            5,
            5,
            5,
            5,
            5
           ]
          },
          {
           "hoverinfo": "none",
           "mode": "text",
           "showlegend": false,
           "text": [
            "10",
            "20",
            "30",
            "40",
            "50",
            "40",
            "30",
            "20",
            "10"
           ],
           "textfont": {
            "color": "#ffffff",
            "family": "Courier New, monospace",
            "size": 30
           },
           "type": "scatter",
           "x": [
            20,
            30,
            40,
            50,
            60,
            70,
            80,
            90,
            100
           ],
           "y": [
            48.5,
            48.5,
            48.5,
            48.5,
            48.5,
            48.5,
            48.5,
            48.5,
            48.5
           ]
          },
          {
           "hoverinfo": "none",
           "line": {
            "color": "blue",
            "dash": "dash"
           },
           "showlegend": false,
           "type": "scatter",
           "x": [
            null,
            null
           ],
           "y": [
            0,
            53.5
           ]
          },
          {
           "hoverinfo": "none",
           "line": {
            "color": "yellow",
            "dash": "dash"
           },
           "showlegend": false,
           "type": "scatter",
           "x": [
            null,
            null
           ],
           "y": [
            0,
            53.5
           ]
          },
          {
           "hoverinfo": "text",
           "hovertext": [
            "nflId:25511.0<br>displayName:Tom Brady<br>Position:QB<br>Role:Pass",
            "nflId:35481.0<br>displayName:Rob Gronkowski<br>Position:TE-L<br>Role:Pass Route",
            "nflId:35634.0<br>displayName:Antonio Brown<br>Position:LWR<br>Role:Pass Route",
            "nflId:39985.0<br>displayName:Giovani Bernard<br>Position:HB-R<br>Role:Pass Route",
            "nflId:40151.0<br>displayName:Ryan Jensen<br>Position:C<br>Role:Pass Block",
            "nflId:41233.0<br>displayName:Mike Evans<br>Position:RWR<br>Role:Pass Route",
            "nflId:42377.0<br>displayName:Donovan Smith<br>Position:LT<br>Role:Pass Block",
            "nflId:42404.0<br>displayName:Ali Marpet<br>Position:LG<br>Role:Pass Block",
            "nflId:44896.0<br>displayName:Chris Godwin<br>Position:SLWR<br>Role:Pass Route",
            "nflId:46163.0<br>displayName:Alex Cappa<br>Position:RG<br>Role:Pass Block",
            "nflId:52421.0<br>displayName:Tristan Wirfs<br>Position:RT<br>Role:Pass Block"
           ],
           "marker": {
            "color": "#D50A0A"
           },
           "mode": "markers",
           "name": "TB",
           "type": "scatter",
           "x": [
            32.53,
            47.17,
            54.89,
            37.95,
            36,
            46.76,
            33.83,
            39.57,
            53.91,
            35.33,
            34.01
           ],
           "y": [
            20.17,
            45.2,
            40.81,
            14.66,
            21.13,
            32.45,
            24.03,
            27.88,
            21.27,
            26.17,
            23.44
           ]
          },
          {
           "hoverinfo": "text",
           "hovertext": [
            "nflId:41263.0<br>displayName:Demarcus Lawrence<br>Position:LEO<br>Role:Pass Rush",
            "nflId:42403.0<br>displayName:Randy Gregory<br>Position:ROLB<br>Role:Pass Rush",
            "nflId:43306.0<br>displayName:Keanu Neal<br>Position:ROLB<br>Role:Coverage",
            "nflId:43478.0<br>displayName:Anthony Brown<br>Position:RCB<br>Role:Coverage",
            "nflId:44904.0<br>displayName:Jourdan Lewis<br>Position:SCBR<br>Role:Coverage",
            "nflId:44955.0<br>displayName:Carlos Watkins<br>Position:DRT<br>Role:Pass Rush",
            "nflId:44962.0<br>displayName:Damontae Kazee<br>Position:FS<br>Role:Coverage",
            "nflId:47996.0<br>displayName:Donovan Wilson<br>Position:LILB<br>Role:Coverage",
            "nflId:52459.0<br>displayName:Trevon Diggs<br>Position:LCB<br>Role:Coverage",
            "nflId:53441.0<br>displayName:Micah Parsons<br>Position:LILB<br>Role:Pass Rush",
            "nflId:53504.0<br>displayName:Osa Odighizuwa<br>Position:RE<br>Role:Pass Rush"
           ],
           "marker": {
            "color": "#003594"
           },
           "mode": "markers",
           "name": "DAL",
           "type": "scatter",
           "x": [
            32.85,
            34.38,
            48.3,
            55.44,
            54.75,
            40.6,
            69.7,
            46.62,
            50.31,
            33.58,
            33.97
           ],
           "y": [
            23.95,
            24.38,
            43.22,
            42.7,
            22.58,
            28.72,
            30.19,
            18.41,
            26.7,
            22.38,
            19.95
           ]
          },
          {
           "hoverinfo": "none",
           "marker": {
            "color": "#CBB67C"
           },
           "mode": "markers",
           "name": "football",
           "type": "scatter",
           "x": [
            37.77
           ],
           "y": [
            18.49
           ]
          }
         ],
         "name": "41"
        },
        {
         "data": [
          {
           "hoverinfo": "none",
           "mode": "text",
           "showlegend": false,
           "text": [
            "10",
            "20",
            "30",
            "40",
            "50",
            "40",
            "30",
            "20",
            "10"
           ],
           "textfont": {
            "color": "#ffffff",
            "family": "Courier New, monospace",
            "size": 30
           },
           "type": "scatter",
           "x": [
            20,
            30,
            40,
            50,
            60,
            70,
            80,
            90,
            100
           ],
           "y": [
            5,
            5,
            5,
            5,
            5,
            5,
            5,
            5,
            5
           ]
          },
          {
           "hoverinfo": "none",
           "mode": "text",
           "showlegend": false,
           "text": [
            "10",
            "20",
            "30",
            "40",
            "50",
            "40",
            "30",
            "20",
            "10"
           ],
           "textfont": {
            "color": "#ffffff",
            "family": "Courier New, monospace",
            "size": 30
           },
           "type": "scatter",
           "x": [
            20,
            30,
            40,
            50,
            60,
            70,
            80,
            90,
            100
           ],
           "y": [
            48.5,
            48.5,
            48.5,
            48.5,
            48.5,
            48.5,
            48.5,
            48.5,
            48.5
           ]
          },
          {
           "hoverinfo": "none",
           "line": {
            "color": "blue",
            "dash": "dash"
           },
           "showlegend": false,
           "type": "scatter",
           "x": [
            null,
            null
           ],
           "y": [
            0,
            53.5
           ]
          },
          {
           "hoverinfo": "none",
           "line": {
            "color": "yellow",
            "dash": "dash"
           },
           "showlegend": false,
           "type": "scatter",
           "x": [
            null,
            null
           ],
           "y": [
            0,
            53.5
           ]
          },
          {
           "hoverinfo": "text",
           "hovertext": [
            "nflId:25511.0<br>displayName:Tom Brady<br>Position:QB<br>Role:Pass",
            "nflId:35481.0<br>displayName:Rob Gronkowski<br>Position:TE-L<br>Role:Pass Route",
            "nflId:35634.0<br>displayName:Antonio Brown<br>Position:LWR<br>Role:Pass Route",
            "nflId:39985.0<br>displayName:Giovani Bernard<br>Position:HB-R<br>Role:Pass Route",
            "nflId:40151.0<br>displayName:Ryan Jensen<br>Position:C<br>Role:Pass Block",
            "nflId:41233.0<br>displayName:Mike Evans<br>Position:RWR<br>Role:Pass Route",
            "nflId:42377.0<br>displayName:Donovan Smith<br>Position:LT<br>Role:Pass Block",
            "nflId:42404.0<br>displayName:Ali Marpet<br>Position:LG<br>Role:Pass Block",
            "nflId:44896.0<br>displayName:Chris Godwin<br>Position:SLWR<br>Role:Pass Route",
            "nflId:46163.0<br>displayName:Alex Cappa<br>Position:RG<br>Role:Pass Block",
            "nflId:52421.0<br>displayName:Tristan Wirfs<br>Position:RT<br>Role:Pass Block"
           ],
           "marker": {
            "color": "#D50A0A"
           },
           "mode": "markers",
           "name": "TB",
           "type": "scatter",
           "x": [
            32.3,
            47.49,
            55.05,
            38.26,
            35.71,
            46.92,
            33.74,
            39.73,
            54.15,
            35.15,
            33.72
           ],
           "y": [
            19.85,
            45.71,
            40.4,
            14.15,
            20.85,
            32.99,
            23.99,
            27.88,
            20.49,
            26.19,
            23.45
           ]
          },
          {
           "hoverinfo": "text",
           "hovertext": [
            "nflId:41263.0<br>displayName:Demarcus Lawrence<br>Position:LEO<br>Role:Pass Rush",
            "nflId:42403.0<br>displayName:Randy Gregory<br>Position:ROLB<br>Role:Pass Rush",
            "nflId:43306.0<br>displayName:Keanu Neal<br>Position:ROLB<br>Role:Coverage",
            "nflId:43478.0<br>displayName:Anthony Brown<br>Position:RCB<br>Role:Coverage",
            "nflId:44904.0<br>displayName:Jourdan Lewis<br>Position:SCBR<br>Role:Coverage",
            "nflId:44955.0<br>displayName:Carlos Watkins<br>Position:DRT<br>Role:Pass Rush",
            "nflId:44962.0<br>displayName:Damontae Kazee<br>Position:FS<br>Role:Coverage",
            "nflId:47996.0<br>displayName:Donovan Wilson<br>Position:LILB<br>Role:Coverage",
            "nflId:52459.0<br>displayName:Trevon Diggs<br>Position:LCB<br>Role:Coverage",
            "nflId:53441.0<br>displayName:Micah Parsons<br>Position:LILB<br>Role:Pass Rush",
            "nflId:53504.0<br>displayName:Osa Odighizuwa<br>Position:RE<br>Role:Pass Rush"
           ],
           "marker": {
            "color": "#003594"
           },
           "mode": "markers",
           "name": "DAL",
           "type": "scatter",
           "x": [
            32.49,
            34.37,
            48.57,
            55.57,
            55.1,
            40.77,
            70.1,
            46.55,
            50.36,
            33.44,
            33.57
           ],
           "y": [
            23.86,
            24.3,
            43.25,
            42.28,
            21.83,
            28.67,
            29.93,
            17.73,
            27.4,
            21.98,
            19.81
           ]
          },
          {
           "hoverinfo": "none",
           "marker": {
            "color": "#CBB67C"
           },
           "mode": "markers",
           "name": "football",
           "type": "scatter",
           "x": [
            38.91
           ],
           "y": [
            17.79
           ]
          }
         ],
         "name": "42"
        },
        {
         "data": [
          {
           "hoverinfo": "none",
           "mode": "text",
           "showlegend": false,
           "text": [
            "10",
            "20",
            "30",
            "40",
            "50",
            "40",
            "30",
            "20",
            "10"
           ],
           "textfont": {
            "color": "#ffffff",
            "family": "Courier New, monospace",
            "size": 30
           },
           "type": "scatter",
           "x": [
            20,
            30,
            40,
            50,
            60,
            70,
            80,
            90,
            100
           ],
           "y": [
            5,
            5,
            5,
            5,
            5,
            5,
            5,
            5,
            5
           ]
          },
          {
           "hoverinfo": "none",
           "mode": "text",
           "showlegend": false,
           "text": [
            "10",
            "20",
            "30",
            "40",
            "50",
            "40",
            "30",
            "20",
            "10"
           ],
           "textfont": {
            "color": "#ffffff",
            "family": "Courier New, monospace",
            "size": 30
           },
           "type": "scatter",
           "x": [
            20,
            30,
            40,
            50,
            60,
            70,
            80,
            90,
            100
           ],
           "y": [
            48.5,
            48.5,
            48.5,
            48.5,
            48.5,
            48.5,
            48.5,
            48.5,
            48.5
           ]
          },
          {
           "hoverinfo": "none",
           "line": {
            "color": "blue",
            "dash": "dash"
           },
           "showlegend": false,
           "type": "scatter",
           "x": [
            null,
            null
           ],
           "y": [
            0,
            53.5
           ]
          },
          {
           "hoverinfo": "none",
           "line": {
            "color": "yellow",
            "dash": "dash"
           },
           "showlegend": false,
           "type": "scatter",
           "x": [
            null,
            null
           ],
           "y": [
            0,
            53.5
           ]
          },
          {
           "hoverinfo": "text",
           "hovertext": [
            "nflId:25511.0<br>displayName:Tom Brady<br>Position:QB<br>Role:Pass",
            "nflId:35481.0<br>displayName:Rob Gronkowski<br>Position:TE-L<br>Role:Pass Route",
            "nflId:35634.0<br>displayName:Antonio Brown<br>Position:LWR<br>Role:Pass Route",
            "nflId:39985.0<br>displayName:Giovani Bernard<br>Position:HB-R<br>Role:Pass Route",
            "nflId:40151.0<br>displayName:Ryan Jensen<br>Position:C<br>Role:Pass Block",
            "nflId:41233.0<br>displayName:Mike Evans<br>Position:RWR<br>Role:Pass Route",
            "nflId:42377.0<br>displayName:Donovan Smith<br>Position:LT<br>Role:Pass Block",
            "nflId:42404.0<br>displayName:Ali Marpet<br>Position:LG<br>Role:Pass Block",
            "nflId:44896.0<br>displayName:Chris Godwin<br>Position:SLWR<br>Role:Pass Route",
            "nflId:46163.0<br>displayName:Alex Cappa<br>Position:RG<br>Role:Pass Block",
            "nflId:52421.0<br>displayName:Tristan Wirfs<br>Position:RT<br>Role:Pass Block"
           ],
           "marker": {
            "color": "#D50A0A"
           },
           "mode": "markers",
           "name": "TB",
           "type": "scatter",
           "x": [
            32.07,
            47.82,
            55.21,
            38.58,
            35.43,
            47.07,
            33.64,
            39.95,
            54.37,
            35,
            33.46
           ],
           "y": [
            19.54,
            46.17,
            39.97,
            13.66,
            20.54,
            33.47,
            23.95,
            27.86,
            19.68,
            26.16,
            23.48
           ]
          },
          {
           "hoverinfo": "text",
           "hovertext": [
            "nflId:41263.0<br>displayName:Demarcus Lawrence<br>Position:LEO<br>Role:Pass Rush",
            "nflId:42403.0<br>displayName:Randy Gregory<br>Position:ROLB<br>Role:Pass Rush",
            "nflId:43306.0<br>displayName:Keanu Neal<br>Position:ROLB<br>Role:Coverage",
            "nflId:43478.0<br>displayName:Anthony Brown<br>Position:RCB<br>Role:Coverage",
            "nflId:44904.0<br>displayName:Jourdan Lewis<br>Position:SCBR<br>Role:Coverage",
            "nflId:44955.0<br>displayName:Carlos Watkins<br>Position:DRT<br>Role:Pass Rush",
            "nflId:44962.0<br>displayName:Damontae Kazee<br>Position:FS<br>Role:Coverage",
            "nflId:47996.0<br>displayName:Donovan Wilson<br>Position:LILB<br>Role:Coverage",
            "nflId:52459.0<br>displayName:Trevon Diggs<br>Position:LCB<br>Role:Coverage",
            "nflId:53441.0<br>displayName:Micah Parsons<br>Position:LILB<br>Role:Pass Rush",
            "nflId:53504.0<br>displayName:Osa Odighizuwa<br>Position:RE<br>Role:Pass Rush"
           ],
           "marker": {
            "color": "#003594"
           },
           "mode": "markers",
           "name": "DAL",
           "type": "scatter",
           "x": [
            32.13,
            34.37,
            48.85,
            55.68,
            55.4,
            40.95,
            70.47,
            46.47,
            50.39,
            33.35,
            33.17
           ],
           "y": [
            23.79,
            24.25,
            43.21,
            41.96,
            21.06,
            28.53,
            29.6,
            17.04,
            28.09,
            21.52,
            19.71
           ]
          },
          {
           "hoverinfo": "none",
           "marker": {
            "color": "#CBB67C"
           },
           "mode": "markers",
           "name": "football",
           "type": "scatter",
           "x": [
            40.07
           ],
           "y": [
            17.08
           ]
          }
         ],
         "name": "43"
        }
       ],
       "layout": {
        "annotations": [
         {
          "align": "center",
          "bgcolor": "#ff7f0e",
          "bordercolor": "black",
          "borderpad": 4,
          "borderwidth": 2,
          "font": {
           "color": "black",
           "family": "Courier New, monospace",
           "size": 16
          },
          "opacity": 1,
          "showarrow": false,
          "text": "3",
          "x": 45,
          "y": 0
         },
         {
          "align": "center",
          "bgcolor": "#ff7f0e",
          "bordercolor": "black",
          "borderpad": 4,
          "borderwidth": 2,
          "font": {
           "color": "black",
           "family": "Courier New, monospace",
           "size": 16
          },
          "opacity": 1,
          "showarrow": false,
          "text": "3",
          "x": 45,
          "y": 53
         }
        ],
        "autosize": false,
        "height": 540,
        "plot_bgcolor": "#00B140",
        "sliders": [
         {
          "active": 0,
          "currentvalue": {
           "font": {
            "size": 20
           },
           "prefix": "Frame:",
           "visible": true,
           "xanchor": "right"
          },
          "len": 0.9,
          "pad": {
           "b": 10,
           "t": 50
          },
          "steps": [
           {
            "args": [
             [
              1
             ],
             {
              "frame": {
               "duration": 100,
               "redraw": false
              },
              "mode": "immediate",
              "transition": {
               "duration": 0
              }
             }
            ],
            "label": "1",
            "method": "animate"
           },
           {
            "args": [
             [
              2
             ],
             {
              "frame": {
               "duration": 100,
               "redraw": false
              },
              "mode": "immediate",
              "transition": {
               "duration": 0
              }
             }
            ],
            "label": "2",
            "method": "animate"
           },
           {
            "args": [
             [
              3
             ],
             {
              "frame": {
               "duration": 100,
               "redraw": false
              },
              "mode": "immediate",
              "transition": {
               "duration": 0
              }
             }
            ],
            "label": "3",
            "method": "animate"
           },
           {
            "args": [
             [
              4
             ],
             {
              "frame": {
               "duration": 100,
               "redraw": false
              },
              "mode": "immediate",
              "transition": {
               "duration": 0
              }
             }
            ],
            "label": "4",
            "method": "animate"
           },
           {
            "args": [
             [
              5
             ],
             {
              "frame": {
               "duration": 100,
               "redraw": false
              },
              "mode": "immediate",
              "transition": {
               "duration": 0
              }
             }
            ],
            "label": "5",
            "method": "animate"
           },
           {
            "args": [
             [
              6
             ],
             {
              "frame": {
               "duration": 100,
               "redraw": false
              },
              "mode": "immediate",
              "transition": {
               "duration": 0
              }
             }
            ],
            "label": "6",
            "method": "animate"
           },
           {
            "args": [
             [
              7
             ],
             {
              "frame": {
               "duration": 100,
               "redraw": false
              },
              "mode": "immediate",
              "transition": {
               "duration": 0
              }
             }
            ],
            "label": "7",
            "method": "animate"
           },
           {
            "args": [
             [
              8
             ],
             {
              "frame": {
               "duration": 100,
               "redraw": false
              },
              "mode": "immediate",
              "transition": {
               "duration": 0
              }
             }
            ],
            "label": "8",
            "method": "animate"
           },
           {
            "args": [
             [
              9
             ],
             {
              "frame": {
               "duration": 100,
               "redraw": false
              },
              "mode": "immediate",
              "transition": {
               "duration": 0
              }
             }
            ],
            "label": "9",
            "method": "animate"
           },
           {
            "args": [
             [
              10
             ],
             {
              "frame": {
               "duration": 100,
               "redraw": false
              },
              "mode": "immediate",
              "transition": {
               "duration": 0
              }
             }
            ],
            "label": "10",
            "method": "animate"
           },
           {
            "args": [
             [
              11
             ],
             {
              "frame": {
               "duration": 100,
               "redraw": false
              },
              "mode": "immediate",
              "transition": {
               "duration": 0
              }
             }
            ],
            "label": "11",
            "method": "animate"
           },
           {
            "args": [
             [
              12
             ],
             {
              "frame": {
               "duration": 100,
               "redraw": false
              },
              "mode": "immediate",
              "transition": {
               "duration": 0
              }
             }
            ],
            "label": "12",
            "method": "animate"
           },
           {
            "args": [
             [
              13
             ],
             {
              "frame": {
               "duration": 100,
               "redraw": false
              },
              "mode": "immediate",
              "transition": {
               "duration": 0
              }
             }
            ],
            "label": "13",
            "method": "animate"
           },
           {
            "args": [
             [
              14
             ],
             {
              "frame": {
               "duration": 100,
               "redraw": false
              },
              "mode": "immediate",
              "transition": {
               "duration": 0
              }
             }
            ],
            "label": "14",
            "method": "animate"
           },
           {
            "args": [
             [
              15
             ],
             {
              "frame": {
               "duration": 100,
               "redraw": false
              },
              "mode": "immediate",
              "transition": {
               "duration": 0
              }
             }
            ],
            "label": "15",
            "method": "animate"
           },
           {
            "args": [
             [
              16
             ],
             {
              "frame": {
               "duration": 100,
               "redraw": false
              },
              "mode": "immediate",
              "transition": {
               "duration": 0
              }
             }
            ],
            "label": "16",
            "method": "animate"
           },
           {
            "args": [
             [
              17
             ],
             {
              "frame": {
               "duration": 100,
               "redraw": false
              },
              "mode": "immediate",
              "transition": {
               "duration": 0
              }
             }
            ],
            "label": "17",
            "method": "animate"
           },
           {
            "args": [
             [
              18
             ],
             {
              "frame": {
               "duration": 100,
               "redraw": false
              },
              "mode": "immediate",
              "transition": {
               "duration": 0
              }
             }
            ],
            "label": "18",
            "method": "animate"
           },
           {
            "args": [
             [
              19
             ],
             {
              "frame": {
               "duration": 100,
               "redraw": false
              },
              "mode": "immediate",
              "transition": {
               "duration": 0
              }
             }
            ],
            "label": "19",
            "method": "animate"
           },
           {
            "args": [
             [
              20
             ],
             {
              "frame": {
               "duration": 100,
               "redraw": false
              },
              "mode": "immediate",
              "transition": {
               "duration": 0
              }
             }
            ],
            "label": "20",
            "method": "animate"
           },
           {
            "args": [
             [
              21
             ],
             {
              "frame": {
               "duration": 100,
               "redraw": false
              },
              "mode": "immediate",
              "transition": {
               "duration": 0
              }
             }
            ],
            "label": "21",
            "method": "animate"
           },
           {
            "args": [
             [
              22
             ],
             {
              "frame": {
               "duration": 100,
               "redraw": false
              },
              "mode": "immediate",
              "transition": {
               "duration": 0
              }
             }
            ],
            "label": "22",
            "method": "animate"
           },
           {
            "args": [
             [
              23
             ],
             {
              "frame": {
               "duration": 100,
               "redraw": false
              },
              "mode": "immediate",
              "transition": {
               "duration": 0
              }
             }
            ],
            "label": "23",
            "method": "animate"
           },
           {
            "args": [
             [
              24
             ],
             {
              "frame": {
               "duration": 100,
               "redraw": false
              },
              "mode": "immediate",
              "transition": {
               "duration": 0
              }
             }
            ],
            "label": "24",
            "method": "animate"
           },
           {
            "args": [
             [
              25
             ],
             {
              "frame": {
               "duration": 100,
               "redraw": false
              },
              "mode": "immediate",
              "transition": {
               "duration": 0
              }
             }
            ],
            "label": "25",
            "method": "animate"
           },
           {
            "args": [
             [
              26
             ],
             {
              "frame": {
               "duration": 100,
               "redraw": false
              },
              "mode": "immediate",
              "transition": {
               "duration": 0
              }
             }
            ],
            "label": "26",
            "method": "animate"
           },
           {
            "args": [
             [
              27
             ],
             {
              "frame": {
               "duration": 100,
               "redraw": false
              },
              "mode": "immediate",
              "transition": {
               "duration": 0
              }
             }
            ],
            "label": "27",
            "method": "animate"
           },
           {
            "args": [
             [
              28
             ],
             {
              "frame": {
               "duration": 100,
               "redraw": false
              },
              "mode": "immediate",
              "transition": {
               "duration": 0
              }
             }
            ],
            "label": "28",
            "method": "animate"
           },
           {
            "args": [
             [
              29
             ],
             {
              "frame": {
               "duration": 100,
               "redraw": false
              },
              "mode": "immediate",
              "transition": {
               "duration": 0
              }
             }
            ],
            "label": "29",
            "method": "animate"
           },
           {
            "args": [
             [
              30
             ],
             {
              "frame": {
               "duration": 100,
               "redraw": false
              },
              "mode": "immediate",
              "transition": {
               "duration": 0
              }
             }
            ],
            "label": "30",
            "method": "animate"
           },
           {
            "args": [
             [
              31
             ],
             {
              "frame": {
               "duration": 100,
               "redraw": false
              },
              "mode": "immediate",
              "transition": {
               "duration": 0
              }
             }
            ],
            "label": "31",
            "method": "animate"
           },
           {
            "args": [
             [
              32
             ],
             {
              "frame": {
               "duration": 100,
               "redraw": false
              },
              "mode": "immediate",
              "transition": {
               "duration": 0
              }
             }
            ],
            "label": "32",
            "method": "animate"
           },
           {
            "args": [
             [
              33
             ],
             {
              "frame": {
               "duration": 100,
               "redraw": false
              },
              "mode": "immediate",
              "transition": {
               "duration": 0
              }
             }
            ],
            "label": "33",
            "method": "animate"
           },
           {
            "args": [
             [
              34
             ],
             {
              "frame": {
               "duration": 100,
               "redraw": false
              },
              "mode": "immediate",
              "transition": {
               "duration": 0
              }
             }
            ],
            "label": "34",
            "method": "animate"
           },
           {
            "args": [
             [
              35
             ],
             {
              "frame": {
               "duration": 100,
               "redraw": false
              },
              "mode": "immediate",
              "transition": {
               "duration": 0
              }
             }
            ],
            "label": "35",
            "method": "animate"
           },
           {
            "args": [
             [
              36
             ],
             {
              "frame": {
               "duration": 100,
               "redraw": false
              },
              "mode": "immediate",
              "transition": {
               "duration": 0
              }
             }
            ],
            "label": "36",
            "method": "animate"
           },
           {
            "args": [
             [
              37
             ],
             {
              "frame": {
               "duration": 100,
               "redraw": false
              },
              "mode": "immediate",
              "transition": {
               "duration": 0
              }
             }
            ],
            "label": "37",
            "method": "animate"
           },
           {
            "args": [
             [
              38
             ],
             {
              "frame": {
               "duration": 100,
               "redraw": false
              },
              "mode": "immediate",
              "transition": {
               "duration": 0
              }
             }
            ],
            "label": "38",
            "method": "animate"
           },
           {
            "args": [
             [
              39
             ],
             {
              "frame": {
               "duration": 100,
               "redraw": false
              },
              "mode": "immediate",
              "transition": {
               "duration": 0
              }
             }
            ],
            "label": "39",
            "method": "animate"
           },
           {
            "args": [
             [
              40
             ],
             {
              "frame": {
               "duration": 100,
               "redraw": false
              },
              "mode": "immediate",
              "transition": {
               "duration": 0
              }
             }
            ],
            "label": "40",
            "method": "animate"
           },
           {
            "args": [
             [
              41
             ],
             {
              "frame": {
               "duration": 100,
               "redraw": false
              },
              "mode": "immediate",
              "transition": {
               "duration": 0
              }
             }
            ],
            "label": "41",
            "method": "animate"
           },
           {
            "args": [
             [
              42
             ],
             {
              "frame": {
               "duration": 100,
               "redraw": false
              },
              "mode": "immediate",
              "transition": {
               "duration": 0
              }
             }
            ],
            "label": "42",
            "method": "animate"
           },
           {
            "args": [
             [
              43
             ],
             {
              "frame": {
               "duration": 100,
               "redraw": false
              },
              "mode": "immediate",
              "transition": {
               "duration": 0
              }
             }
            ],
            "label": "43",
            "method": "animate"
           }
          ],
          "transition": {
           "duration": 300,
           "easing": "cubic-in-out"
          },
          "x": 0.1,
          "xanchor": "left",
          "y": 0,
          "yanchor": "top"
         }
        ],
        "template": {
         "data": {
          "bar": [
           {
            "error_x": {
             "color": "#2a3f5f"
            },
            "error_y": {
             "color": "#2a3f5f"
            },
            "marker": {
             "line": {
              "color": "#E5ECF6",
              "width": 0.5
             },
             "pattern": {
              "fillmode": "overlay",
              "size": 10,
              "solidity": 0.2
             }
            },
            "type": "bar"
           }
          ],
          "barpolar": [
           {
            "marker": {
             "line": {
              "color": "#E5ECF6",
              "width": 0.5
             },
             "pattern": {
              "fillmode": "overlay",
              "size": 10,
              "solidity": 0.2
             }
            },
            "type": "barpolar"
           }
          ],
          "carpet": [
           {
            "aaxis": {
             "endlinecolor": "#2a3f5f",
             "gridcolor": "white",
             "linecolor": "white",
             "minorgridcolor": "white",
             "startlinecolor": "#2a3f5f"
            },
            "baxis": {
             "endlinecolor": "#2a3f5f",
             "gridcolor": "white",
             "linecolor": "white",
             "minorgridcolor": "white",
             "startlinecolor": "#2a3f5f"
            },
            "type": "carpet"
           }
          ],
          "choropleth": [
           {
            "colorbar": {
             "outlinewidth": 0,
             "ticks": ""
            },
            "type": "choropleth"
           }
          ],
          "contour": [
           {
            "colorbar": {
             "outlinewidth": 0,
             "ticks": ""
            },
            "colorscale": [
             [
              0,
              "#0d0887"
             ],
             [
              0.1111111111111111,
              "#46039f"
             ],
             [
              0.2222222222222222,
              "#7201a8"
             ],
             [
              0.3333333333333333,
              "#9c179e"
             ],
             [
              0.4444444444444444,
              "#bd3786"
             ],
             [
              0.5555555555555556,
              "#d8576b"
             ],
             [
              0.6666666666666666,
              "#ed7953"
             ],
             [
              0.7777777777777778,
              "#fb9f3a"
             ],
             [
              0.8888888888888888,
              "#fdca26"
             ],
             [
              1,
              "#f0f921"
             ]
            ],
            "type": "contour"
           }
          ],
          "contourcarpet": [
           {
            "colorbar": {
             "outlinewidth": 0,
             "ticks": ""
            },
            "type": "contourcarpet"
           }
          ],
          "heatmap": [
           {
            "colorbar": {
             "outlinewidth": 0,
             "ticks": ""
            },
            "colorscale": [
             [
              0,
              "#0d0887"
             ],
             [
              0.1111111111111111,
              "#46039f"
             ],
             [
              0.2222222222222222,
              "#7201a8"
             ],
             [
              0.3333333333333333,
              "#9c179e"
             ],
             [
              0.4444444444444444,
              "#bd3786"
             ],
             [
              0.5555555555555556,
              "#d8576b"
             ],
             [
              0.6666666666666666,
              "#ed7953"
             ],
             [
              0.7777777777777778,
              "#fb9f3a"
             ],
             [
              0.8888888888888888,
              "#fdca26"
             ],
             [
              1,
              "#f0f921"
             ]
            ],
            "type": "heatmap"
           }
          ],
          "heatmapgl": [
           {
            "colorbar": {
             "outlinewidth": 0,
             "ticks": ""
            },
            "colorscale": [
             [
              0,
              "#0d0887"
             ],
             [
              0.1111111111111111,
              "#46039f"
             ],
             [
              0.2222222222222222,
              "#7201a8"
             ],
             [
              0.3333333333333333,
              "#9c179e"
             ],
             [
              0.4444444444444444,
              "#bd3786"
             ],
             [
              0.5555555555555556,
              "#d8576b"
             ],
             [
              0.6666666666666666,
              "#ed7953"
             ],
             [
              0.7777777777777778,
              "#fb9f3a"
             ],
             [
              0.8888888888888888,
              "#fdca26"
             ],
             [
              1,
              "#f0f921"
             ]
            ],
            "type": "heatmapgl"
           }
          ],
          "histogram": [
           {
            "marker": {
             "pattern": {
              "fillmode": "overlay",
              "size": 10,
              "solidity": 0.2
             }
            },
            "type": "histogram"
           }
          ],
          "histogram2d": [
           {
            "colorbar": {
             "outlinewidth": 0,
             "ticks": ""
            },
            "colorscale": [
             [
              0,
              "#0d0887"
             ],
             [
              0.1111111111111111,
              "#46039f"
             ],
             [
              0.2222222222222222,
              "#7201a8"
             ],
             [
              0.3333333333333333,
              "#9c179e"
             ],
             [
              0.4444444444444444,
              "#bd3786"
             ],
             [
              0.5555555555555556,
              "#d8576b"
             ],
             [
              0.6666666666666666,
              "#ed7953"
             ],
             [
              0.7777777777777778,
              "#fb9f3a"
             ],
             [
              0.8888888888888888,
              "#fdca26"
             ],
             [
              1,
              "#f0f921"
             ]
            ],
            "type": "histogram2d"
           }
          ],
          "histogram2dcontour": [
           {
            "colorbar": {
             "outlinewidth": 0,
             "ticks": ""
            },
            "colorscale": [
             [
              0,
              "#0d0887"
             ],
             [
              0.1111111111111111,
              "#46039f"
             ],
             [
              0.2222222222222222,
              "#7201a8"
             ],
             [
              0.3333333333333333,
              "#9c179e"
             ],
             [
              0.4444444444444444,
              "#bd3786"
             ],
             [
              0.5555555555555556,
              "#d8576b"
             ],
             [
              0.6666666666666666,
              "#ed7953"
             ],
             [
              0.7777777777777778,
              "#fb9f3a"
             ],
             [
              0.8888888888888888,
              "#fdca26"
             ],
             [
              1,
              "#f0f921"
             ]
            ],
            "type": "histogram2dcontour"
           }
          ],
          "mesh3d": [
           {
            "colorbar": {
             "outlinewidth": 0,
             "ticks": ""
            },
            "type": "mesh3d"
           }
          ],
          "parcoords": [
           {
            "line": {
             "colorbar": {
              "outlinewidth": 0,
              "ticks": ""
             }
            },
            "type": "parcoords"
           }
          ],
          "pie": [
           {
            "automargin": true,
            "type": "pie"
           }
          ],
          "scatter": [
           {
            "fillpattern": {
             "fillmode": "overlay",
             "size": 10,
             "solidity": 0.2
            },
            "type": "scatter"
           }
          ],
          "scatter3d": [
           {
            "line": {
             "colorbar": {
              "outlinewidth": 0,
              "ticks": ""
             }
            },
            "marker": {
             "colorbar": {
              "outlinewidth": 0,
              "ticks": ""
             }
            },
            "type": "scatter3d"
           }
          ],
          "scattercarpet": [
           {
            "marker": {
             "colorbar": {
              "outlinewidth": 0,
              "ticks": ""
             }
            },
            "type": "scattercarpet"
           }
          ],
          "scattergeo": [
           {
            "marker": {
             "colorbar": {
              "outlinewidth": 0,
              "ticks": ""
             }
            },
            "type": "scattergeo"
           }
          ],
          "scattergl": [
           {
            "marker": {
             "colorbar": {
              "outlinewidth": 0,
              "ticks": ""
             }
            },
            "type": "scattergl"
           }
          ],
          "scattermapbox": [
           {
            "marker": {
             "colorbar": {
              "outlinewidth": 0,
              "ticks": ""
             }
            },
            "type": "scattermapbox"
           }
          ],
          "scatterpolar": [
           {
            "marker": {
             "colorbar": {
              "outlinewidth": 0,
              "ticks": ""
             }
            },
            "type": "scatterpolar"
           }
          ],
          "scatterpolargl": [
           {
            "marker": {
             "colorbar": {
              "outlinewidth": 0,
              "ticks": ""
             }
            },
            "type": "scatterpolargl"
           }
          ],
          "scatterternary": [
           {
            "marker": {
             "colorbar": {
              "outlinewidth": 0,
              "ticks": ""
             }
            },
            "type": "scatterternary"
           }
          ],
          "surface": [
           {
            "colorbar": {
             "outlinewidth": 0,
             "ticks": ""
            },
            "colorscale": [
             [
              0,
              "#0d0887"
             ],
             [
              0.1111111111111111,
              "#46039f"
             ],
             [
              0.2222222222222222,
              "#7201a8"
             ],
             [
              0.3333333333333333,
              "#9c179e"
             ],
             [
              0.4444444444444444,
              "#bd3786"
             ],
             [
              0.5555555555555556,
              "#d8576b"
             ],
             [
              0.6666666666666666,
              "#ed7953"
             ],
             [
              0.7777777777777778,
              "#fb9f3a"
             ],
             [
              0.8888888888888888,
              "#fdca26"
             ],
             [
              1,
              "#f0f921"
             ]
            ],
            "type": "surface"
           }
          ],
          "table": [
           {
            "cells": {
             "fill": {
              "color": "#EBF0F8"
             },
             "line": {
              "color": "white"
             }
            },
            "header": {
             "fill": {
              "color": "#C8D4E3"
             },
             "line": {
              "color": "white"
             }
            },
            "type": "table"
           }
          ]
         },
         "layout": {
          "annotationdefaults": {
           "arrowcolor": "#2a3f5f",
           "arrowhead": 0,
           "arrowwidth": 1
          },
          "autotypenumbers": "strict",
          "coloraxis": {
           "colorbar": {
            "outlinewidth": 0,
            "ticks": ""
           }
          },
          "colorscale": {
           "diverging": [
            [
             0,
             "#8e0152"
            ],
            [
             0.1,
             "#c51b7d"
            ],
            [
             0.2,
             "#de77ae"
            ],
            [
             0.3,
             "#f1b6da"
            ],
            [
             0.4,
             "#fde0ef"
            ],
            [
             0.5,
             "#f7f7f7"
            ],
            [
             0.6,
             "#e6f5d0"
            ],
            [
             0.7,
             "#b8e186"
            ],
            [
             0.8,
             "#7fbc41"
            ],
            [
             0.9,
             "#4d9221"
            ],
            [
             1,
             "#276419"
            ]
           ],
           "sequential": [
            [
             0,
             "#0d0887"
            ],
            [
             0.1111111111111111,
             "#46039f"
            ],
            [
             0.2222222222222222,
             "#7201a8"
            ],
            [
             0.3333333333333333,
             "#9c179e"
            ],
            [
             0.4444444444444444,
             "#bd3786"
            ],
            [
             0.5555555555555556,
             "#d8576b"
            ],
            [
             0.6666666666666666,
             "#ed7953"
            ],
            [
             0.7777777777777778,
             "#fb9f3a"
            ],
            [
             0.8888888888888888,
             "#fdca26"
            ],
            [
             1,
             "#f0f921"
            ]
           ],
           "sequentialminus": [
            [
             0,
             "#0d0887"
            ],
            [
             0.1111111111111111,
             "#46039f"
            ],
            [
             0.2222222222222222,
             "#7201a8"
            ],
            [
             0.3333333333333333,
             "#9c179e"
            ],
            [
             0.4444444444444444,
             "#bd3786"
            ],
            [
             0.5555555555555556,
             "#d8576b"
            ],
            [
             0.6666666666666666,
             "#ed7953"
            ],
            [
             0.7777777777777778,
             "#fb9f3a"
            ],
            [
             0.8888888888888888,
             "#fdca26"
            ],
            [
             1,
             "#f0f921"
            ]
           ]
          },
          "colorway": [
           "#636efa",
           "#EF553B",
           "#00cc96",
           "#ab63fa",
           "#FFA15A",
           "#19d3f3",
           "#FF6692",
           "#B6E880",
           "#FF97FF",
           "#FECB52"
          ],
          "font": {
           "color": "#2a3f5f"
          },
          "geo": {
           "bgcolor": "white",
           "lakecolor": "white",
           "landcolor": "#E5ECF6",
           "showlakes": true,
           "showland": true,
           "subunitcolor": "white"
          },
          "hoverlabel": {
           "align": "left"
          },
          "hovermode": "closest",
          "mapbox": {
           "style": "light"
          },
          "paper_bgcolor": "white",
          "plot_bgcolor": "#E5ECF6",
          "polar": {
           "angularaxis": {
            "gridcolor": "white",
            "linecolor": "white",
            "ticks": ""
           },
           "bgcolor": "#E5ECF6",
           "radialaxis": {
            "gridcolor": "white",
            "linecolor": "white",
            "ticks": ""
           }
          },
          "scene": {
           "xaxis": {
            "backgroundcolor": "#E5ECF6",
            "gridcolor": "white",
            "gridwidth": 2,
            "linecolor": "white",
            "showbackground": true,
            "ticks": "",
            "zerolinecolor": "white"
           },
           "yaxis": {
            "backgroundcolor": "#E5ECF6",
            "gridcolor": "white",
            "gridwidth": 2,
            "linecolor": "white",
            "showbackground": true,
            "ticks": "",
            "zerolinecolor": "white"
           },
           "zaxis": {
            "backgroundcolor": "#E5ECF6",
            "gridcolor": "white",
            "gridwidth": 2,
            "linecolor": "white",
            "showbackground": true,
            "ticks": "",
            "zerolinecolor": "white"
           }
          },
          "shapedefaults": {
           "line": {
            "color": "#2a3f5f"
           }
          },
          "ternary": {
           "aaxis": {
            "gridcolor": "white",
            "linecolor": "white",
            "ticks": ""
           },
           "baxis": {
            "gridcolor": "white",
            "linecolor": "white",
            "ticks": ""
           },
           "bgcolor": "#E5ECF6",
           "caxis": {
            "gridcolor": "white",
            "linecolor": "white",
            "ticks": ""
           }
          },
          "title": {
           "x": 0.05
          },
          "xaxis": {
           "automargin": true,
           "gridcolor": "white",
           "linecolor": "white",
           "ticks": "",
           "title": {
            "standoff": 15
           },
           "zerolinecolor": "white",
           "zerolinewidth": 2
          },
          "yaxis": {
           "automargin": true,
           "gridcolor": "white",
           "linecolor": "white",
           "ticks": "",
           "title": {
            "standoff": 15
           },
           "zerolinecolor": "white",
           "zerolinewidth": 2
          }
         }
        },
        "title": {
         "text": "GameId: 2021090900, PlayId: 97<br>13:33 1Q"
        },
        "updatemenus": [
         {
          "buttons": [
           {
            "args": [
             null,
             {
              "frame": {
               "duration": 100,
               "redraw": false
              },
              "fromcurrent": true,
              "transition": {
               "duration": 0
              }
             }
            ],
            "label": "Play",
            "method": "animate"
           },
           {
            "args": [
             [
              null
             ],
             {
              "frame": {
               "duration": 0,
               "redraw": false
              },
              "mode": "immediate",
              "transition": {
               "duration": 0
              }
             }
            ],
            "label": "Pause",
            "method": "animate"
           }
          ],
          "direction": "left",
          "pad": {
           "r": 10,
           "t": 87
          },
          "showactive": false,
          "type": "buttons",
          "x": 0.1,
          "xanchor": "right",
          "y": 0,
          "yanchor": "top"
         }
        ],
        "width": 1080,
        "xaxis": {
         "autorange": false,
         "range": [
          0,
          120
         ],
         "showticklabels": false,
         "tickmode": "array",
         "tickvals": [
          10,
          15,
          20,
          25,
          30,
          35,
          40,
          45,
          50,
          55,
          60,
          65,
          70,
          75,
          80,
          85,
          90,
          95,
          100,
          105,
          110
         ]
        },
        "yaxis": {
         "autorange": false,
         "range": [
          0,
          53.3
         ],
         "showgrid": false,
         "showticklabels": false
        }
       }
      }
     },
     "metadata": {},
     "output_type": "display_data"
    }
   ],
   "source": [
    "animate_play(df_tracking,df_play,df_players,df_pffScoutingData,2021090900,97).show()"
   ]
  }
 ],
 "metadata": {
  "kernelspec": {
   "display_name": "Python 3.8.9 64-bit",
   "language": "python",
   "name": "python3"
  },
  "language_info": {
   "codemirror_mode": {
    "name": "ipython",
    "version": 3
   },
   "file_extension": ".py",
   "mimetype": "text/x-python",
   "name": "python",
   "nbconvert_exporter": "python",
   "pygments_lexer": "ipython3",
   "version": "3.8.9"
  },
  "orig_nbformat": 4,
  "vscode": {
   "interpreter": {
    "hash": "31f2aee4e71d21fbe5cf8b01ff0e069b9275f58929596ceb00d14d90e3e16cd6"
   }
  }
 },
 "nbformat": 4,
 "nbformat_minor": 2
}
