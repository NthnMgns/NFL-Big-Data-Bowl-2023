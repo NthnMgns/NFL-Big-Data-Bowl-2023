{
 "cells": [
  {
   "cell_type": "code",
   "execution_count": 1,
   "metadata": {},
   "outputs": [],
   "source": [
    "import pandas as pd \n",
    "import os \n",
    "import sys\n",
    "\n",
    "sys.path.insert(0, os.getcwd() + '/code')\n",
    "from viz import *\n",
    "from helper_functions import * "
   ]
  },
  {
   "cell_type": "code",
   "execution_count": 2,
   "metadata": {},
   "outputs": [],
   "source": [
    "df_game = pd.read_csv(\"data/games.csv\")\n",
    "df_tracking = pd.read_csv(\"data/week1.csv\")\n",
    "df_tracking = compute_orientation(df_tracking)\n",
    "df_play = pd.read_csv(\"data/plays.csv\")\n",
    "df_players = pd.read_csv(\"data/players.csv\")\n",
    "df_pffScoutingData = pd.read_csv(\"data/pffScoutingData.csv\")"
   ]
  },
  {
   "cell_type": "code",
   "execution_count": 3,
   "metadata": {},
   "outputs": [],
   "source": [
    "animate_play(df_tracking,df_play,df_players,df_pffScoutingData,2021090900,97, displayZone=True).show()"
   ]
  }
 ],
 "metadata": {
  "kernelspec": {
   "display_name": "Python 3.8.9 64-bit",
   "language": "python",
   "name": "python3"
  },
  "language_info": {
   "codemirror_mode": {
    "name": "ipython",
    "version": 3
   },
   "file_extension": ".py",
   "mimetype": "text/x-python",
   "name": "python",
   "nbconvert_exporter": "python",
   "pygments_lexer": "ipython3",
   "version": "3.8.9"
  },
  "orig_nbformat": 4,
  "vscode": {
   "interpreter": {
    "hash": "31f2aee4e71d21fbe5cf8b01ff0e069b9275f58929596ceb00d14d90e3e16cd6"
   }
  }
 },
 "nbformat": 4,
 "nbformat_minor": 2
}
