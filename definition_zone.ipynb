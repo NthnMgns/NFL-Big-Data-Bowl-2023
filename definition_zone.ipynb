{
 "cells": [
  {
   "cell_type": "code",
   "execution_count": 1,
   "metadata": {},
   "outputs": [],
   "source": [
    "import pandas as pd \n",
    "import os \n",
    "import sys\n",
    "\n",
    "sys.path.insert(0, os.getcwd() + '/code')\n",
    "from viz import animate_play\n",
    "from helper_functions import compute_orientation, face2face"
   ]
  },
  {
   "cell_type": "code",
   "execution_count": 2,
   "metadata": {},
   "outputs": [],
   "source": [
    "df_game = pd.read_csv(\"data/games.csv\")\n",
    "df_tracking = pd.read_csv(\"data/week1.csv\")\n",
    "df_play = pd.read_csv(\"data/plays.csv\")\n",
    "df_players = pd.read_csv(\"data/players.csv\")\n",
    "df_pffScoutingData = pd.read_csv(\"data/pffScoutingData.csv\")"
   ]
  },
  {
   "cell_type": "code",
   "execution_count": 3,
   "metadata": {},
   "outputs": [
    {
     "name": "stdout",
     "output_type": "stream",
     "text": [
      "       gameId  playId    nflId  frameId                     time  \\\n",
      "0  2021090900      97  25511.0        1  2021-09-10T00:26:31.100   \n",
      "1  2021090900      97  25511.0        2  2021-09-10T00:26:31.200   \n",
      "2  2021090900      97  25511.0        3  2021-09-10T00:26:31.300   \n",
      "3  2021090900      97  25511.0        4  2021-09-10T00:26:31.400   \n",
      "4  2021090900      97  25511.0        5  2021-09-10T00:26:31.500   \n",
      "\n",
      "   jerseyNumber team playDirection      x      y     s     a   dis       o  \\\n",
      "0          12.0   TB         right  37.77  24.22  0.29  0.30  0.03  165.16   \n",
      "1          12.0   TB         right  37.78  24.22  0.23  0.11  0.02  164.33   \n",
      "2          12.0   TB         right  37.78  24.24  0.16  0.10  0.01  160.24   \n",
      "3          12.0   TB         right  37.73  24.25  0.15  0.24  0.06  152.13   \n",
      "4          12.0   TB         right  37.69  24.26  0.25  0.18  0.04  148.33   \n",
      "\n",
      "      dir event       o_x       o_y  \n",
      "0   84.99  None  0.256121 -0.966645  \n",
      "1   92.87  None  0.270096 -0.962833  \n",
      "2   68.55  None  0.338081 -0.941117  \n",
      "3  296.85  None  0.467467 -0.884011  \n",
      "4  287.55  None  0.525026 -0.851086  \n"
     ]
    }
   ],
   "source": [
    "df_tracking = compute_orientation(df_tracking)\n",
    "print(df_tracking.head())"
   ]
  },
  {
   "cell_type": "code",
   "execution_count": 4,
   "metadata": {},
   "outputs": [],
   "source": [
    "animate_play(df_tracking,df_play,df_players,df_pffScoutingData,\n",
    "                2021090900,\n",
    "                97,\n",
    "                displayZone = True,\n",
    "                displayOrientations = True).show()"
   ]
  },
  {
   "cell_type": "code",
   "execution_count": 4,
   "metadata": {},
   "outputs": [
    {
     "name": "stderr",
     "output_type": "stream",
     "text": [
      "/Users/nmiguens/Library/Python/3.8/lib/python/site-packages/descartes/patch.py:63: ShapelyDeprecationWarning:\n",
      "\n",
      "The array interface is deprecated and will no longer work in Shapely 2.0. Convert the '.coords' to a numpy array instead.\n",
      "\n",
      "/Users/nmiguens/Library/Python/3.8/lib/python/site-packages/descartes/patch.py:63: ShapelyDeprecationWarning:\n",
      "\n",
      "The array interface is deprecated and will no longer work in Shapely 2.0. Convert the '.coords' to a numpy array instead.\n",
      "\n"
     ]
    },
    {
     "data": {
      "image/png": "[encoded data removed]",
      "text/plain": [
       "<Figure size 432x288 with 1 Axes>"
      ]
     },
     "metadata": {
      "needs_background": "light"
     },
     "output_type": "display_data"
    }
   ],
   "source": [
    "from geovoronoi import voronoi_regions_from_coords, points_to_coords\n",
    "import numpy as np \n",
    "from shapely.geometry import Polygon\n",
    "from scipy.spatial import Voronoi, ConvexHull\n",
    "\n",
    "boundary = np.array([[41.55, 26.89],\n",
    " [37.77, 26.89],\n",
    " [37.77, 21.36],\n",
    " [41.15, 21.36],\n",
    " [42.18, 23.97],\n",
    " [41.95, 25.66]]\n",
    ")\n",
    "\n",
    "region_polys, region_pts = voronoi_regions_from_coords(np.array([[40.395, 24.355],[41.395, 24.355], [41.395, 25.355]]), Polygon(boundary))\n",
    "\n",
    "import matplotlib.pyplot as plt\n",
    "from geovoronoi.plotting import subplot_for_map, plot_voronoi_polys_with_points_in_area\n",
    "\n",
    "fig, ax = subplot_for_map()\n",
    "plot_voronoi_polys_with_points_in_area(ax, Polygon(boundary), region_polys, np.array([[36.395, 24.355],[41.395, 24.355], [45.395, 25.355]]), region_pts)\n",
    "plt.show()"
   ]
  },
  {
   "cell_type": "code",
   "execution_count": 5,
   "metadata": {},
   "outputs": [
    {
     "name": "stdout",
     "output_type": "stream",
     "text": [
      "(array('d', [41.95, 42.00133135503363, 42.00138547702126, 42.18, 42.05955621301775, 40.895, 38.86, 39.25274111282844, 41.55, 41.95]), array('d', [25.66, 25.2828261304051, 25.282428451452514, 23.97, 24.855, 24.855, 26.89, 26.89, 26.89, 25.66]))\n",
      "(array('d', [42.05955621301775, 42.18, 41.17596740688817, 41.15, 41.14609041501976, 40.895, 40.895, 42.05955621301775]), array('d', [24.855, 23.97, 21.425800904833125, 21.36, 21.36, 21.36, 24.855, 24.855]))\n",
      "(array('d', [37.77, 38.522666666666666, 38.86, 40.895, 40.895, 40.67933333333334, 37.77, 37.77]), array('d', [26.89, 26.89, 26.89, 24.855, 21.36, 21.36, 21.36, 26.89]))\n"
     ]
    }
   ],
   "source": [
    "for i in region_polys.values() :\n",
    "    print(i.exterior.xy)"
   ]
  }
 ],
 "metadata": {
  "kernelspec": {
   "display_name": "Python 3.9.13 ('base')",
   "language": "python",
   "name": "python3"
  },
  "language_info": {
   "codemirror_mode": {
    "name": "ipython",
    "version": 3
   },
   "file_extension": ".py",
   "mimetype": "text/x-python",
   "name": "python",
   "nbconvert_exporter": "python",
   "pygments_lexer": "ipython3",
   "version": "3.9.13"
  },
  "orig_nbformat": 4,
  "vscode": {
   "interpreter": {
    "hash": "637840f8cdf645a68612c9b8a0ce367bca1cd67e3939fcc1f9978e1427999ab1"
   }
  }
 },
 "nbformat": 4,
 "nbformat_minor": 2
}
