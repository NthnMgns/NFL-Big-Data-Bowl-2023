{
 "cells": [
  {
   "cell_type": "code",
   "execution_count": 1,
   "metadata": {},
   "outputs": [],
   "source": [
    "import pandas as pd \n",
    "import matplotlib.pyplot as plt \n",
    "import os \n",
    "import sys\n",
    "from tqdm import tqdm\n",
    "sys.path.insert(0, os.getcwd() + '/code')\n",
    "from viz import *\n",
    "from helper_functions import * "
   ]
  },
  {
   "cell_type": "code",
   "execution_count": 3,
   "metadata": {},
   "outputs": [],
   "source": [
    "df_game = pd.read_csv(\"data/games.csv\")\n",
    "df_tracking = pd.read_csv(\"data/week1.csv\")\n",
    "df_tracking = compute_orientation(df_tracking)\n",
    "df_play = pd.read_csv(\"data/plays.csv\")\n",
    "df_players = pd.read_csv(\"data/players.csv\")\n",
    "df_pffScoutingData = pd.read_csv(\"data/pffScoutingData.csv\")"
   ]
  },
  {
   "cell_type": "code",
   "execution_count": 11,
   "metadata": {},
   "outputs": [],
   "source": [
    "animate_play(df_tracking,df_play,df_players,df_pffScoutingData,2021090900, 2330, displayZone=True, displayOrientations=False).show()"
   ]
  },
  {
   "cell_type": "code",
   "execution_count": null,
   "metadata": {},
   "outputs": [],
   "source": [
    "gameId = 2021090900\n",
    "playId = 97\n",
    "\n",
    "playIds = df_play[df_play.gameId==gameId].playId.unique()\n",
    "playIds.sort()\n",
    "for playId in playIds[:5]:\n",
    "    selected_play_df = df_play[(df_play.playId==playId)&(df_play.gameId==gameId)].copy()    \n",
    "    tracking_players_df = pd.merge(df_tracking,df_players,how=\"left\",on = \"nflId\")\n",
    "    tracking_players_df = pd.merge(tracking_players_df,df_pffScoutingData,how=\"left\",on = [\"nflId\",\"playId\",\"gameId\"])\n",
    "    selected_tracking_df = tracking_players_df[(tracking_players_df.playId==playId)&(tracking_players_df.gameId==gameId)].copy()\n",
    "    selected_tracking_df = beaten_by_defender(gameId, playId, df_pffScoutingData, selected_tracking_df, seuil = 0.5)\n",
    "\n",
    "\n",
    "    sorted_frame_list = selected_tracking_df.frameId.unique()\n",
    "    sorted_frame_list.sort()\n",
    "    if selected_play_df.empty :\n",
    "        print(playId)\n",
    "        continue\n",
    "    line_of_scrimmage = selected_play_df.absoluteYardlineNumber.values[0]\n",
    "    playDescription = selected_play_df.playDescription.values[0]\n",
    "    print(f\" PlayId : {playId} - {playDescription}\")\n",
    "    aire_t = list()\n",
    "    if 'pass_forward' in selected_tracking_df.event.unique():\n",
    "        eventFrame = selected_tracking_df[selected_tracking_df.event == 'pass_forward'].iloc[0].frameId\n",
    "    else :\n",
    "        eventFrame = 1000\n",
    "    for frameId in sorted_frame_list:\n",
    "        #if eventFrame == frameId :\n",
    "        #    break\n",
    "        selected_frame_df = selected_tracking_df[selected_tracking_df.frameId == frameId]\n",
    "        offensive_points = get_Oline_position(selected_frame_df)\n",
    "        defensive_points = get_Dline_position(selected_frame_df)\n",
    "        QB_zone = calculate_Oline_zones(offensive_points, line_of_scrimmage)\n",
    "        region_polys, region_pts, players_points = calculate_voronoi_zones(QB_zone, offensive_points, defensive_points)\n",
    "        aire_t.append(pocketArea(region_polys, region_pts, players_points))\n",
    "\n",
    "    plt.plot(aire_t)\n",
    "    plt.vlines(eventFrame, 0, np.max(aire_t), color = 'black', linestyles='--',)\n",
    "    plt.show()\n",
    "    "
   ]
  },
  {
   "cell_type": "code",
   "execution_count": null,
   "metadata": {},
   "outputs": [],
   "source": [
    "gameId = 2021090900\n",
    "\n",
    "playIds = df_play[df_play.gameId==gameId].playId.unique()\n",
    "playIds.sort()\n",
    "for playId in tqdm(playIds):\n",
    "    selected_play_df = df_play[(df_play.playId==playId)&(df_play.gameId==gameId)].copy()  \n",
    "    if 'SCRAMBLE' in selected_play_df.dropBackType.unique():  \n",
    "        tracking_players_df = pd.merge(df_tracking,df_players,how=\"left\",on = \"nflId\")\n",
    "        tracking_players_df = pd.merge(tracking_players_df,df_pffScoutingData,how=\"left\",on = [\"nflId\",\"playId\",\"gameId\"])\n",
    "        selected_tracking_df = tracking_players_df[(tracking_players_df.playId==playId)&(tracking_players_df.gameId==gameId)].copy()\n",
    "        selected_tracking_df = tracking_players_df[(tracking_players_df.playId==playId)&(tracking_players_df.gameId==gameId)].copy()\n",
    "        selected_tracking_df = beaten_by_defender(gameId, playId, df_pffScoutingData, selected_tracking_df, seuil = 0.5)\n",
    "\n",
    "        sorted_frame_list = selected_tracking_df.frameId.unique()\n",
    "        sorted_frame_list.sort()\n",
    "        if selected_play_df.empty :\n",
    "            print(playId)\n",
    "            continue\n",
    "        line_of_scrimmage = selected_play_df.absoluteYardlineNumber.values[0]\n",
    "        playDescription = selected_play_df.playDescription.values[0]\n",
    "        print(f\" PlayId : {playId} - {playDescription}\")\n",
    "\n",
    "        QB_dis_list = list(selected_tracking_df[selected_tracking_df.officialPosition == \"QB\"].dis)\n",
    "        QB_dis_covered = [QB_dis_list[0]] + [np.sum(QB_dis_list[:k]) for k in range(1,len(QB_dis_list))]\n",
    "        aire_t = list()\n",
    "\n",
    "        for frameId in sorted_frame_list:\n",
    "            #if eventFrame == frameId :\n",
    "            #    break\n",
    "            selected_frame_df = selected_tracking_df[selected_tracking_df.frameId == frameId]\n",
    "            offensive_points = get_Oline_position(selected_frame_df)\n",
    "            defensive_points = get_Dline_position(selected_frame_df)\n",
    "            QB_zone = calculate_Oline_zones(offensive_points, line_of_scrimmage)\n",
    "            region_polys, region_pts, players_points = calculate_voronoi_zones(QB_zone, offensive_points, defensive_points)\n",
    "            aire_t.append(pocketArea(region_polys, region_pts, players_points))\n",
    "        fig, ax = plt.subplots(2,1, figsize=(7,14))\n",
    "        ax[0].plot(sorted_frame_list, aire_t)\n",
    "        \n",
    "        if 'pass_forward' in selected_tracking_df.event.unique():\n",
    "            eventFrame = selected_tracking_df[selected_tracking_df.event == 'pass_forward'].iloc[0].frameId\n",
    "            ax[0].vlines(eventFrame, 0, np.max(aire_t), color = 'black', linestyles='--',)\n",
    "        else :\n",
    "            eventFrame = 1000\n",
    "        ax[1].plot(sorted_frame_list, QB_dis_covered, color = 'red')\n",
    "        plt.show()\n",
    "    "
   ]
  },
  {
   "cell_type": "code",
   "execution_count": null,
   "metadata": {},
   "outputs": [],
   "source": [
    "print(f'Total n° of plays : {len(df_play)}')\n",
    "scramble_mask = \"'SCRAMBLE' in dropBackType | 'SCRAMBLE_ROLLOUT_RIGHT' in dropBackType | 'SCRAMBLE_ROLLOUT_LEFT' in dropBackType\"\n",
    "scramble_plays = df_play.query(scramble_mask)#[[\"gameId\",\"playId\",\"dropBackType\"]]\n",
    "print(f'n° of scramble plays : {len(scramble_plays)}')\n",
    "for scramble_id in tqdm(range(len(scramble_plays))):\n",
    "\n",
    "    scramble_play = scramble_plays.iloc[scramble_id].playId\n",
    "    scramble_game = scramble_plays.iloc[scramble_id].gameId\n",
    "\n",
    "    selected_play_df = df_play[(df_play.playId==scramble_play)&(df_play.gameId==scramble_game)].copy()  \n",
    "    tracking_players_df = pd.merge(df_tracking,df_players,how=\"left\",on = \"nflId\")\n",
    "    tracking_players_df = pd.merge(tracking_players_df,df_pffScoutingData,how=\"left\",on = [\"nflId\",\"playId\",\"gameId\"])\n",
    "    selected_tracking_df = tracking_players_df[(tracking_players_df.playId==scramble_play)&(tracking_players_df.gameId==scramble_game)].copy()\n",
    "    selected_tracking_df = beaten_by_defender(scramble_game, scramble_play , df_pffScoutingData, selected_tracking_df, seuil = 0.5)\n",
    "    selected_tracking_df = scramble(scramble_game, scramble_play , df_pffScoutingData, selected_tracking_df, seuil = 0.5)\n",
    "    sorted_frame_list = selected_tracking_df.frameId.unique()\n",
    "    sorted_frame_list.sort()\n",
    "    if selected_play_df.empty :\n",
    "        print(playId)\n",
    "        continue\n",
    "    line_of_scrimmage = selected_play_df.absoluteYardlineNumber.values[0]\n",
    "    playDescription = selected_play_df.playDescription.values[0]\n",
    "    print(f\" PlayId : {scramble_game} - {scramble_play} - {playDescription}\")\n",
    "\n",
    "    QB_dis_list = list(selected_tracking_df[selected_tracking_df.officialPosition == \"QB\"].dis)\n",
    "    QB_dis_covered = [QB_dis_list[0]] + [np.sum(QB_dis_list[:k]) for k in range(1,len(QB_dis_list))]\n",
    "    aire_t = list()\n",
    "\n",
    "    for frameId in sorted_frame_list:\n",
    "        #if eventFrame == frameId :\n",
    "        #    break\n",
    "        selected_frame_df = selected_tracking_df[selected_tracking_df.frameId == frameId]\n",
    "        offensive_points = get_Oline_position(selected_frame_df)\n",
    "        defensive_points = get_Dline_position(selected_frame_df)\n",
    "        QB_zone = calculate_Oline_zones(offensive_points, line_of_scrimmage)\n",
    "        region_polys, region_pts, players_points = calculate_voronoi_zones(QB_zone, offensive_points, defensive_points)\n",
    "        aire_t.append(pocketArea(region_polys, region_pts, players_points))\n",
    "    aire_min_during_scramble = np.min(aire_t)\n",
    "    scramble_plays.loc[scramble_id, 'scrambleArea'] = aire_min_during_scramble\n",
    "#print(scramble_plays[['gameId','playId','scrambleArea']])\n",
    "\n",
    "    plt.plot(sorted_frame_list, aire_t)\n",
    "\n",
    "    if 'pass_forward' in selected_tracking_df.event.unique():\n",
    "        eventFrame = selected_tracking_df[selected_tracking_df.event == 'pass_forward'].iloc[0].frameId\n",
    "        plt.vlines(eventFrame, 0, np.max(aire_t), color = 'black', linestyles='--',)\n",
    "    else :\n",
    "        eventFrame = 1000\n",
    "    plt.show()\n"
   ]
  },
  {
   "cell_type": "code",
   "execution_count": 7,
   "metadata": {},
   "outputs": [
    {
     "name": "stderr",
     "output_type": "stream",
     "text": [
      "  0%|          | 0/5 [00:00<?, ?it/s]"
     ]
    },
    {
     "name": "stdout",
     "output_type": "stream",
     "text": [
      "97\n",
      "2021090900\n"
     ]
    },
    {
     "name": "stderr",
     "output_type": "stream",
     "text": [
      " 20%|██        | 1/5 [00:02<00:10,  2.74s/it]"
     ]
    },
    {
     "name": "stdout",
     "output_type": "stream",
     "text": [
      "137\n",
      "2021090900\n"
     ]
    },
    {
     "name": "stderr",
     "output_type": "stream",
     "text": [
      " 40%|████      | 2/5 [00:05<00:07,  2.61s/it]"
     ]
    },
    {
     "name": "stdout",
     "output_type": "stream",
     "text": [
      "187\n",
      "2021090900\n"
     ]
    },
    {
     "name": "stderr",
     "output_type": "stream",
     "text": [
      " 60%|██████    | 3/5 [00:07<00:04,  2.40s/it]"
     ]
    },
    {
     "name": "stdout",
     "output_type": "stream",
     "text": [
      "282\n",
      "2021090900\n"
     ]
    },
    {
     "name": "stderr",
     "output_type": "stream",
     "text": [
      " 80%|████████  | 4/5 [00:10<00:02,  2.74s/it]"
     ]
    },
    {
     "name": "stdout",
     "output_type": "stream",
     "text": [
      "349\n",
      "2021090900\n"
     ]
    },
    {
     "name": "stderr",
     "output_type": "stream",
     "text": [
      "100%|██████████| 5/5 [00:13<00:00,  2.66s/it]"
     ]
    },
    {
     "name": "stdout",
     "output_type": "stream",
     "text": [
      "   playId      gameId event  te         Ae  tc         Ac\n",
      "0      97  2021090900  pass  40  12.237518  18  29.001750\n",
      "1     137  2021090900  pass  32  16.305513  19  27.422800\n",
      "2     187  2021090900  pass  28  18.312900  20  25.935250\n",
      "3     282  2021090900  pass  38  29.901092  27  40.623989\n",
      "4     349  2021090900  pass  33  14.784734  19  24.298700\n"
     ]
    },
    {
     "name": "stderr",
     "output_type": "stream",
     "text": [
      "\n"
     ]
    }
   ],
   "source": [
    "from multiprocessing import Pool\n",
    "\n",
    "df_area = pd.read_csv(\"data/area/week1.csv\")\n",
    "playIds = df_area.playId.unique()\n",
    "\n",
    "#play_list = list()\n",
    "#game_list = list()\n",
    "#event_list = list()\n",
    "#te_list = list()\n",
    "#Ae_list = list() \n",
    "#tc_list = list()\n",
    "#Ac_list = list()\n",
    "\n",
    "def features_one_play(playId) : \n",
    "    gameId = df_area[df_area.playId == playId].gameId.unique()[0]\n",
    "    selected_area_df = df_area[(df_area.playId==playId)&(df_area.gameId==gameId)].copy() \n",
    "    selected_play_df = df_play[(df_play.playId==playId)&(df_play.gameId==gameId)].copy()  \n",
    "    tracking_players_df = pd.merge(df_tracking,df_players,how=\"left\",on = \"nflId\")\n",
    "    tracking_players_df = pd.merge(tracking_players_df,df_pffScoutingData,how=\"left\",on = [\"nflId\",\"playId\",\"gameId\"])\n",
    "    selected_tracking_df = tracking_players_df[(tracking_players_df.playId==playId)&(tracking_players_df.gameId==gameId)].copy()\n",
    "    selected_tracking_df = beaten_by_defender(gameId, playId , df_pffScoutingData, selected_tracking_df, seuil = 0.5)\n",
    "    selected_tracking_df = scramble(gameId, playId, df_pffScoutingData, selected_tracking_df, seuil = 0.5)\n",
    "    event, te = compute_t_event(gameId, playId, selected_play_df, df_pffScoutingData, selected_tracking_df)\n",
    "    Ae = selected_area_df[selected_area_df.frameId == te].Area.iloc[0]\n",
    "    Ac = np.max(selected_area_df.Area)\n",
    "    tc = selected_area_df[selected_area_df.Area == Ac].frameId.iloc[0]\n",
    "    return pd.DataFrame([[playId, gameId, event, te, Ae, tc, Ac]], \n",
    "                                        columns = ['playId', 'gameId', 'event', 'te', 'Ae', 'tc', 'Ac'])\n",
    "    #play_list.append(playId)\n",
    "    #game_list.append(gameId)\n",
    "    #event_list.append(event)\n",
    "    #te_list.append(te)\n",
    "    #Ae_list.append(Ae)\n",
    "    #tc_list.append(tc)\n",
    "    #Ac_list.append(Ac)\n",
    "\n",
    "with Pool() as mp_pool:\n",
    "    Area_features = mp_pool.map(features_one_play, playIds[:20])\n",
    "\n",
    "Area_features = pd.concat(Area_features)\n",
    "\n",
    "print(Area_features)\n",
    "\n"
   ]
  }
 ],
 "metadata": {
  "kernelspec": {
   "display_name": "Python 3.9.13 ('base')",
   "language": "python",
   "name": "python3"
  },
  "language_info": {
   "codemirror_mode": {
    "name": "ipython",
    "version": 3
   },
   "file_extension": ".py",
   "mimetype": "text/x-python",
   "name": "python",
   "nbconvert_exporter": "python",
   "pygments_lexer": "ipython3",
   "version": "3.9.13"
  },
  "orig_nbformat": 4,
  "vscode": {
   "interpreter": {
    "hash": "637840f8cdf645a68612c9b8a0ce367bca1cd67e3939fcc1f9978e1427999ab1"
   }
  }
 },
 "nbformat": 4,
 "nbformat_minor": 2
}
