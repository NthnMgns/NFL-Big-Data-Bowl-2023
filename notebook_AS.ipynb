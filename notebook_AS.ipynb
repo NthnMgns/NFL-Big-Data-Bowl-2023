{
 "cells": [
  {
   "cell_type": "code",
   "execution_count": 1,
   "metadata": {},
   "outputs": [],
   "source": [
    "import pandas as pd \n",
    "import matplotlib.pyplot as plt \n",
    "import os \n",
    "import sys\n",
    "from tqdm import tqdm\n",
    "sys.path.insert(0, os.getcwd() + '/code')\n",
    "from viz import *\n",
    "from helper_functions import * "
   ]
  },
  {
   "cell_type": "code",
   "execution_count": 5,
   "metadata": {},
   "outputs": [],
   "source": [
    "df_game = pd.read_csv(\"data/games.csv\")\n",
    "df_tracking = pd.read_csv(\"data/week1.csv\")\n",
    "df_tracking = compute_orientation(df_tracking)\n",
    "df_play = pd.read_csv(\"data/plays.csv\")\n",
    "df_players = pd.read_csv(\"data/players.csv\")\n",
    "df_pffScoutingData = pd.read_csv(\"data/pffScoutingData.csv\")"
   ]
  },
  {
   "cell_type": "code",
   "execution_count": 6,
   "metadata": {},
   "outputs": [
    {
     "ename": "IndexError",
     "evalue": "index 0 is out of bounds for axis 0 with size 0",
     "output_type": "error",
     "traceback": [
      "\u001b[0;31m---------------------------------------------------------------------------\u001b[0m",
      "\u001b[0;31mIndexError\u001b[0m                                Traceback (most recent call last)",
      "\u001b[1;32m/home/aschortgen/Documents/Divers/NFL-Big-Data-Bowl-2023/notebook_AS.ipynb Cell 3\u001b[0m in \u001b[0;36m<cell line: 1>\u001b[0;34m()\u001b[0m\n\u001b[0;32m----> <a href='vscode-notebook-cell:/home/aschortgen/Documents/Divers/NFL-Big-Data-Bowl-2023/notebook_AS.ipynb#X16sZmlsZQ%3D%3D?line=0'>1</a>\u001b[0m animate_play(df_tracking,df_play,df_players,df_pffScoutingData,\u001b[39m2021090900\u001b[39;49m, \u001b[39m148\u001b[39;49m, displayZone\u001b[39m=\u001b[39;49m\u001b[39mTrue\u001b[39;49;00m, displayOrientations\u001b[39m=\u001b[39;49m\u001b[39mFalse\u001b[39;49;00m)\u001b[39m.\u001b[39mshow()\n",
      "File \u001b[0;32m~/Documents/Divers/NFL-Big-Data-Bowl-2023/code/viz.py:67\u001b[0m, in \u001b[0;36manimate_play\u001b[0;34m(tracking_df, play_df, players, pffScoutingData, gameId, playId, displayZone, displayOrientations)\u001b[0m\n\u001b[1;32m     64\u001b[0m sorted_frame_list\u001b[39m.\u001b[39msort()\n\u001b[1;32m     66\u001b[0m \u001b[39m# Calcul attaquant battu ?\u001b[39;00m\n\u001b[0;32m---> 67\u001b[0m selected_tracking_df \u001b[39m=\u001b[39m beaten_by_defender(gameId, playId, pffScoutingData, selected_tracking_df, seuil \u001b[39m=\u001b[39;49m \u001b[39m0.5\u001b[39;49m)\n\u001b[1;32m     69\u001b[0m \u001b[39m# get play General information \u001b[39;00m\n\u001b[1;32m     70\u001b[0m line_of_scrimmage \u001b[39m=\u001b[39m selected_play_df\u001b[39m.\u001b[39mabsoluteYardlineNumber\u001b[39m.\u001b[39mvalues[\u001b[39m0\u001b[39m]\n",
      "File \u001b[0;32m~/Documents/Divers/NFL-Big-Data-Bowl-2023/code/helper_functions.py:167\u001b[0m, in \u001b[0;36mbeaten_by_defender\u001b[0;34m(gameId, playId, scouting_data, tracking_data, seuil)\u001b[0m\n\u001b[1;32m    165\u001b[0m tracking_data \u001b[39m=\u001b[39m tracking_data\u001b[39m.\u001b[39massign(beaten \u001b[39m=\u001b[39m \u001b[39mFalse\u001b[39;00m)\n\u001b[1;32m    166\u001b[0m n_frame \u001b[39m=\u001b[39m tracking_data\u001b[39m.\u001b[39mframeId\u001b[39m.\u001b[39munique()\u001b[39m.\u001b[39mshape[\u001b[39m0\u001b[39m]\n\u001b[0;32m--> 167\u001b[0m qbId \u001b[39m=\u001b[39m scouting_data\u001b[39m.\u001b[39;49mquery(\u001b[39m\"\u001b[39;49m\u001b[39mpff_role == \u001b[39;49m\u001b[39m'\u001b[39;49m\u001b[39mPass\u001b[39;49m\u001b[39m'\u001b[39;49m\u001b[39m\"\u001b[39;49m)\u001b[39m.\u001b[39;49mnflId\u001b[39m.\u001b[39;49mvalues[\u001b[39m0\u001b[39;49m]\n\u001b[1;32m    168\u001b[0m pass_block \u001b[39m=\u001b[39m scouting_data\u001b[39m.\u001b[39mquery(\u001b[39m\"\u001b[39m\u001b[39mpff_role == \u001b[39m\u001b[39m'\u001b[39m\u001b[39mPass Block\u001b[39m\u001b[39m'\u001b[39m\u001b[39m\"\u001b[39m)\u001b[39m.\u001b[39mnflId\u001b[39m.\u001b[39mvalues\n\u001b[1;32m    170\u001b[0m \u001b[39mfor\u001b[39;00m frame \u001b[39min\u001b[39;00m np\u001b[39m.\u001b[39marange(n_frame)\u001b[39m+\u001b[39m\u001b[39m1\u001b[39m:\n",
      "\u001b[0;31mIndexError\u001b[0m: index 0 is out of bounds for axis 0 with size 0"
     ]
    }
   ],
   "source": [
    "animate_play(df_tracking,df_play,df_players,df_pffScoutingData, 2021091300, 148, displayZone=True, displayOrientations=False).show()"
   ]
  },
  {
   "cell_type": "code",
   "execution_count": null,
   "metadata": {},
   "outputs": [],
   "source": [
    "gameId = 2021090900\n",
    "playId = 97\n",
    "\n",
    "playIds = df_play[df_play.gameId==gameId].playId.unique()\n",
    "playIds.sort()\n",
    "for playId in playIds[:5]:\n",
    "    selected_play_df = df_play[(df_play.playId==playId)&(df_play.gameId==gameId)].copy()    \n",
    "    tracking_players_df = pd.merge(df_tracking,df_players,how=\"left\",on = \"nflId\")\n",
    "    tracking_players_df = pd.merge(tracking_players_df,df_pffScoutingData,how=\"left\",on = [\"nflId\",\"playId\",\"gameId\"])\n",
    "    selected_tracking_df = tracking_players_df[(tracking_players_df.playId==playId)&(tracking_players_df.gameId==gameId)].copy()\n",
    "    selected_tracking_df = beaten_by_defender(gameId, playId, df_pffScoutingData, selected_tracking_df, seuil = 0.5)\n",
    "\n",
    "\n",
    "    sorted_frame_list = selected_tracking_df.frameId.unique()\n",
    "    sorted_frame_list.sort()\n",
    "    if selected_play_df.empty :\n",
    "        print(playId)\n",
    "        continue\n",
    "    line_of_scrimmage = selected_play_df.absoluteYardlineNumber.values[0]\n",
    "    playDescription = selected_play_df.playDescription.values[0]\n",
    "    print(f\" PlayId : {playId} - {playDescription}\")\n",
    "    aire_t = list()\n",
    "    if 'pass_forward' in selected_tracking_df.event.unique():\n",
    "        eventFrame = selected_tracking_df[selected_tracking_df.event == 'pass_forward'].iloc[0].frameId\n",
    "    else :\n",
    "        eventFrame = 1000\n",
    "    for frameId in sorted_frame_list:\n",
    "        #if eventFrame == frameId :\n",
    "        #    break\n",
    "        selected_frame_df = selected_tracking_df[selected_tracking_df.frameId == frameId]\n",
    "        offensive_points = get_Oline_position(selected_frame_df)\n",
    "        defensive_points = get_Dline_position(selected_frame_df)\n",
    "        QB_zone = calculate_Oline_zones(offensive_points, line_of_scrimmage)\n",
    "        region_polys, region_pts, players_points = calculate_voronoi_zones(QB_zone, offensive_points, defensive_points)\n",
    "        aire_t.append(pocketArea(region_polys, region_pts, players_points))\n",
    "\n",
    "    plt.plot(aire_t)\n",
    "    plt.vlines(eventFrame, 0, np.max(aire_t), color = 'black', linestyles='--',)\n",
    "    plt.show()\n",
    "    "
   ]
  },
  {
   "cell_type": "code",
   "execution_count": null,
   "metadata": {},
   "outputs": [],
   "source": [
    "gameId = 2021090900\n",
    "\n",
    "playIds = df_play[df_play.gameId==gameId].playId.unique()\n",
    "playIds.sort()\n",
    "for playId in tqdm(playIds):\n",
    "    selected_play_df = df_play[(df_play.playId==playId)&(df_play.gameId==gameId)].copy()  \n",
    "    if 'SCRAMBLE' in selected_play_df.dropBackType.unique():  \n",
    "        tracking_players_df = pd.merge(df_tracking,df_players,how=\"left\",on = \"nflId\")\n",
    "        tracking_players_df = pd.merge(tracking_players_df,df_pffScoutingData,how=\"left\",on = [\"nflId\",\"playId\",\"gameId\"])\n",
    "        selected_tracking_df = tracking_players_df[(tracking_players_df.playId==playId)&(tracking_players_df.gameId==gameId)].copy()\n",
    "        selected_tracking_df = tracking_players_df[(tracking_players_df.playId==playId)&(tracking_players_df.gameId==gameId)].copy()\n",
    "        selected_tracking_df = beaten_by_defender(gameId, playId, df_pffScoutingData, selected_tracking_df, seuil = 0.5)\n",
    "\n",
    "        sorted_frame_list = selected_tracking_df.frameId.unique()\n",
    "        sorted_frame_list.sort()\n",
    "        if selected_play_df.empty :\n",
    "            print(playId)\n",
    "            continue\n",
    "        line_of_scrimmage = selected_play_df.absoluteYardlineNumber.values[0]\n",
    "        playDescription = selected_play_df.playDescription.values[0]\n",
    "        print(f\" PlayId : {playId} - {playDescription}\")\n",
    "\n",
    "        QB_dis_list = list(selected_tracking_df[selected_tracking_df.officialPosition == \"QB\"].dis)\n",
    "        QB_dis_covered = [QB_dis_list[0]] + [np.sum(QB_dis_list[:k]) for k in range(1,len(QB_dis_list))]\n",
    "        aire_t = list()\n",
    "\n",
    "        for frameId in sorted_frame_list:\n",
    "            #if eventFrame == frameId :\n",
    "            #    break\n",
    "            selected_frame_df = selected_tracking_df[selected_tracking_df.frameId == frameId]\n",
    "            offensive_points = get_Oline_position(selected_frame_df)\n",
    "            defensive_points = get_Dline_position(selected_frame_df)\n",
    "            QB_zone = calculate_Oline_zones(offensive_points, line_of_scrimmage)\n",
    "            region_polys, region_pts, players_points = calculate_voronoi_zones(QB_zone, offensive_points, defensive_points)\n",
    "            aire_t.append(pocketArea(region_polys, region_pts, players_points))\n",
    "        fig, ax = plt.subplots(2,1, figsize=(7,14))\n",
    "        ax[0].plot(sorted_frame_list, aire_t)\n",
    "        \n",
    "        if 'pass_forward' in selected_tracking_df.event.unique():\n",
    "            eventFrame = selected_tracking_df[selected_tracking_df.event == 'pass_forward'].iloc[0].frameId\n",
    "            ax[0].vlines(eventFrame, 0, np.max(aire_t), color = 'black', linestyles='--',)\n",
    "        else :\n",
    "            eventFrame = 1000\n",
    "        ax[1].plot(sorted_frame_list, QB_dis_covered, color = 'red')\n",
    "        plt.show()\n",
    "    "
   ]
  },
  {
   "cell_type": "code",
   "execution_count": null,
   "metadata": {},
   "outputs": [],
   "source": [
    "print(f'Total n° of plays : {len(df_play)}')\n",
    "scramble_mask = \"'SCRAMBLE' in dropBackType | 'SCRAMBLE_ROLLOUT_RIGHT' in dropBackType | 'SCRAMBLE_ROLLOUT_LEFT' in dropBackType\"\n",
    "scramble_plays = df_play.query(scramble_mask)#[[\"gameId\",\"playId\",\"dropBackType\"]]\n",
    "print(f'n° of scramble plays : {len(scramble_plays)}')\n",
    "for scramble_id in tqdm(range(len(scramble_plays))):\n",
    "\n",
    "    scramble_play = scramble_plays.iloc[scramble_id].playId\n",
    "    scramble_game = scramble_plays.iloc[scramble_id].gameId\n",
    "\n",
    "    selected_play_df = df_play[(df_play.playId==scramble_play)&(df_play.gameId==scramble_game)].copy()  \n",
    "    tracking_players_df = pd.merge(df_tracking,df_players,how=\"left\",on = \"nflId\")\n",
    "    tracking_players_df = pd.merge(tracking_players_df,df_pffScoutingData,how=\"left\",on = [\"nflId\",\"playId\",\"gameId\"])\n",
    "    selected_tracking_df = tracking_players_df[(tracking_players_df.playId==scramble_play)&(tracking_players_df.gameId==scramble_game)].copy()\n",
    "    selected_tracking_df = beaten_by_defender(scramble_game, scramble_play , df_pffScoutingData, selected_tracking_df, seuil = 0.5)\n",
    "    selected_tracking_df = scramble(scramble_game, scramble_play , df_pffScoutingData, selected_tracking_df, seuil = 0.5)\n",
    "    sorted_frame_list = selected_tracking_df.frameId.unique()\n",
    "    sorted_frame_list.sort()\n",
    "    if selected_play_df.empty :\n",
    "        print(playId)\n",
    "        continue\n",
    "    line_of_scrimmage = selected_play_df.absoluteYardlineNumber.values[0]\n",
    "    playDescription = selected_play_df.playDescription.values[0]\n",
    "    print(f\" PlayId : {scramble_game} - {scramble_play} - {playDescription}\")\n",
    "\n",
    "    QB_dis_list = list(selected_tracking_df[selected_tracking_df.officialPosition == \"QB\"].dis)\n",
    "    QB_dis_covered = [QB_dis_list[0]] + [np.sum(QB_dis_list[:k]) for k in range(1,len(QB_dis_list))]\n",
    "    aire_t = list()\n",
    "\n",
    "    for frameId in sorted_frame_list:\n",
    "        #if eventFrame == frameId :\n",
    "        #    break\n",
    "        selected_frame_df = selected_tracking_df[selected_tracking_df.frameId == frameId]\n",
    "        offensive_points = get_Oline_position(selected_frame_df)\n",
    "        defensive_points = get_Dline_position(selected_frame_df)\n",
    "        QB_zone = calculate_Oline_zones(offensive_points, line_of_scrimmage)\n",
    "        region_polys, region_pts, players_points = calculate_voronoi_zones(QB_zone, offensive_points, defensive_points)\n",
    "        aire_t.append(pocketArea(region_polys, region_pts, players_points))\n",
    "    aire_min_during_scramble = np.min(aire_t)\n",
    "    scramble_plays.loc[scramble_id, 'scrambleArea'] = aire_min_during_scramble\n",
    "#print(scramble_plays[['gameId','playId','scrambleArea']])\n",
    "\n",
    "    plt.plot(sorted_frame_list, aire_t)\n",
    "\n",
    "    if 'pass_forward' in selected_tracking_df.event.unique():\n",
    "        eventFrame = selected_tracking_df[selected_tracking_df.event == 'pass_forward'].iloc[0].frameId\n",
    "        plt.vlines(eventFrame, 0, np.max(aire_t), color = 'black', linestyles='--',)\n",
    "    else :\n",
    "        eventFrame = 1000\n",
    "    plt.show()\n"
   ]
  },
  {
   "cell_type": "code",
   "execution_count": 3,
   "metadata": {},
   "outputs": [
    {
     "name": "stderr",
     "output_type": "stream",
     "text": [
      "  0%|          | 0/8 [00:00<?, ?it/s]"
     ]
    },
    {
     "name": "stdout",
     "output_type": "stream",
     "text": [
      "2879 - 20210913002951 - 20210913002851 - 20210913003007 - 2021091300\n",
      "\n",
      "\n",
      "\n"
     ]
    },
    {
     "name": "stderr",
     "output_type": "stream",
     "text": [
      " 12%|█▎        | 1/8 [00:03<00:27,  3.94s/it]"
     ]
    },
    {
     "name": "stdout",
     "output_type": "stream",
     "text": [
      "2879 - 2021091900\n"
     ]
    },
    {
     "name": "stderr",
     "output_type": "stream",
     "text": [
      " 12%|█▎        | 1/8 [00:04<00:33,  4.81s/it]\n"
     ]
    },
    {
     "ename": "IndexError",
     "evalue": "index 0 is out of bounds for axis 0 with size 0",
     "output_type": "error",
     "traceback": [
      "\u001b[0;31m---------------------------------------------------------------------------\u001b[0m",
      "\u001b[0;31mRemoteTraceback\u001b[0m                           Traceback (most recent call last)",
      "\u001b[0;31mRemoteTraceback\u001b[0m: \n\"\"\"\nTraceback (most recent call last):\n  File \"/home/aschortgen/miniconda3/lib/python3.9/multiprocessing/pool.py\", line 125, in worker\n    result = (True, func(*args, **kwds))\n  File \"/home/aschortgen/miniconda3/lib/python3.9/multiprocessing/pool.py\", line 48, in mapstar\n    return list(map(*args))\n  File \"/tmp/ipykernel_94688/3450621471.py\", line 13, in features_one_play\n    gameId = df_area[df_area.playId == playId].gameId.unique()[0]\nIndexError: index 0 is out of bounds for axis 0 with size 0\n\"\"\"",
      "\nThe above exception was the direct cause of the following exception:\n",
      "\u001b[0;31mIndexError\u001b[0m                                Traceback (most recent call last)",
      "\u001b[1;32m/home/aschortgen/Documents/Divers/NFL-Big-Data-Bowl-2023/notebook_AS.ipynb Cell 7\u001b[0m in \u001b[0;36m<cell line: 37>\u001b[0;34m()\u001b[0m\n\u001b[1;32m     <a href='vscode-notebook-cell:/home/aschortgen/Documents/Divers/NFL-Big-Data-Bowl-2023/notebook_AS.ipynb#X23sZmlsZQ%3D%3D?line=39'>40</a>\u001b[0m     \u001b[39m#print(len(playIds))\u001b[39;00m\n\u001b[1;32m     <a href='vscode-notebook-cell:/home/aschortgen/Documents/Divers/NFL-Big-Data-Bowl-2023/notebook_AS.ipynb#X23sZmlsZQ%3D%3D?line=40'>41</a>\u001b[0m \u001b[39m#\u001b[39;00m\n\u001b[1;32m     <a href='vscode-notebook-cell:/home/aschortgen/Documents/Divers/NFL-Big-Data-Bowl-2023/notebook_AS.ipynb#X23sZmlsZQ%3D%3D?line=41'>42</a>\u001b[0m     \u001b[39m#for i in playIds:\u001b[39;00m\n\u001b[1;32m     <a href='vscode-notebook-cell:/home/aschortgen/Documents/Divers/NFL-Big-Data-Bowl-2023/notebook_AS.ipynb#X23sZmlsZQ%3D%3D?line=42'>43</a>\u001b[0m     \u001b[39m#    Area_features += [features_one_play(i)]\u001b[39;00m\n\u001b[1;32m     <a href='vscode-notebook-cell:/home/aschortgen/Documents/Divers/NFL-Big-Data-Bowl-2023/notebook_AS.ipynb#X23sZmlsZQ%3D%3D?line=45'>46</a>\u001b[0m     \u001b[39mwith\u001b[39;00m Pool() \u001b[39mas\u001b[39;00m mp_pool:\n\u001b[0;32m---> <a href='vscode-notebook-cell:/home/aschortgen/Documents/Divers/NFL-Big-Data-Bowl-2023/notebook_AS.ipynb#X23sZmlsZQ%3D%3D?line=46'>47</a>\u001b[0m         Area_features \u001b[39m+\u001b[39m\u001b[39m=\u001b[39m mp_pool\u001b[39m.\u001b[39;49mmap(features_one_play, [\u001b[39m2851\u001b[39;49m,\u001b[39m2879\u001b[39;49m,\u001b[39m2951\u001b[39;49m,\u001b[39m3007\u001b[39;49m])\u001b[39m#,3035])# playIds)\u001b[39;00m\n\u001b[1;32m     <a href='vscode-notebook-cell:/home/aschortgen/Documents/Divers/NFL-Big-Data-Bowl-2023/notebook_AS.ipynb#X23sZmlsZQ%3D%3D?line=48'>49</a>\u001b[0m Area_features \u001b[39m=\u001b[39m pd\u001b[39m.\u001b[39mconcat(Area_features)\n\u001b[1;32m     <a href='vscode-notebook-cell:/home/aschortgen/Documents/Divers/NFL-Big-Data-Bowl-2023/notebook_AS.ipynb#X23sZmlsZQ%3D%3D?line=49'>50</a>\u001b[0m \u001b[39mprint\u001b[39m(Area_features)\n",
      "File \u001b[0;32m~/miniconda3/lib/python3.9/multiprocessing/pool.py:364\u001b[0m, in \u001b[0;36mPool.map\u001b[0;34m(self, func, iterable, chunksize)\u001b[0m\n\u001b[1;32m    359\u001b[0m \u001b[39mdef\u001b[39;00m \u001b[39mmap\u001b[39m(\u001b[39mself\u001b[39m, func, iterable, chunksize\u001b[39m=\u001b[39m\u001b[39mNone\u001b[39;00m):\n\u001b[1;32m    360\u001b[0m     \u001b[39m'''\u001b[39;00m\n\u001b[1;32m    361\u001b[0m \u001b[39m    Apply `func` to each element in `iterable`, collecting the results\u001b[39;00m\n\u001b[1;32m    362\u001b[0m \u001b[39m    in a list that is returned.\u001b[39;00m\n\u001b[1;32m    363\u001b[0m \u001b[39m    '''\u001b[39;00m\n\u001b[0;32m--> 364\u001b[0m     \u001b[39mreturn\u001b[39;00m \u001b[39mself\u001b[39;49m\u001b[39m.\u001b[39;49m_map_async(func, iterable, mapstar, chunksize)\u001b[39m.\u001b[39;49mget()\n",
      "File \u001b[0;32m~/miniconda3/lib/python3.9/multiprocessing/pool.py:771\u001b[0m, in \u001b[0;36mApplyResult.get\u001b[0;34m(self, timeout)\u001b[0m\n\u001b[1;32m    769\u001b[0m     \u001b[39mreturn\u001b[39;00m \u001b[39mself\u001b[39m\u001b[39m.\u001b[39m_value\n\u001b[1;32m    770\u001b[0m \u001b[39melse\u001b[39;00m:\n\u001b[0;32m--> 771\u001b[0m     \u001b[39mraise\u001b[39;00m \u001b[39mself\u001b[39m\u001b[39m.\u001b[39m_value\n",
      "\u001b[0;31mIndexError\u001b[0m: index 0 is out of bounds for axis 0 with size 0"
     ]
    }
   ],
   "source": [
    "from multiprocessing import Pool\n",
    "\n",
    "\n",
    "#play_list = list()\n",
    "#game_list = list()\n",
    "#event_list = list()\n",
    "#te_list = list()\n",
    "#Ae_list = list() \n",
    "#tc_list = list()\n",
    "#Ac_list = list()\n",
    "\n",
    "def features_one_play(playId) : \n",
    "    gameId = df_area[df_area.playId == playId].gameId.unique()[0]\n",
    "    print(f'{playId} - {gameId}')\n",
    "    selected_area_df = df_area[(df_area.playId==playId)&(df_area.gameId==gameId)].copy() \n",
    "    selected_play_df = df_play[(df_play.playId==playId)&(df_play.gameId==gameId)].copy()  \n",
    "    tracking_players_df = pd.merge(df_tracking,df_players,how=\"left\",on = \"nflId\")\n",
    "    tracking_players_df = pd.merge(tracking_players_df,df_pffScoutingData,how=\"left\",on = [\"nflId\",\"playId\",\"gameId\"])\n",
    "    selected_tracking_df = tracking_players_df[(tracking_players_df.playId==playId)&(tracking_players_df.gameId==gameId)].copy()\n",
    "    selected_tracking_df = beaten_by_defender(gameId, playId , df_pffScoutingData, selected_tracking_df, seuil = 0.5)\n",
    "    selected_tracking_df = scramble(gameId, playId, df_pffScoutingData, selected_tracking_df, seuil = 0.5)\n",
    "    event, te = compute_t_event(gameId, playId, selected_play_df, df_pffScoutingData, selected_tracking_df)\n",
    "    Ae = selected_area_df[selected_area_df.frameId == te].Area.iloc[0]\n",
    "    Ac = np.max(selected_area_df.Area)\n",
    "    tc = selected_area_df[selected_area_df.Area == Ac].frameId.iloc[0]\n",
    "    return pd.DataFrame([[playId, gameId, event, te, Ae, tc, Ac]], \n",
    "                                        columns = ['playId', 'gameId', 'event', 'te', 'Ae', 'tc', 'Ac'])\n",
    "    #play_list.append(playId)\n",
    "    #game_list.append(gameId)\n",
    "    #event_list.append(event)\n",
    "    #te_list.append(te)\n",
    "    #Ae_list.append(Ae)\n",
    "    #tc_list.append(tc)\n",
    "    #Ac_list.append(Ac)\n",
    "\n",
    "Area_features = list()\n",
    "for week in tqdm(range(1,9)):\n",
    "    df_area = pd.read_csv(f\"data/area/week{week}.csv\")\n",
    "    playIds = df_area.playId.unique()\n",
    "    #print(len(playIds))\n",
    "#\n",
    "    #for i in playIds:\n",
    "    #    Area_features += [features_one_play(i)]\n",
    "\n",
    "\n",
    "    with Pool() as mp_pool:\n",
    "        Area_features += mp_pool.map(features_one_play, playIds)\n",
    "\n",
    "Area_features = pd.concat(Area_features)\n",
    "print(Area_features)\n",
    "Area_features.to_csv('data/area/Area_features.csv')\n",
    "\n"
   ]
  }
 ],
 "metadata": {
  "kernelspec": {
   "display_name": "Python 3.9.13 ('base')",
   "language": "python",
   "name": "python3"
  },
  "language_info": {
   "codemirror_mode": {
    "name": "ipython",
    "version": 3
   },
   "file_extension": ".py",
   "mimetype": "text/x-python",
   "name": "python",
   "nbconvert_exporter": "python",
   "pygments_lexer": "ipython3",
   "version": "3.9.13"
  },
  "orig_nbformat": 4,
  "vscode": {
   "interpreter": {
    "hash": "637840f8cdf645a68612c9b8a0ce367bca1cd67e3939fcc1f9978e1427999ab1"
   }
  }
 },
 "nbformat": 4,
 "nbformat_minor": 2
}
