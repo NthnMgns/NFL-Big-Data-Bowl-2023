{
 "cells": [
  {
   "cell_type": "code",
   "execution_count": 1,
   "metadata": {},
   "outputs": [],
   "source": [
    "import pandas as pd \n",
    "import matplotlib.pyplot as plt \n",
    "import os \n",
    "import sys\n",
    "from tqdm import tqdm\n",
    "sys.path.insert(0, os.getcwd() + '/code')\n",
    "from viz import *\n",
    "from helper_functions import * \n",
    "from multiprocessing import Pool\n",
    "from scipy.signal import argrelextrema"
   ]
  },
  {
   "cell_type": "code",
   "execution_count": 2,
   "metadata": {},
   "outputs": [],
   "source": [
    "df_game = pd.read_csv(\"data/games.csv\")\n",
    "df_tracking = pd.read_csv(\"data/week1.csv\")\n",
    "df_play = pd.read_csv(\"data/plays.csv\")\n",
    "df_players = pd.read_csv(\"data/players.csv\")\n",
    "df_pffScoutingData = pd.read_csv(\"data/pffScoutingData.csv\")\n",
    "\n",
    "df_tracking = pd.read_csv(f\"data/week{1}.csv\")\n",
    "df_area_t = pd.read_csv(f\"data/area/area_t.csv\").drop(columns=['Unnamed: 0','Unnamed: 0.1'])\n",
    "df_area_features = pd.read_csv(f\"data/area_features/Area_features.csv\").drop(columns=['Unnamed: 0'])\n",
    "#playIds = df_area.playId.unique()"
   ]
  },
  {
   "cell_type": "code",
   "execution_count": 3,
   "metadata": {},
   "outputs": [
    {
     "name": "stdout",
     "output_type": "stream",
     "text": [
      "        frameId       Area  playId      gameId\n",
      "0             1  22.319900      97  2021090900\n",
      "1             2  22.162750      97  2021090900\n",
      "2             3  22.160150      97  2021090900\n",
      "3             4  22.453350      97  2021090900\n",
      "4             5  22.727850      97  2021090900\n",
      "...         ...        ...     ...         ...\n",
      "361365       54   9.889471    4433  2021110100\n",
      "361366       55  11.820654    4433  2021110100\n",
      "361367       56  12.093260    4433  2021110100\n",
      "361368       57  12.366510    4433  2021110100\n",
      "361369       58   7.808204    4433  2021110100\n",
      "\n",
      "[361370 rows x 4 columns]\n"
     ]
    }
   ],
   "source": [
    "print(df_area_t)"
   ]
  },
  {
   "cell_type": "code",
   "execution_count": 4,
   "metadata": {},
   "outputs": [
    {
     "name": "stdout",
     "output_type": "stream",
     "text": [
      "      playId      gameId     event  te         Ae  tc         Ac\n",
      "0         97  2021090900      pass  40  12.237518  37  15.013121\n",
      "1        137  2021090900      pass  32  16.305513  22  26.760950\n",
      "2        187  2021090900      pass  28  18.312900  20  25.935250\n",
      "3        282  2021090900      pass  38  29.901092  35  36.001815\n",
      "4        349  2021090900      pass  33  14.784734  19  24.298700\n",
      "...      ...         ...       ...  ..        ...  ..        ...\n",
      "7569    4310  2021110100  scramble  40  27.696650  22  33.668850\n",
      "7570    4363  2021110100  scramble  41  12.143444  36  17.151700\n",
      "7571    4392  2021110100      sack  48  13.393264  44  15.240555\n",
      "7572    4411  2021110100      pass  33  12.437731  19  25.642100\n",
      "7573    4433  2021110100  scramble  53   9.259213  39   8.102456\n",
      "\n",
      "[7574 rows x 7 columns]\n"
     ]
    }
   ],
   "source": [
    "print(df_area_features)"
   ]
  },
  {
   "cell_type": "code",
   "execution_count": 5,
   "metadata": {},
   "outputs": [
    {
     "name": "stdout",
     "output_type": "stream",
     "text": [
      "Total n° of plays : 8557\n",
      "n° of scramble or sack plays : 1815\n",
      "n° of scramble or sack plays w/o play action : 1139\n",
      "      playId      gameId     event  te         Ae  tc         Ac  \\\n",
      "2        947  2021090900  scramble  37   6.471160  18  23.764250   \n",
      "6       2032  2021090900  scramble  38  13.483074  33  17.202300   \n",
      "7       2279  2021090900  scramble  35   8.196493  17  21.519200   \n",
      "8       2298  2021090900  scramble  41   4.706347  23  27.397200   \n",
      "9       2330  2021090900  scramble  42  23.306400  22  24.664650   \n",
      "...      ...         ...       ...  ..        ...  ..        ...   \n",
      "1810    4049  2021110100  scramble  31  39.334050  25  45.328300   \n",
      "1811    4310  2021110100  scramble  40  27.696650  22  33.668850   \n",
      "1812    4363  2021110100  scramble  41  12.143444  36  17.151700   \n",
      "1813    4392  2021110100      sack  48  13.393264  44  15.240555   \n",
      "1814    4433  2021110100  scramble  53   9.259213  39   8.102456   \n",
      "\n",
      "                                        playDescription  quarter  down  ...  \\\n",
      "2     (:05) (Shotgun) T.Brady pass incomplete short ...        1     3  ...   \n",
      "6     (2:45) (No Huddle, Shotgun) T.Brady pass deep ...        2     1  ...   \n",
      "7     (1:11) (Shotgun) D.Prescott sacked at TB 33 fo...        2     2  ...   \n",
      "8     (:35) (No Huddle, Shotgun) D.Prescott scramble...        2     3  ...   \n",
      "9     (:28) (Shotgun) D.Prescott scrambles left end ...        2     3  ...   \n",
      "...                                                 ...      ...   ...  ...   \n",
      "1810  (4:34) (Shotgun) P.Mahomes pass incomplete sho...        4     1  ...   \n",
      "1811  (1:56) (Shotgun) P.Mahomes sacked at NYG 16 fo...        4     3  ...   \n",
      "1812  (1:07) (Shotgun) D.Jones pass short right to E...        4     1  ...   \n",
      "1813  (1:01) (No Huddle, Shotgun) D.Jones sacked at ...        4     2  ...   \n",
      "1814  (:35) (Shotgun) D.Jones sacked at NYG 14 for -...        4     4  ...   \n",
      "\n",
      "      foulNFLId3 absoluteYardlineNumber offenseFormation        personnelO  \\\n",
      "2            NaN                   70.0          SHOTGUN  1 RB, 1 TE, 3 WR   \n",
      "6            NaN                   57.0          SHOTGUN  1 RB, 1 TE, 3 WR   \n",
      "7            NaN                   89.0          SHOTGUN  1 RB, 1 TE, 3 WR   \n",
      "8            NaN                   77.0          SHOTGUN  1 RB, 1 TE, 3 WR   \n",
      "9            NaN                   67.0            EMPTY  1 RB, 1 TE, 3 WR   \n",
      "...          ...                    ...              ...               ...   \n",
      "1810         NaN                   91.0          SHOTGUN  1 RB, 1 TE, 3 WR   \n",
      "1811         NaN                   18.0          SHOTGUN  1 RB, 1 TE, 3 WR   \n",
      "1812         NaN                   35.0          SHOTGUN  1 RB, 1 TE, 3 WR   \n",
      "1813         NaN                   38.0          SHOTGUN  1 RB, 1 TE, 3 WR   \n",
      "1814         NaN                   30.0          SHOTGUN  1 RB, 1 TE, 3 WR   \n",
      "\n",
      "      defendersInBox        personnelD            dropBackType  \\\n",
      "2                5.0  4 DL, 2 LB, 5 DB             TRADITIONAL   \n",
      "6                6.0  4 DL, 2 LB, 5 DB             TRADITIONAL   \n",
      "7                6.0  2 DL, 4 LB, 5 DB                SCRAMBLE   \n",
      "8                6.0  3 DL, 3 LB, 5 DB                     NaN   \n",
      "9                5.0  3 DL, 3 LB, 5 DB                SCRAMBLE   \n",
      "...              ...               ...                     ...   \n",
      "1810             5.0  1 DL, 4 LB, 6 DB  DESIGNED_ROLLOUT_RIGHT   \n",
      "1811             4.0  1 DL, 3 LB, 7 DB                SCRAMBLE   \n",
      "1812             5.0  4 DL, 1 LB, 6 DB                SCRAMBLE   \n",
      "1813             6.0  4 DL, 1 LB, 6 DB             TRADITIONAL   \n",
      "1814             6.0  4 DL, 1 LB, 6 DB             TRADITIONAL   \n",
      "\n",
      "      pff_playAction pff_passCoverage  pff_passCoverageType  \n",
      "2                  0          Cover-2                  Zone  \n",
      "6                  0            2-Man                   Man  \n",
      "7                  0         Quarters                  Zone  \n",
      "8                  0         Quarters                  Zone  \n",
      "9                  0         Quarters                  Zone  \n",
      "...              ...              ...                   ...  \n",
      "1810               0          Cover-2                  Zone  \n",
      "1811               0          Bracket                 Other  \n",
      "1812               0          Cover-2                  Zone  \n",
      "1813               0          Cover-2                  Zone  \n",
      "1814               0         Quarters                  Zone  \n",
      "\n",
      "[1139 rows x 37 columns]\n"
     ]
    }
   ],
   "source": [
    "print(f'Total n° of plays : {len(df_play)}')\n",
    "scramble_mask = \"(event == 'scramble' | event == 'sack')\"\n",
    "scramble_plays = df_area_features.query(scramble_mask)\n",
    "scramble_plays = pd.merge(scramble_plays,df_play,how=\"left\",on = [\"playId\",\"gameId\"])\n",
    "print(f'n° of scramble or sack plays : {len(scramble_plays)}')\n",
    "scramble_plays_wo_PA = scramble_plays[scramble_plays.pff_playAction == 0]\n",
    "print(f'n° of scramble or sack plays w/o play action : {len(scramble_plays_wo_PA)}')\n",
    "print(scramble_plays_wo_PA)\n"
   ]
  },
  {
   "cell_type": "code",
   "execution_count": 6,
   "metadata": {},
   "outputs": [
    {
     "name": "stderr",
     "output_type": "stream",
     "text": [
      "100%|██████████| 1815/1815 [00:07<00:00, 242.91it/s]"
     ]
    },
    {
     "name": "stdout",
     "output_type": "stream",
     "text": [
      "      playId      gameId     event  te         Ae  tc         Ac  \\\n",
      "0        735  2021090900  scramble  40  49.791600   6  35.893200   \n",
      "1        764  2021090900  scramble  28  24.175115  25  26.277012   \n",
      "2        947  2021090900  scramble  37   6.471160  18  23.764250   \n",
      "3       1312  2021090900  scramble  24  28.861884  24  28.861884   \n",
      "4       1425  2021090900  scramble  31  32.751879  25  42.508076   \n",
      "...      ...         ...       ...  ..        ...  ..        ...   \n",
      "1810    4049  2021110100  scramble  31  39.334050  25  45.328300   \n",
      "1811    4310  2021110100  scramble  40  27.696650  22  33.668850   \n",
      "1812    4363  2021110100  scramble  41  12.143444  36  17.151700   \n",
      "1813    4392  2021110100      sack  48  13.393264  44  15.240555   \n",
      "1814    4433  2021110100  scramble  53   9.259213  39   8.102456   \n",
      "\n",
      "                                        playDescription  quarter  down  ...  \\\n",
      "0     (2:45) (Shotgun) D.Prescott pass short right t...        1     2  ...   \n",
      "1     (2:22) (No Huddle) D.Prescott pass short right...        1     1  ...   \n",
      "2     (:05) (Shotgun) T.Brady pass incomplete short ...        1     3  ...   \n",
      "3     (9:53) T.Brady pass short right to R.Gronkowsk...        2     2  ...   \n",
      "4     (9:04) D.Prescott pass short right to B.Jarwin...        2     1  ...   \n",
      "...                                                 ...      ...   ...  ...   \n",
      "1810  (4:34) (Shotgun) P.Mahomes pass incomplete sho...        4     1  ...   \n",
      "1811  (1:56) (Shotgun) P.Mahomes sacked at NYG 16 fo...        4     3  ...   \n",
      "1812  (1:07) (Shotgun) D.Jones pass short right to E...        4     1  ...   \n",
      "1813  (1:01) (No Huddle, Shotgun) D.Jones sacked at ...        4     2  ...   \n",
      "1814  (:35) (Shotgun) D.Jones sacked at NYG 14 for -...        4     4  ...   \n",
      "\n",
      "      absoluteYardlineNumber offenseFormation        personnelO  \\\n",
      "0                       47.0          SHOTGUN  1 RB, 1 TE, 3 WR   \n",
      "1                       39.0       SINGLEBACK  1 RB, 1 TE, 3 WR   \n",
      "2                       70.0          SHOTGUN  1 RB, 1 TE, 3 WR   \n",
      "3                       12.0       SINGLEBACK  1 RB, 1 TE, 3 WR   \n",
      "4                       71.0       SINGLEBACK  1 RB, 2 TE, 2 WR   \n",
      "...                      ...              ...               ...   \n",
      "1810                    91.0          SHOTGUN  1 RB, 1 TE, 3 WR   \n",
      "1811                    18.0          SHOTGUN  1 RB, 1 TE, 3 WR   \n",
      "1812                    35.0          SHOTGUN  1 RB, 1 TE, 3 WR   \n",
      "1813                    38.0          SHOTGUN  1 RB, 1 TE, 3 WR   \n",
      "1814                    30.0          SHOTGUN  1 RB, 1 TE, 3 WR   \n",
      "\n",
      "     defendersInBox        personnelD            dropBackType  pff_playAction  \\\n",
      "0               6.0  3 DL, 3 LB, 5 DB  SCRAMBLE_ROLLOUT_RIGHT               1   \n",
      "1               6.0  3 DL, 3 LB, 5 DB  DESIGNED_ROLLOUT_RIGHT               1   \n",
      "2               5.0  4 DL, 2 LB, 5 DB             TRADITIONAL               0   \n",
      "3               7.0  4 DL, 2 LB, 5 DB  DESIGNED_ROLLOUT_RIGHT               1   \n",
      "4               7.0  4 DL, 3 LB, 4 DB  SCRAMBLE_ROLLOUT_RIGHT               1   \n",
      "...             ...               ...                     ...             ...   \n",
      "1810            5.0  1 DL, 4 LB, 6 DB  DESIGNED_ROLLOUT_RIGHT               0   \n",
      "1811            4.0  1 DL, 3 LB, 7 DB                SCRAMBLE               0   \n",
      "1812            5.0  4 DL, 1 LB, 6 DB                SCRAMBLE               0   \n",
      "1813            6.0  4 DL, 1 LB, 6 DB             TRADITIONAL               0   \n",
      "1814            6.0  4 DL, 1 LB, 6 DB             TRADITIONAL               0   \n",
      "\n",
      "      pff_passCoverage pff_passCoverageType      Acrit  \n",
      "0              Cover-2                 Zone  27.035700  \n",
      "1             Quarters                 Zone   2.888200  \n",
      "2              Cover-2                 Zone   6.471160  \n",
      "3              Cover-1                  Man   3.565350  \n",
      "4              Cover-3                 Zone   2.545750  \n",
      "...                ...                  ...        ...  \n",
      "1810           Cover-2                 Zone  31.575850  \n",
      "1811           Bracket                Other  18.073750  \n",
      "1812           Cover-2                 Zone  12.143444  \n",
      "1813           Cover-2                 Zone  13.393264  \n",
      "1814          Quarters                 Zone   4.844356  \n",
      "\n",
      "[1815 rows x 38 columns]\n",
      "11.313774441708876\n",
      "7.2316016670755\n"
     ]
    },
    {
     "name": "stderr",
     "output_type": "stream",
     "text": [
      "\n"
     ]
    }
   ],
   "source": [
    "scramble_plays[\"Acrit\"] = np.nan\n",
    "for scramble_id in tqdm(scramble_plays.index):\n",
    "\n",
    "    scramble_play = scramble_plays.loc[scramble_id].playId\n",
    "    scramble_game = scramble_plays.loc[scramble_id].gameId\n",
    "\n",
    "    selected_area_features_df = df_area_features[(df_area_features .playId==scramble_play)&(df_area_features.gameId==scramble_game)].copy()\n",
    "    selected_area_t_df = df_area_t[(df_area_t.playId==scramble_play)&(df_area_t.gameId==scramble_game)].copy()\n",
    "\n",
    "    Acrit = np.min(selected_area_t_df[selected_area_t_df.frameId <= int(selected_area_features_df.te)].Area)\n",
    "    scramble_plays.loc[scramble_id,\"Acrit\"] = Acrit\n",
    "print(scramble_plays)\n",
    "print(scramble_plays.Acrit.mean())\n",
    "print(scramble_plays.Acrit.std())\n"
   ]
  },
  {
   "cell_type": "code",
   "execution_count": 7,
   "metadata": {},
   "outputs": [
    {
     "name": "stderr",
     "output_type": "stream",
     "text": [
      "/tmp/ipykernel_139257/2300602930.py:1: SettingWithCopyWarning:\n",
      "\n",
      "\n",
      "A value is trying to be set on a copy of a slice from a DataFrame.\n",
      "Try using .loc[row_indexer,col_indexer] = value instead\n",
      "\n",
      "See the caveats in the documentation: https://pandas.pydata.org/pandas-docs/stable/user_guide/indexing.html#returning-a-view-versus-a-copy\n",
      "\n"
     ]
    },
    {
     "name": "stdout",
     "output_type": "stream",
     "text": [
      "1139\n"
     ]
    },
    {
     "name": "stderr",
     "output_type": "stream",
     "text": [
      "100%|██████████| 1139/1139 [00:05<00:00, 222.85it/s]"
     ]
    },
    {
     "name": "stdout",
     "output_type": "stream",
     "text": [
      "      playId      gameId     event  te         Ae  tc         Ac  \\\n",
      "2        947  2021090900  scramble  37   6.471160  18  23.764250   \n",
      "6       2032  2021090900  scramble  38  13.483074  33  17.202300   \n",
      "7       2279  2021090900  scramble  35   8.196493  17  21.519200   \n",
      "8       2298  2021090900  scramble  41   4.706347  23  27.397200   \n",
      "9       2330  2021090900  scramble  42  23.306400  22  24.664650   \n",
      "...      ...         ...       ...  ..        ...  ..        ...   \n",
      "1810    4049  2021110100  scramble  31  39.334050  25  45.328300   \n",
      "1811    4310  2021110100  scramble  40  27.696650  22  33.668850   \n",
      "1812    4363  2021110100  scramble  41  12.143444  36  17.151700   \n",
      "1813    4392  2021110100      sack  48  13.393264  44  15.240555   \n",
      "1814    4433  2021110100  scramble  53   9.259213  39   8.102456   \n",
      "\n",
      "                                        playDescription  quarter  down  ...  \\\n",
      "2     (:05) (Shotgun) T.Brady pass incomplete short ...        1     3  ...   \n",
      "6     (2:45) (No Huddle, Shotgun) T.Brady pass deep ...        2     1  ...   \n",
      "7     (1:11) (Shotgun) D.Prescott sacked at TB 33 fo...        2     2  ...   \n",
      "8     (:35) (No Huddle, Shotgun) D.Prescott scramble...        2     3  ...   \n",
      "9     (:28) (Shotgun) D.Prescott scrambles left end ...        2     3  ...   \n",
      "...                                                 ...      ...   ...  ...   \n",
      "1810  (4:34) (Shotgun) P.Mahomes pass incomplete sho...        4     1  ...   \n",
      "1811  (1:56) (Shotgun) P.Mahomes sacked at NYG 16 fo...        4     3  ...   \n",
      "1812  (1:07) (Shotgun) D.Jones pass short right to E...        4     1  ...   \n",
      "1813  (1:01) (No Huddle, Shotgun) D.Jones sacked at ...        4     2  ...   \n",
      "1814  (:35) (Shotgun) D.Jones sacked at NYG 14 for -...        4     4  ...   \n",
      "\n",
      "      absoluteYardlineNumber offenseFormation        personnelO  \\\n",
      "2                       70.0          SHOTGUN  1 RB, 1 TE, 3 WR   \n",
      "6                       57.0          SHOTGUN  1 RB, 1 TE, 3 WR   \n",
      "7                       89.0          SHOTGUN  1 RB, 1 TE, 3 WR   \n",
      "8                       77.0          SHOTGUN  1 RB, 1 TE, 3 WR   \n",
      "9                       67.0            EMPTY  1 RB, 1 TE, 3 WR   \n",
      "...                      ...              ...               ...   \n",
      "1810                    91.0          SHOTGUN  1 RB, 1 TE, 3 WR   \n",
      "1811                    18.0          SHOTGUN  1 RB, 1 TE, 3 WR   \n",
      "1812                    35.0          SHOTGUN  1 RB, 1 TE, 3 WR   \n",
      "1813                    38.0          SHOTGUN  1 RB, 1 TE, 3 WR   \n",
      "1814                    30.0          SHOTGUN  1 RB, 1 TE, 3 WR   \n",
      "\n",
      "     defendersInBox        personnelD            dropBackType  pff_playAction  \\\n",
      "2               5.0  4 DL, 2 LB, 5 DB             TRADITIONAL               0   \n",
      "6               6.0  4 DL, 2 LB, 5 DB             TRADITIONAL               0   \n",
      "7               6.0  2 DL, 4 LB, 5 DB                SCRAMBLE               0   \n",
      "8               6.0  3 DL, 3 LB, 5 DB                     NaN               0   \n",
      "9               5.0  3 DL, 3 LB, 5 DB                SCRAMBLE               0   \n",
      "...             ...               ...                     ...             ...   \n",
      "1810            5.0  1 DL, 4 LB, 6 DB  DESIGNED_ROLLOUT_RIGHT               0   \n",
      "1811            4.0  1 DL, 3 LB, 7 DB                SCRAMBLE               0   \n",
      "1812            5.0  4 DL, 1 LB, 6 DB                SCRAMBLE               0   \n",
      "1813            6.0  4 DL, 1 LB, 6 DB             TRADITIONAL               0   \n",
      "1814            6.0  4 DL, 1 LB, 6 DB             TRADITIONAL               0   \n",
      "\n",
      "      pff_passCoverage pff_passCoverageType      Acrit  \n",
      "2              Cover-2                 Zone   6.471160  \n",
      "6                2-Man                  Man  12.063814  \n",
      "7             Quarters                 Zone   8.196493  \n",
      "8             Quarters                 Zone   3.584445  \n",
      "9             Quarters                 Zone  13.292500  \n",
      "...                ...                  ...        ...  \n",
      "1810           Cover-2                 Zone  31.575850  \n",
      "1811           Bracket                Other  18.073750  \n",
      "1812           Cover-2                 Zone  12.143444  \n",
      "1813           Cover-2                 Zone  13.393264  \n",
      "1814          Quarters                 Zone   4.844356  \n",
      "\n",
      "[1139 rows x 38 columns]\n",
      "11.179688605481363\n",
      "6.031230809397881\n"
     ]
    },
    {
     "name": "stderr",
     "output_type": "stream",
     "text": [
      "\n"
     ]
    }
   ],
   "source": [
    "scramble_plays_wo_PA[\"Acrit\"] = np.nan\n",
    "print(len(scramble_plays_wo_PA))\n",
    "for scramble_id in tqdm(scramble_plays_wo_PA.index):\n",
    "\n",
    "    scramble_play = scramble_plays_wo_PA.loc[scramble_id].playId\n",
    "    scramble_game = scramble_plays_wo_PA.loc[scramble_id].gameId\n",
    "\n",
    "    selected_area_features_df = df_area_features[(df_area_features .playId==scramble_play)&(df_area_features.gameId==scramble_game)].copy()\n",
    "    selected_area_t_df = df_area_t[(df_area_t.playId==scramble_play)&(df_area_t.gameId==scramble_game)].copy()\n",
    "\n",
    "    Acrit = np.min(selected_area_t_df[selected_area_t_df.frameId <= int(selected_area_features_df.te)].Area)\n",
    "    scramble_plays_wo_PA.loc[scramble_id,\"Acrit\"] = Acrit\n",
    "print(scramble_plays_wo_PA)\n",
    "print(scramble_plays_wo_PA.Acrit.mean())\n",
    "print(scramble_plays_wo_PA.Acrit.std())"
   ]
  },
  {
   "cell_type": "code",
   "execution_count": 10,
   "metadata": {},
   "outputs": [
    {
     "name": "stdout",
     "output_type": "stream",
     "text": [
      "Total n° of plays : 8557\n",
      "n° of pass plays : 5759\n",
      "n° of scramble or sack plays w/o play action : 4633\n",
      "      playId      gameId event  te         Ae  tc         Ac  \\\n",
      "0         97  2021090900  pass  40  12.237518  37  15.013121   \n",
      "1        137  2021090900  pass  32  16.305513  22  26.760950   \n",
      "2        187  2021090900  pass  28  18.312900  20  25.935250   \n",
      "4        349  2021090900  pass  33  14.784734  19  24.298700   \n",
      "5        410  2021090900  pass  22  15.032565  16  21.957300   \n",
      "...      ...         ...   ...  ..        ...  ..        ...   \n",
      "5752    3392  2021110100  pass  34  11.988250  20  32.804600   \n",
      "5754    3572  2021110100  pass  39   6.898700  20  34.447850   \n",
      "5756    4071  2021110100  pass  38  15.314200  24  33.071150   \n",
      "5757    4113  2021110100  pass  33  19.062700  21  29.345050   \n",
      "5758    4411  2021110100  pass  33  12.437731  19  25.642100   \n",
      "\n",
      "                                        playDescription  quarter  down  ...  \\\n",
      "0     (13:33) (Shotgun) T.Brady pass incomplete deep...        1     3  ...   \n",
      "1     (13:18) (Shotgun) D.Prescott pass deep left to...        1     1  ...   \n",
      "2     (12:23) (Shotgun) D.Prescott pass short middle...        1     2  ...   \n",
      "4     (9:46) (Shotgun) D.Prescott pass incomplete sh...        1     3  ...   \n",
      "5     (8:53) (Shotgun) T.Brady pass short middle to ...        1     2  ...   \n",
      "...                                                 ...      ...   ...  ...   \n",
      "5752  (13:56) (Shotgun) P.Mahomes pass short middle ...        4     2  ...   \n",
      "5754  (11:04) (Shotgun) P.Mahomes pass short middle ...        4     3  ...   \n",
      "5756  (4:29) (Shotgun) P.Mahomes pass short right in...        4     2  ...   \n",
      "5757  (4:22) (Shotgun) P.Mahomes pass short right to...        4     2  ...   \n",
      "5758  (:39) (No Huddle, Shotgun) D.Jones pass incomp...        4     3  ...   \n",
      "\n",
      "      foulNFLId3 absoluteYardlineNumber offenseFormation        personnelO  \\\n",
      "0            NaN                   43.0          SHOTGUN  1 RB, 1 TE, 3 WR   \n",
      "1            NaN                  108.0            EMPTY  1 RB, 2 TE, 2 WR   \n",
      "2            NaN                   76.0          SHOTGUN  0 RB, 2 TE, 3 WR   \n",
      "4            NaN                   54.0          SHOTGUN  1 RB, 1 TE, 3 WR   \n",
      "5            NaN                   21.0            EMPTY  1 RB, 1 TE, 3 WR   \n",
      "...          ...                    ...              ...               ...   \n",
      "5752         NaN                   82.0            EMPTY  1 RB, 1 TE, 3 WR   \n",
      "5754         NaN                   38.0          SHOTGUN  1 RB, 1 TE, 3 WR   \n",
      "5756         NaN                   91.0          SHOTGUN  1 RB, 1 TE, 3 WR   \n",
      "5757         NaN                   86.0          SHOTGUN  1 RB, 1 TE, 3 WR   \n",
      "5758         NaN                   30.0          SHOTGUN  1 RB, 1 TE, 3 WR   \n",
      "\n",
      "      defendersInBox        personnelD  dropBackType  pff_playAction  \\\n",
      "0                6.0  4 DL, 2 LB, 5 DB   TRADITIONAL               0   \n",
      "1                6.0  4 DL, 4 LB, 3 DB   TRADITIONAL               0   \n",
      "2                6.0  3 DL, 3 LB, 5 DB   TRADITIONAL               0   \n",
      "4                7.0  3 DL, 4 LB, 4 DB   TRADITIONAL               0   \n",
      "5                6.0  4 DL, 2 LB, 5 DB   TRADITIONAL               0   \n",
      "...              ...               ...           ...             ...   \n",
      "5752             5.0  2 DL, 4 LB, 5 DB   TRADITIONAL               0   \n",
      "5754             6.0  2 DL, 3 LB, 6 DB   TRADITIONAL               0   \n",
      "5756             4.0  1 DL, 4 LB, 6 DB           NaN               0   \n",
      "5757             4.0  1 DL, 4 LB, 6 DB   TRADITIONAL               0   \n",
      "5758             5.0  4 DL, 1 LB, 6 DB   TRADITIONAL               0   \n",
      "\n",
      "     pff_passCoverage  pff_passCoverageType  \n",
      "0             Cover-1                   Man  \n",
      "1             Cover-3                  Zone  \n",
      "2             Cover-3                  Zone  \n",
      "4             Cover-3                  Zone  \n",
      "5             Cover-1                   Man  \n",
      "...               ...                   ...  \n",
      "5752         Quarters                  Zone  \n",
      "5754          Cover-3                  Zone  \n",
      "5756          Cover-2                  Zone  \n",
      "5757          Cover-2                  Zone  \n",
      "5758          Cover-2                  Zone  \n",
      "\n",
      "[4633 rows x 37 columns]\n"
     ]
    }
   ],
   "source": [
    "print(f'Total n° of plays : {len(df_play)}')\n",
    "pass_mask = \"event == 'pass'\"\n",
    "pass_plays = df_area_features.query(pass_mask)\n",
    "pass_plays = pd.merge(pass_plays,df_play,how=\"left\",on = [\"playId\",\"gameId\"])\n",
    "print(f'n° of pass plays : {len(pass_plays)}')\n",
    "pass_plays_wo_PA = pass_plays[pass_plays.pff_playAction == 0]\n",
    "print(f'n° of scramble or sack plays w/o play action : {len(pass_plays_wo_PA)}')\n",
    "print(pass_plays_wo_PA)"
   ]
  },
  {
   "cell_type": "code",
   "execution_count": 11,
   "metadata": {},
   "outputs": [
    {
     "name": "stdout",
     "output_type": "stream",
     "text": [
      "19.73143116204909\n",
      "11.913234431826725\n",
      "17.173106886110627\n",
      "7.778071511161969\n"
     ]
    }
   ],
   "source": [
    "print(pass_plays.Ae.mean())\n",
    "print(pass_plays.Ae.std())\n",
    "\n",
    "print(pass_plays_wo_PA.Ae.mean())\n",
    "print(pass_plays_wo_PA.Ae.std())"
   ]
  }
 ],
 "metadata": {
  "kernelspec": {
   "display_name": "Python 3.9.13 ('base')",
   "language": "python",
   "name": "python3"
  },
  "language_info": {
   "codemirror_mode": {
    "name": "ipython",
    "version": 3
   },
   "file_extension": ".py",
   "mimetype": "text/x-python",
   "name": "python",
   "nbconvert_exporter": "python",
   "pygments_lexer": "ipython3",
   "version": "3.9.13"
  },
  "orig_nbformat": 4,
  "vscode": {
   "interpreter": {
    "hash": "637840f8cdf645a68612c9b8a0ce367bca1cd67e3939fcc1f9978e1427999ab1"
   }
  }
 },
 "nbformat": 4,
 "nbformat_minor": 2
}
