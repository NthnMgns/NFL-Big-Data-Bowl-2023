{
 "cells": [
  {
   "cell_type": "code",
   "execution_count": 1,
   "metadata": {},
   "outputs": [],
   "source": [
    "import pandas as pd \n",
    "import matplotlib.pyplot as plt \n",
    "import os \n",
    "import sys\n",
    "from tqdm import tqdm\n",
    "sys.path.insert(0, os.getcwd() + '/code')\n",
    "from viz import *\n",
    "from helper_functions import * \n",
    "from multiprocessing import Pool\n",
    "from scipy.signal import argrelextrema"
   ]
  },
  {
   "cell_type": "code",
   "execution_count": 2,
   "metadata": {},
   "outputs": [],
   "source": [
    "df_game = pd.read_csv(\"data/games.csv\")\n",
    "df_tracking = pd.read_csv(\"data/week1.csv\")\n",
    "df_play = pd.read_csv(\"data/plays.csv\")\n",
    "df_players = pd.read_csv(\"data/players.csv\")\n",
    "df_pffScoutingData = pd.read_csv(\"data/pffScoutingData.csv\")\n",
    "\n",
    "df_tracking = pd.read_csv(f\"data/week{1}.csv\")\n",
    "df_area_t = pd.read_csv(f\"data/area/area_t.csv\").drop(columns=['Unnamed: 0','Unnamed: 0.1'])\n",
    "df_area_features = pd.read_csv(f\"data/area_features/Area_features.csv\").drop(columns=['Unnamed: 0'])\n",
    "#playIds = df_area.playId.unique()"
   ]
  },
  {
   "cell_type": "code",
   "execution_count": 3,
   "metadata": {},
   "outputs": [
    {
     "name": "stdout",
     "output_type": "stream",
     "text": [
      "        frameId       Area  playId      gameId\n",
      "0             1  22.319900      97  2021090900\n",
      "1             2  22.162750      97  2021090900\n",
      "2             3  22.160150      97  2021090900\n",
      "3             4  22.453350      97  2021090900\n",
      "4             5  22.727850      97  2021090900\n",
      "...         ...        ...     ...         ...\n",
      "361365       54   9.889471    4433  2021110100\n",
      "361366       55  11.820654    4433  2021110100\n",
      "361367       56  12.093260    4433  2021110100\n",
      "361368       57  12.366510    4433  2021110100\n",
      "361369       58   7.808204    4433  2021110100\n",
      "\n",
      "[361370 rows x 4 columns]\n"
     ]
    }
   ],
   "source": [
    "print(df_area_t)"
   ]
  },
  {
   "cell_type": "code",
   "execution_count": 4,
   "metadata": {},
   "outputs": [
    {
     "name": "stdout",
     "output_type": "stream",
     "text": [
      "      playId      gameId     event  te         Ae  tc         Ac  tsnap\n",
      "0         97  2021090900      pass  35  12.237518  25  21.761567      5\n",
      "1        137  2021090900      pass  26  16.305513  16  26.883350      6\n",
      "2        187  2021090900      pass  23  18.312900  15  23.691000      5\n",
      "3        282  2021090900      pass  33  29.901092  22  36.739526      5\n",
      "4        349  2021090900      pass  27  14.784734  13  20.197600      6\n",
      "...      ...         ...       ...  ..        ...  ..        ...    ...\n",
      "7039    4310  2021110100  scramble  34  27.696650  16  28.547650      6\n",
      "7040    4363  2021110100  scramble  35  12.143444  16  23.476700      6\n",
      "7041    4392  2021110100      sack  42  13.393264  33  17.607850      6\n",
      "7042    4411  2021110100      pass  27  12.437731  13  23.665450      6\n",
      "7043    4433  2021110100  scramble  47   9.259213  33  10.842546      6\n",
      "\n",
      "[7044 rows x 8 columns]\n"
     ]
    }
   ],
   "source": [
    "print(df_area_features)"
   ]
  },
  {
   "cell_type": "code",
   "execution_count": 5,
   "metadata": {},
   "outputs": [
    {
     "name": "stdout",
     "output_type": "stream",
     "text": [
      "Total n° of plays : 8557\n",
      "n° of scramble or sack plays : 1683\n",
      "n° of scramble or sack plays w/o play action : 1127\n",
      "      playId      gameId     event  te         Ae  tc         Ac  tsnap  \\\n",
      "1        947  2021090900  scramble  32   6.471160  13  21.118500      5   \n",
      "5       2032  2021090900  scramble  33  13.483074  24  23.139350      5   \n",
      "6       2279  2021090900  scramble  30   8.196493  12  19.694750      5   \n",
      "7       2298  2021090900  scramble  36   4.706347  18  24.797850      5   \n",
      "8       2330  2021090900  scramble  37  23.306400  17  22.632700      5   \n",
      "...      ...         ...       ...  ..        ...  ..        ...    ...   \n",
      "1678    4049  2021110100  scramble  24  39.334050   2  31.693500      7   \n",
      "1679    4310  2021110100  scramble  34  27.696650  16  28.547650      6   \n",
      "1680    4363  2021110100  scramble  35  12.143444  16  23.476700      6   \n",
      "1681    4392  2021110100      sack  42  13.393264  33  17.607850      6   \n",
      "1682    4433  2021110100  scramble  47   9.259213  33  10.842546      6   \n",
      "\n",
      "                                        playDescription  quarter  ...  \\\n",
      "1     (:05) (Shotgun) T.Brady pass incomplete short ...        1  ...   \n",
      "5     (2:45) (No Huddle, Shotgun) T.Brady pass deep ...        2  ...   \n",
      "6     (1:11) (Shotgun) D.Prescott sacked at TB 33 fo...        2  ...   \n",
      "7     (:35) (No Huddle, Shotgun) D.Prescott scramble...        2  ...   \n",
      "8     (:28) (Shotgun) D.Prescott scrambles left end ...        2  ...   \n",
      "...                                                 ...      ...  ...   \n",
      "1678  (4:34) (Shotgun) P.Mahomes pass incomplete sho...        4  ...   \n",
      "1679  (1:56) (Shotgun) P.Mahomes sacked at NYG 16 fo...        4  ...   \n",
      "1680  (1:07) (Shotgun) D.Jones pass short right to E...        4  ...   \n",
      "1681  (1:01) (No Huddle, Shotgun) D.Jones sacked at ...        4  ...   \n",
      "1682  (:35) (Shotgun) D.Jones sacked at NYG 14 for -...        4  ...   \n",
      "\n",
      "      foulNFLId3  absoluteYardlineNumber offenseFormation        personnelO  \\\n",
      "1            NaN                    70.0          SHOTGUN  1 RB, 1 TE, 3 WR   \n",
      "5            NaN                    57.0          SHOTGUN  1 RB, 1 TE, 3 WR   \n",
      "6            NaN                    89.0          SHOTGUN  1 RB, 1 TE, 3 WR   \n",
      "7            NaN                    77.0          SHOTGUN  1 RB, 1 TE, 3 WR   \n",
      "8            NaN                    67.0            EMPTY  1 RB, 1 TE, 3 WR   \n",
      "...          ...                     ...              ...               ...   \n",
      "1678         NaN                    91.0          SHOTGUN  1 RB, 1 TE, 3 WR   \n",
      "1679         NaN                    18.0          SHOTGUN  1 RB, 1 TE, 3 WR   \n",
      "1680         NaN                    35.0          SHOTGUN  1 RB, 1 TE, 3 WR   \n",
      "1681         NaN                    38.0          SHOTGUN  1 RB, 1 TE, 3 WR   \n",
      "1682         NaN                    30.0          SHOTGUN  1 RB, 1 TE, 3 WR   \n",
      "\n",
      "     defendersInBox        personnelD            dropBackType  pff_playAction  \\\n",
      "1               5.0  4 DL, 2 LB, 5 DB             TRADITIONAL               0   \n",
      "5               6.0  4 DL, 2 LB, 5 DB             TRADITIONAL               0   \n",
      "6               6.0  2 DL, 4 LB, 5 DB                SCRAMBLE               0   \n",
      "7               6.0  3 DL, 3 LB, 5 DB                     NaN               0   \n",
      "8               5.0  3 DL, 3 LB, 5 DB                SCRAMBLE               0   \n",
      "...             ...               ...                     ...             ...   \n",
      "1678            5.0  1 DL, 4 LB, 6 DB  DESIGNED_ROLLOUT_RIGHT               0   \n",
      "1679            4.0  1 DL, 3 LB, 7 DB                SCRAMBLE               0   \n",
      "1680            5.0  4 DL, 1 LB, 6 DB                SCRAMBLE               0   \n",
      "1681            6.0  4 DL, 1 LB, 6 DB             TRADITIONAL               0   \n",
      "1682            6.0  4 DL, 1 LB, 6 DB             TRADITIONAL               0   \n",
      "\n",
      "      pff_passCoverage pff_passCoverageType  \n",
      "1              Cover-2                 Zone  \n",
      "5                2-Man                  Man  \n",
      "6             Quarters                 Zone  \n",
      "7             Quarters                 Zone  \n",
      "8             Quarters                 Zone  \n",
      "...                ...                  ...  \n",
      "1678           Cover-2                 Zone  \n",
      "1679           Bracket                Other  \n",
      "1680           Cover-2                 Zone  \n",
      "1681           Cover-2                 Zone  \n",
      "1682          Quarters                 Zone  \n",
      "\n",
      "[1127 rows x 38 columns]\n"
     ]
    }
   ],
   "source": [
    "print(f'Total n° of plays : {len(df_play)}')\n",
    "scramble_mask = \"(event == 'scramble' | event == 'sack')\"\n",
    "scramble_plays = df_area_features.query(scramble_mask)\n",
    "scramble_plays = pd.merge(scramble_plays,df_play,how=\"left\",on = [\"playId\",\"gameId\"])\n",
    "print(f'n° of scramble or sack plays : {len(scramble_plays)}')\n",
    "scramble_plays_wo_PA = scramble_plays[scramble_plays.pff_playAction == 0]\n",
    "print(f'n° of scramble or sack plays w/o play action : {len(scramble_plays_wo_PA)}')\n",
    "print(scramble_plays_wo_PA)\n"
   ]
  },
  {
   "cell_type": "code",
   "execution_count": 6,
   "metadata": {},
   "outputs": [
    {
     "name": "stderr",
     "output_type": "stream",
     "text": [
      "100%|██████████| 1683/1683 [00:08<00:00, 204.00it/s]\n"
     ]
    },
    {
     "name": "stdout",
     "output_type": "stream",
     "text": [
      "      playId      gameId     event  te         Ae  tc         Ac  tsnap  \\\n",
      "0        735  2021090900  scramble  35  49.791600   1  35.821550      5   \n",
      "1        947  2021090900  scramble  32   6.471160  13  21.118500      5   \n",
      "2       1312  2021090900  scramble  19  28.861884  14  21.430820      5   \n",
      "3       1425  2021090900  scramble  25  32.751879  19  42.508076      6   \n",
      "4       1506  2021090900  scramble  39  18.841800  19  23.802860      6   \n",
      "...      ...         ...       ...  ..        ...  ..        ...    ...   \n",
      "1678    4049  2021110100  scramble  24  39.334050   2  31.693500      7   \n",
      "1679    4310  2021110100  scramble  34  27.696650  16  28.547650      6   \n",
      "1680    4363  2021110100  scramble  35  12.143444  16  23.476700      6   \n",
      "1681    4392  2021110100      sack  42  13.393264  33  17.607850      6   \n",
      "1682    4433  2021110100  scramble  47   9.259213  33  10.842546      6   \n",
      "\n",
      "                                        playDescription  quarter  ...  \\\n",
      "0     (2:45) (Shotgun) D.Prescott pass short right t...        1  ...   \n",
      "1     (:05) (Shotgun) T.Brady pass incomplete short ...        1  ...   \n",
      "2     (9:53) T.Brady pass short right to R.Gronkowsk...        2  ...   \n",
      "3     (9:04) D.Prescott pass short right to B.Jarwin...        2  ...   \n",
      "4     (8:16) (Shotgun) D.Prescott pass incomplete de...        2  ...   \n",
      "...                                                 ...      ...  ...   \n",
      "1678  (4:34) (Shotgun) P.Mahomes pass incomplete sho...        4  ...   \n",
      "1679  (1:56) (Shotgun) P.Mahomes sacked at NYG 16 fo...        4  ...   \n",
      "1680  (1:07) (Shotgun) D.Jones pass short right to E...        4  ...   \n",
      "1681  (1:01) (No Huddle, Shotgun) D.Jones sacked at ...        4  ...   \n",
      "1682  (:35) (Shotgun) D.Jones sacked at NYG 14 for -...        4  ...   \n",
      "\n",
      "      absoluteYardlineNumber  offenseFormation        personnelO  \\\n",
      "0                       47.0           SHOTGUN  1 RB, 1 TE, 3 WR   \n",
      "1                       70.0           SHOTGUN  1 RB, 1 TE, 3 WR   \n",
      "2                       12.0        SINGLEBACK  1 RB, 1 TE, 3 WR   \n",
      "3                       71.0        SINGLEBACK  1 RB, 2 TE, 2 WR   \n",
      "4                       85.0           SHOTGUN  1 RB, 1 TE, 3 WR   \n",
      "...                      ...               ...               ...   \n",
      "1678                    91.0           SHOTGUN  1 RB, 1 TE, 3 WR   \n",
      "1679                    18.0           SHOTGUN  1 RB, 1 TE, 3 WR   \n",
      "1680                    35.0           SHOTGUN  1 RB, 1 TE, 3 WR   \n",
      "1681                    38.0           SHOTGUN  1 RB, 1 TE, 3 WR   \n",
      "1682                    30.0           SHOTGUN  1 RB, 1 TE, 3 WR   \n",
      "\n",
      "     defendersInBox        personnelD            dropBackType pff_playAction  \\\n",
      "0               6.0  3 DL, 3 LB, 5 DB  SCRAMBLE_ROLLOUT_RIGHT              1   \n",
      "1               5.0  4 DL, 2 LB, 5 DB             TRADITIONAL              0   \n",
      "2               7.0  4 DL, 2 LB, 5 DB  DESIGNED_ROLLOUT_RIGHT              1   \n",
      "3               7.0  4 DL, 3 LB, 4 DB  SCRAMBLE_ROLLOUT_RIGHT              1   \n",
      "4               7.0  3 DL, 3 LB, 5 DB                     NaN              1   \n",
      "...             ...               ...                     ...            ...   \n",
      "1678            5.0  1 DL, 4 LB, 6 DB  DESIGNED_ROLLOUT_RIGHT              0   \n",
      "1679            4.0  1 DL, 3 LB, 7 DB                SCRAMBLE              0   \n",
      "1680            5.0  4 DL, 1 LB, 6 DB                SCRAMBLE              0   \n",
      "1681            6.0  4 DL, 1 LB, 6 DB             TRADITIONAL              0   \n",
      "1682            6.0  4 DL, 1 LB, 6 DB             TRADITIONAL              0   \n",
      "\n",
      "      pff_passCoverage  pff_passCoverageType      Acrit  \n",
      "0              Cover-2                  Zone  27.035700  \n",
      "1              Cover-2                  Zone  10.826316  \n",
      "2              Cover-1                   Man   3.565350  \n",
      "3              Cover-3                  Zone   2.545750  \n",
      "4              Cover-3                  Zone  14.006329  \n",
      "...                ...                   ...        ...  \n",
      "1678           Cover-2                  Zone  31.575850  \n",
      "1679           Bracket                 Other  18.073750  \n",
      "1680           Cover-2                  Zone  15.696209  \n",
      "1681           Cover-2                  Zone  16.083073  \n",
      "1682          Quarters                  Zone   4.844356  \n",
      "\n",
      "[1683 rows x 39 columns]\n",
      "12.89511945151242\n",
      "7.443234158580517\n"
     ]
    }
   ],
   "source": [
    "scramble_plays[\"Acrit\"] = np.nan\n",
    "for scramble_id in tqdm(scramble_plays.index):\n",
    "\n",
    "    scramble_play = scramble_plays.loc[scramble_id].playId\n",
    "    scramble_game = scramble_plays.loc[scramble_id].gameId\n",
    "\n",
    "    selected_area_features_df = df_area_features[(df_area_features .playId==scramble_play)&(df_area_features.gameId==scramble_game)].copy()\n",
    "    selected_area_t_df = df_area_t[(df_area_t.playId==scramble_play)&(df_area_t.gameId==scramble_game)].copy()\n",
    "\n",
    "    Acrit = np.min(selected_area_t_df[selected_area_t_df.frameId <= int(selected_area_features_df.te)].Area)\n",
    "    scramble_plays.loc[scramble_id,\"Acrit\"] = Acrit\n",
    "print(scramble_plays)\n",
    "print(scramble_plays.Acrit.mean())\n",
    "print(scramble_plays.Acrit.std())\n"
   ]
  },
  {
   "cell_type": "code",
   "execution_count": 7,
   "metadata": {},
   "outputs": [
    {
     "name": "stderr",
     "output_type": "stream",
     "text": [
      "/tmp/ipykernel_11708/2300602930.py:1: SettingWithCopyWarning:\n",
      "\n",
      "\n",
      "A value is trying to be set on a copy of a slice from a DataFrame.\n",
      "Try using .loc[row_indexer,col_indexer] = value instead\n",
      "\n",
      "See the caveats in the documentation: https://pandas.pydata.org/pandas-docs/stable/user_guide/indexing.html#returning-a-view-versus-a-copy\n",
      "\n"
     ]
    },
    {
     "name": "stdout",
     "output_type": "stream",
     "text": [
      "1127\n"
     ]
    },
    {
     "name": "stderr",
     "output_type": "stream",
     "text": [
      "100%|██████████| 1127/1127 [00:05<00:00, 189.53it/s]"
     ]
    },
    {
     "name": "stdout",
     "output_type": "stream",
     "text": [
      "      playId      gameId     event  te         Ae  tc         Ac  tsnap  \\\n",
      "1        947  2021090900  scramble  32   6.471160  13  21.118500      5   \n",
      "5       2032  2021090900  scramble  33  13.483074  24  23.139350      5   \n",
      "6       2279  2021090900  scramble  30   8.196493  12  19.694750      5   \n",
      "7       2298  2021090900  scramble  36   4.706347  18  24.797850      5   \n",
      "8       2330  2021090900  scramble  37  23.306400  17  22.632700      5   \n",
      "...      ...         ...       ...  ..        ...  ..        ...    ...   \n",
      "1678    4049  2021110100  scramble  24  39.334050   2  31.693500      7   \n",
      "1679    4310  2021110100  scramble  34  27.696650  16  28.547650      6   \n",
      "1680    4363  2021110100  scramble  35  12.143444  16  23.476700      6   \n",
      "1681    4392  2021110100      sack  42  13.393264  33  17.607850      6   \n",
      "1682    4433  2021110100  scramble  47   9.259213  33  10.842546      6   \n",
      "\n",
      "                                        playDescription  quarter  ...  \\\n",
      "1     (:05) (Shotgun) T.Brady pass incomplete short ...        1  ...   \n",
      "5     (2:45) (No Huddle, Shotgun) T.Brady pass deep ...        2  ...   \n",
      "6     (1:11) (Shotgun) D.Prescott sacked at TB 33 fo...        2  ...   \n",
      "7     (:35) (No Huddle, Shotgun) D.Prescott scramble...        2  ...   \n",
      "8     (:28) (Shotgun) D.Prescott scrambles left end ...        2  ...   \n",
      "...                                                 ...      ...  ...   \n",
      "1678  (4:34) (Shotgun) P.Mahomes pass incomplete sho...        4  ...   \n",
      "1679  (1:56) (Shotgun) P.Mahomes sacked at NYG 16 fo...        4  ...   \n",
      "1680  (1:07) (Shotgun) D.Jones pass short right to E...        4  ...   \n",
      "1681  (1:01) (No Huddle, Shotgun) D.Jones sacked at ...        4  ...   \n",
      "1682  (:35) (Shotgun) D.Jones sacked at NYG 14 for -...        4  ...   \n",
      "\n",
      "      absoluteYardlineNumber  offenseFormation        personnelO  \\\n",
      "1                       70.0           SHOTGUN  1 RB, 1 TE, 3 WR   \n",
      "5                       57.0           SHOTGUN  1 RB, 1 TE, 3 WR   \n",
      "6                       89.0           SHOTGUN  1 RB, 1 TE, 3 WR   \n",
      "7                       77.0           SHOTGUN  1 RB, 1 TE, 3 WR   \n",
      "8                       67.0             EMPTY  1 RB, 1 TE, 3 WR   \n",
      "...                      ...               ...               ...   \n",
      "1678                    91.0           SHOTGUN  1 RB, 1 TE, 3 WR   \n",
      "1679                    18.0           SHOTGUN  1 RB, 1 TE, 3 WR   \n",
      "1680                    35.0           SHOTGUN  1 RB, 1 TE, 3 WR   \n",
      "1681                    38.0           SHOTGUN  1 RB, 1 TE, 3 WR   \n",
      "1682                    30.0           SHOTGUN  1 RB, 1 TE, 3 WR   \n",
      "\n",
      "     defendersInBox        personnelD            dropBackType pff_playAction  \\\n",
      "1               5.0  4 DL, 2 LB, 5 DB             TRADITIONAL              0   \n",
      "5               6.0  4 DL, 2 LB, 5 DB             TRADITIONAL              0   \n",
      "6               6.0  2 DL, 4 LB, 5 DB                SCRAMBLE              0   \n",
      "7               6.0  3 DL, 3 LB, 5 DB                     NaN              0   \n",
      "8               5.0  3 DL, 3 LB, 5 DB                SCRAMBLE              0   \n",
      "...             ...               ...                     ...            ...   \n",
      "1678            5.0  1 DL, 4 LB, 6 DB  DESIGNED_ROLLOUT_RIGHT              0   \n",
      "1679            4.0  1 DL, 3 LB, 7 DB                SCRAMBLE              0   \n",
      "1680            5.0  4 DL, 1 LB, 6 DB                SCRAMBLE              0   \n",
      "1681            6.0  4 DL, 1 LB, 6 DB             TRADITIONAL              0   \n",
      "1682            6.0  4 DL, 1 LB, 6 DB             TRADITIONAL              0   \n",
      "\n",
      "      pff_passCoverage  pff_passCoverageType      Acrit  \n",
      "1              Cover-2                  Zone  10.826316  \n",
      "5                2-Man                   Man  16.526450  \n",
      "6             Quarters                  Zone  11.079300  \n",
      "7             Quarters                  Zone   9.382500  \n",
      "8             Quarters                  Zone  13.292500  \n",
      "...                ...                   ...        ...  \n",
      "1678           Cover-2                  Zone  31.575850  \n",
      "1679           Bracket                 Other  18.073750  \n",
      "1680           Cover-2                  Zone  15.696209  \n",
      "1681           Cover-2                  Zone  16.083073  \n",
      "1682          Quarters                  Zone   4.844356  \n",
      "\n",
      "[1127 rows x 39 columns]\n",
      "12.926320733678466\n",
      "6.201772038594931\n"
     ]
    },
    {
     "name": "stderr",
     "output_type": "stream",
     "text": [
      "\n"
     ]
    }
   ],
   "source": [
    "scramble_plays_wo_PA[\"Acrit\"] = np.nan\n",
    "print(len(scramble_plays_wo_PA))\n",
    "for scramble_id in tqdm(scramble_plays_wo_PA.index):\n",
    "\n",
    "    scramble_play = scramble_plays_wo_PA.loc[scramble_id].playId\n",
    "    scramble_game = scramble_plays_wo_PA.loc[scramble_id].gameId\n",
    "\n",
    "    selected_area_features_df = df_area_features[(df_area_features .playId==scramble_play)&(df_area_features.gameId==scramble_game)].copy()\n",
    "    selected_area_t_df = df_area_t[(df_area_t.playId==scramble_play)&(df_area_t.gameId==scramble_game)].copy()\n",
    "\n",
    "    Acrit = np.min(selected_area_t_df[selected_area_t_df.frameId <= int(selected_area_features_df.te)].Area)\n",
    "    scramble_plays_wo_PA.loc[scramble_id,\"Acrit\"] = Acrit\n",
    "print(scramble_plays_wo_PA)\n",
    "print(scramble_plays_wo_PA.Acrit.mean())\n",
    "print(scramble_plays_wo_PA.Acrit.std())"
   ]
  },
  {
   "cell_type": "code",
   "execution_count": 9,
   "metadata": {},
   "outputs": [
    {
     "name": "stdout",
     "output_type": "stream",
     "text": [
      "Total n° of plays : 8557\n",
      "n° of pass plays : 5361\n",
      "n° of scramble or sack plays w/o play action : 4326\n",
      "      playId      gameId event  te         Ae  tc         Ac  tsnap  \\\n",
      "0         97  2021090900  pass  35  12.237518  25  21.761567      5   \n",
      "1        137  2021090900  pass  26  16.305513  16  26.883350      6   \n",
      "2        187  2021090900  pass  23  18.312900  15  23.691000      5   \n",
      "4        349  2021090900  pass  27  14.784734  13  20.197600      6   \n",
      "5        410  2021090900  pass  17  15.032565   1  20.318050      5   \n",
      "...      ...         ...   ...  ..        ...  ..        ...    ...   \n",
      "5354    3392  2021110100  pass  28  11.988250  14  28.282550      6   \n",
      "5356    3572  2021110100  pass  33   6.898700  14  29.877850      6   \n",
      "5358    4071  2021110100  pass  32  15.314200  18  30.096100      6   \n",
      "5359    4113  2021110100  pass  27  19.062700  15  26.390000      6   \n",
      "5360    4411  2021110100  pass  27  12.437731  13  23.665450      6   \n",
      "\n",
      "                                        playDescription  quarter  ...  \\\n",
      "0     (13:33) (Shotgun) T.Brady pass incomplete deep...        1  ...   \n",
      "1     (13:18) (Shotgun) D.Prescott pass deep left to...        1  ...   \n",
      "2     (12:23) (Shotgun) D.Prescott pass short middle...        1  ...   \n",
      "4     (9:46) (Shotgun) D.Prescott pass incomplete sh...        1  ...   \n",
      "5     (8:53) (Shotgun) T.Brady pass short middle to ...        1  ...   \n",
      "...                                                 ...      ...  ...   \n",
      "5354  (13:56) (Shotgun) P.Mahomes pass short middle ...        4  ...   \n",
      "5356  (11:04) (Shotgun) P.Mahomes pass short middle ...        4  ...   \n",
      "5358  (4:29) (Shotgun) P.Mahomes pass short right in...        4  ...   \n",
      "5359  (4:22) (Shotgun) P.Mahomes pass short right to...        4  ...   \n",
      "5360  (:39) (No Huddle, Shotgun) D.Jones pass incomp...        4  ...   \n",
      "\n",
      "      foulNFLId3  absoluteYardlineNumber offenseFormation        personnelO  \\\n",
      "0            NaN                    43.0          SHOTGUN  1 RB, 1 TE, 3 WR   \n",
      "1            NaN                   108.0            EMPTY  1 RB, 2 TE, 2 WR   \n",
      "2            NaN                    76.0          SHOTGUN  0 RB, 2 TE, 3 WR   \n",
      "4            NaN                    54.0          SHOTGUN  1 RB, 1 TE, 3 WR   \n",
      "5            NaN                    21.0            EMPTY  1 RB, 1 TE, 3 WR   \n",
      "...          ...                     ...              ...               ...   \n",
      "5354         NaN                    82.0            EMPTY  1 RB, 1 TE, 3 WR   \n",
      "5356         NaN                    38.0          SHOTGUN  1 RB, 1 TE, 3 WR   \n",
      "5358         NaN                    91.0          SHOTGUN  1 RB, 1 TE, 3 WR   \n",
      "5359         NaN                    86.0          SHOTGUN  1 RB, 1 TE, 3 WR   \n",
      "5360         NaN                    30.0          SHOTGUN  1 RB, 1 TE, 3 WR   \n",
      "\n",
      "     defendersInBox        personnelD dropBackType  pff_playAction  \\\n",
      "0               6.0  4 DL, 2 LB, 5 DB  TRADITIONAL               0   \n",
      "1               6.0  4 DL, 4 LB, 3 DB  TRADITIONAL               0   \n",
      "2               6.0  3 DL, 3 LB, 5 DB  TRADITIONAL               0   \n",
      "4               7.0  3 DL, 4 LB, 4 DB  TRADITIONAL               0   \n",
      "5               6.0  4 DL, 2 LB, 5 DB  TRADITIONAL               0   \n",
      "...             ...               ...          ...             ...   \n",
      "5354            5.0  2 DL, 4 LB, 5 DB  TRADITIONAL               0   \n",
      "5356            6.0  2 DL, 3 LB, 6 DB  TRADITIONAL               0   \n",
      "5358            4.0  1 DL, 4 LB, 6 DB          NaN               0   \n",
      "5359            4.0  1 DL, 4 LB, 6 DB  TRADITIONAL               0   \n",
      "5360            5.0  4 DL, 1 LB, 6 DB  TRADITIONAL               0   \n",
      "\n",
      "      pff_passCoverage pff_passCoverageType  \n",
      "0              Cover-1                  Man  \n",
      "1              Cover-3                 Zone  \n",
      "2              Cover-3                 Zone  \n",
      "4              Cover-3                 Zone  \n",
      "5              Cover-1                  Man  \n",
      "...                ...                  ...  \n",
      "5354          Quarters                 Zone  \n",
      "5356           Cover-3                 Zone  \n",
      "5358           Cover-2                 Zone  \n",
      "5359           Cover-2                 Zone  \n",
      "5360           Cover-2                 Zone  \n",
      "\n",
      "[4326 rows x 38 columns]\n"
     ]
    }
   ],
   "source": [
    "print(f'Total n° of plays : {len(df_play)}')\n",
    "pass_mask = \"event == 'pass'\"\n",
    "pass_plays = df_area_features.query(pass_mask)\n",
    "pass_plays = pd.merge(pass_plays,df_play,how=\"left\",on = [\"playId\",\"gameId\"])\n",
    "print(f'n° of pass plays : {len(pass_plays)}')\n",
    "pass_plays_wo_PA = pass_plays[pass_plays.pff_playAction == 0]\n",
    "print(f'n° of scramble or sack plays w/o play action : {len(pass_plays_wo_PA)}')\n",
    "print(pass_plays_wo_PA)"
   ]
  },
  {
   "cell_type": "code",
   "execution_count": 10,
   "metadata": {},
   "outputs": [
    {
     "name": "stdout",
     "output_type": "stream",
     "text": [
      "19.35793970735675\n",
      "11.729398514231473\n",
      "16.798856086059942\n",
      "7.4430277158637965\n"
     ]
    }
   ],
   "source": [
    "print(pass_plays.Ae.mean())\n",
    "print(pass_plays.Ae.std())\n",
    "\n",
    "print(pass_plays_wo_PA.Ae.mean())\n",
    "print(pass_plays_wo_PA.Ae.std())"
   ]
  },
  {
   "cell_type": "code",
   "execution_count": 17,
   "metadata": {},
   "outputs": [
    {
     "data": {
      "image/png": "[encoded data removed]",
      "text/plain": [
       "<Figure size 432x288 with 1 Axes>"
      ]
     },
     "metadata": {
      "needs_background": "light"
     },
     "output_type": "display_data"
    }
   ],
   "source": [
    "import seaborn as sns\n",
    "sns.kdeplot(scramble_plays_wo_PA.Acrit)\n",
    "sns.kdeplot(pass_plays_wo_PA.Ae)\n",
    "plt.xlabel(\"Area\")\n",
    "plt.show()"
   ]
  },
  {
   "cell_type": "code",
   "execution_count": 23,
   "metadata": {},
   "outputs": [
    {
     "name": "stdout",
     "output_type": "stream",
     "text": [
      "p-value for normality test Acrit on scramble plays : 7.473619333378096e-07\n",
      "p-value for normality test Ae on pass plays : 0.0\n",
      "Statistic for T-test : -16.07306857570401\n",
      "p-value for T-test : 7.841961880885834e-57\n"
     ]
    }
   ],
   "source": [
    "from scipy.stats import normaltest\n",
    "from scipy.stats import ttest_ind\n",
    "test = normaltest(scramble_plays_wo_PA.Acrit)\n",
    "print(f\"p-value for normality test Acrit on scramble plays : {test.pvalue}\")\n",
    "test = normaltest(pass_plays_wo_PA.Ae)\n",
    "print(f\"p-value for normality test Ae on pass plays : {test.pvalue}\")\n",
    "\n",
    "test = ttest_ind(scramble_plays_wo_PA.Acrit, pass_plays_wo_PA.Ae)\n",
    "print(f\"Statistic for T-test : {test.statistic}\")\n",
    "print(f\"p-value for T-test : {test.pvalue}\")"
   ]
  }
 ],
 "metadata": {
  "kernelspec": {
   "display_name": "Python 3.9.13 ('base')",
   "language": "python",
   "name": "python3"
  },
  "language_info": {
   "codemirror_mode": {
    "name": "ipython",
    "version": 3
   },
   "file_extension": ".py",
   "mimetype": "text/x-python",
   "name": "python",
   "nbconvert_exporter": "python",
   "pygments_lexer": "ipython3",
   "version": "3.9.13"
  },
  "orig_nbformat": 4,
  "vscode": {
   "interpreter": {
    "hash": "637840f8cdf645a68612c9b8a0ce367bca1cd67e3939fcc1f9978e1427999ab1"
   }
  }
 },
 "nbformat": 4,
 "nbformat_minor": 2
}
